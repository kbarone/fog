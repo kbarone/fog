{
 "cells": [
  {
   "cell_type": "markdown",
   "id": "101570ab-4fdf-4edf-ae16-a8e94c3e370a",
   "metadata": {},
   "source": [
    "# Feeder\n",
    "## Contents\n",
    "1) Feed and combine DeFog/TDCSFog files\n",
    "2) Join on metadata\n",
    "3) Join on subjects data\n",
    "4) Combine DeFog and TDCSFog into complete fog training data."
   ]
  },
  {
   "cell_type": "code",
   "execution_count": 1,
   "id": "8628dc29-f078-431b-90ee-14feb84f1ebf",
   "metadata": {},
   "outputs": [],
   "source": [
    "import os \n",
    "from utils.utils import *\n",
    "from pyspark.sql.functions import lit\n",
    "spark = SparkSession.builder.appName(\"PySpark Cloud Test\").getOrCreate()"
   ]
  },
  {
   "cell_type": "code",
   "execution_count": 2,
   "id": "21105cae-c88e-4d1d-9fb9-68a72f6a12fa",
   "metadata": {},
   "outputs": [],
   "source": [
    "spark.conf.set( \"spark.sql.crossJoin.enabled\" , \"true\" ) # enable left outer join"
   ]
  },
  {
   "cell_type": "code",
   "execution_count": 3,
   "id": "b1d8e582-003c-444c-a44a-b60dbab5e01b",
   "metadata": {},
   "outputs": [
    {
     "data": {
      "text/plain": [
       "[('spark.sql.catalogImplementation', 'hive'),\n",
       " ('spark.rpc.message.maxSize', '512'),\n",
       " ('spark.rdd.compress', 'True'),\n",
       " ('spark.driver.host', '89b468a19a52'),\n",
       " ('spark.serializer.objectStreamReset', '100'),\n",
       " ('spark.driver.port', '42867'),\n",
       " ('spark.master', 'local[*]'),\n",
       " ('spark.executor.id', 'driver'),\n",
       " ('spark.submit.deployMode', 'client'),\n",
       " ('spark.app.id', 'local-1683233390695'),\n",
       " ('spark.app.name', 'PySpark Cloud Test'),\n",
       " ('spark.ui.showConsoleProgress', 'true')]"
      ]
     },
     "execution_count": 3,
     "metadata": {},
     "output_type": "execute_result"
    }
   ],
   "source": [
    "spark.sparkContext.getConf().getAll()"
   ]
  },
  {
   "cell_type": "markdown",
   "id": "235706f5-3939-4f9f-9924-f5b9c1aa557c",
   "metadata": {},
   "source": [
    "## Feed and Combine DeFog/TDCSFog files"
   ]
  },
  {
   "cell_type": "code",
   "execution_count": 4,
   "id": "e2f3cedd-dbe6-4d22-af4a-e06f982625ab",
   "metadata": {},
   "outputs": [],
   "source": [
    "defog_path = 'parkinsons_data/train/defog/'\n",
    "tdcsfog_path = 'parkinsons_data/train/tdcsfog/'\n",
    "defog_files = list_blobs(\"msca-bdp-student-gcs\", string_match=defog_path)\n",
    "tdcsfog_files = list_blobs(\"msca-bdp-student-gcs\", string_match=tdcsfog_path)"
   ]
  },
  {
   "cell_type": "code",
   "execution_count": 5,
   "id": "9d07130f-8601-4447-8422-2698fecd831d",
   "metadata": {},
   "outputs": [
    {
     "name": "stderr",
     "output_type": "stream",
     "text": [
      "                                                                                \r"
     ]
    }
   ],
   "source": [
    "defog_md = spark.read.csv(\"gs://msca-bdp-student-gcs/parkinsons_data/defog_metadata.csv\", header=True)\n",
    "tdcsfog_md = spark.read.csv(\"gs://msca-bdp-student-gcs/parkinsons_data/tdcsfog_metadata.csv\", header=True)\n",
    "subjects = spark.read.csv(\"gs://msca-bdp-student-gcs/parkinsons_data/subjects.csv\", header=True)"
   ]
  },
  {
   "cell_type": "code",
   "execution_count": 6,
   "id": "ae1bdb83-99ad-4a88-9786-f0e847cfb4b9",
   "metadata": {},
   "outputs": [
    {
     "name": "stdout",
     "output_type": "stream",
     "text": [
      "File 1 of 91\n",
      "File 11 of 91\n",
      "File 21 of 91\n",
      "File 31 of 91\n",
      "File 41 of 91\n",
      "File 51 of 91\n",
      "File 61 of 91\n",
      "File 71 of 91\n",
      "File 81 of 91\n",
      "File 91 of 91\n"
     ]
    }
   ],
   "source": [
    "defog = feed_files(defog_files, prefix=defog_path, v=1, spark=spark)"
   ]
  },
  {
   "cell_type": "code",
   "execution_count": 7,
   "id": "e979f603-2c1f-45fa-95dd-6d0440b41782",
   "metadata": {},
   "outputs": [
    {
     "name": "stdout",
     "output_type": "stream",
     "text": [
      "File 1 of 833\n",
      "File 11 of 833\n",
      "File 21 of 833\n",
      "File 31 of 833\n",
      "File 41 of 833\n",
      "File 51 of 833\n",
      "File 61 of 833\n",
      "File 71 of 833\n",
      "File 81 of 833\n",
      "File 91 of 833\n",
      "File 101 of 833\n",
      "File 111 of 833\n",
      "File 121 of 833\n",
      "File 131 of 833\n",
      "File 141 of 833\n",
      "File 151 of 833\n",
      "File 161 of 833\n",
      "File 171 of 833\n",
      "File 181 of 833\n",
      "File 191 of 833\n",
      "File 201 of 833\n",
      "File 211 of 833\n",
      "File 221 of 833\n",
      "File 231 of 833\n",
      "File 241 of 833\n",
      "File 251 of 833\n",
      "File 261 of 833\n",
      "File 271 of 833\n",
      "File 281 of 833\n",
      "File 291 of 833\n",
      "File 301 of 833\n",
      "File 311 of 833\n",
      "File 321 of 833\n",
      "File 331 of 833\n",
      "File 341 of 833\n",
      "File 351 of 833\n",
      "File 361 of 833\n",
      "File 371 of 833\n",
      "File 381 of 833\n",
      "File 391 of 833\n",
      "File 401 of 833\n",
      "File 411 of 833\n",
      "File 421 of 833\n",
      "File 431 of 833\n",
      "File 441 of 833\n",
      "File 451 of 833\n",
      "File 461 of 833\n",
      "File 471 of 833\n",
      "File 481 of 833\n",
      "File 491 of 833\n",
      "File 501 of 833\n",
      "File 511 of 833\n",
      "File 521 of 833\n",
      "File 531 of 833\n",
      "File 541 of 833\n",
      "File 551 of 833\n",
      "File 561 of 833\n",
      "File 571 of 833\n",
      "File 581 of 833\n",
      "File 591 of 833\n",
      "File 601 of 833\n",
      "File 611 of 833\n",
      "File 621 of 833\n",
      "File 631 of 833\n",
      "File 641 of 833\n",
      "File 651 of 833\n",
      "File 661 of 833\n",
      "File 671 of 833\n",
      "File 681 of 833\n",
      "File 691 of 833\n",
      "File 701 of 833\n",
      "File 711 of 833\n",
      "File 721 of 833\n",
      "File 731 of 833\n",
      "File 741 of 833\n",
      "File 751 of 833\n",
      "File 761 of 833\n",
      "File 771 of 833\n",
      "File 781 of 833\n",
      "File 791 of 833\n",
      "File 801 of 833\n",
      "File 811 of 833\n",
      "File 821 of 833\n",
      "File 831 of 833\n"
     ]
    }
   ],
   "source": [
    "tdcsfog = feed_files(tdcsfog_files, prefix=tdcsfog_path, v=1, spark=spark)"
   ]
  },
  {
   "cell_type": "code",
   "execution_count": 13,
   "id": "1e6c6178-1709-450b-a4cc-6d0a29d51c35",
   "metadata": {},
   "outputs": [],
   "source": [
    "defog = defog.withColumn(\"source_defog\", lit(1))\n",
    "tdcsfog = tdcsfog.withColumn(\"source_defog\", lit(0))"
   ]
  },
  {
   "cell_type": "code",
   "execution_count": 14,
   "id": "621cde93-5b0d-4494-bc65-0cc46f51fbf5",
   "metadata": {},
   "outputs": [],
   "source": [
    "defog_count = defog.count()\n",
    "tdcsfog_count = tdcsfog.count()"
   ]
  },
  {
   "cell_type": "code",
   "execution_count": 20,
   "id": "779d15cd-a02f-4c23-962f-88d5701b3476",
   "metadata": {},
   "outputs": [
    {
     "name": "stdout",
     "output_type": "stream",
     "text": [
      "+----+----+------------------+-----+---------------+----+-------+-----+-----+----------+------------+\n",
      "|Time|AccV|             AccML|AccAP|StartHesitation|Turn|Walking|Valid| Task|        Id|source_defog|\n",
      "+----+----+------------------+-----+---------------+----+-------+-----+-----+----------+------------+\n",
      "|   0|-1.0|0.0441294600297506|-0.25|              0|   0|      0|false|false|02ea782681|           1|\n",
      "|   1|-1.0|0.0344313599752663|-0.25|              0|   0|      0|false|false|02ea782681|           1|\n",
      "|   2|-1.0|           0.03125|-0.25|              0|   0|      0|false|false|02ea782681|           1|\n",
      "|   3|-1.0|           0.03125|-0.25|              0|   0|      0|false|false|02ea782681|           1|\n",
      "|   4|-1.0|           0.03125|-0.25|              0|   0|      0|false|false|02ea782681|           1|\n",
      "+----+----+------------------+-----+---------------+----+-------+-----+-----+----------+------------+\n",
      "only showing top 5 rows\n",
      "\n",
      "+----+-----------------+-----------------+-----------------+---------------+----+-------+----------+------------+\n",
      "|Time|             AccV|            AccML|            AccAP|StartHesitation|Turn|Walking|        Id|source_defog|\n",
      "+----+-----------------+-----------------+-----------------+---------------+----+-------+----------+------------+\n",
      "|   0|-9.53393930253288|0.566321631981499|-1.41352531246173|              0|   0|      0|003f117e14|           0|\n",
      "|   1|-9.53614029997918|0.564136952175035| -1.4406209993301|              0|   0|      0|003f117e14|           0|\n",
      "|   2|-9.52934530245762|0.561764770716807|-1.42933154059721|              0|   0|      0|003f117e14|           0|\n",
      "|   3|-9.53123898558684|0.564227314497224|-1.41548975954121|              0|   0|      0|003f117e14|           0|\n",
      "|   4|-9.54082487327138|0.561853506148896|-1.42947071667569|              0|   0|      0|003f117e14|           0|\n",
      "+----+-----------------+-----------------+-----------------+---------------+----+-------+----------+------------+\n",
      "only showing top 5 rows\n",
      "\n"
     ]
    }
   ],
   "source": [
    "defog.show(5)\n",
    "tdcsfog.show(5)"
   ]
  },
  {
   "cell_type": "code",
   "execution_count": 19,
   "id": "68ccf755-8b56-4f0b-9bc5-9111c7b46326",
   "metadata": {},
   "outputs": [
    {
     "name": "stdout",
     "output_type": "stream",
     "text": [
      "Number of defog observations: 162907\n",
      "Number of tdcsfog observations: 4682\n"
     ]
    }
   ],
   "source": [
    "print(f\"Number of defog observations: {defog_count}\")\n",
    "print(f\"Number of tdcsfog observations: {tdcsfog_count}\")"
   ]
  },
  {
   "cell_type": "markdown",
   "id": "c2bcd93c-a096-42e2-bdaf-b82038989010",
   "metadata": {},
   "source": [
    "## Join on Meta Data"
   ]
  },
  {
   "cell_type": "code",
   "execution_count": 18,
   "id": "31639589-5a9b-4582-99d2-930dc916c092",
   "metadata": {},
   "outputs": [
    {
     "name": "stdout",
     "output_type": "stream",
     "text": [
      "+----------+-------+-----+----------+\n",
      "|        Id|Subject|Visit|Medication|\n",
      "+----------+-------+-----+----------+\n",
      "|02ab235146| ab54e1|    2|        on|\n",
      "|02ea782681| bf608b|    2|        on|\n",
      "|06414383cf| c0b71e|    2|       off|\n",
      "|092b4c1819| b6a627|    1|       off|\n",
      "|0a900ed8a2| b7bd52|    2|        on|\n",
      "+----------+-------+-----+----------+\n",
      "only showing top 5 rows\n",
      "\n"
     ]
    }
   ],
   "source": [
    "defog_md.show(5)"
   ]
  },
  {
   "cell_type": "code",
   "execution_count": 23,
   "id": "e53f2cab-4649-40ee-b570-d0af91416648",
   "metadata": {},
   "outputs": [
    {
     "name": "stdout",
     "output_type": "stream",
     "text": [
      "+----------+-------+-----+----+----------+\n",
      "|        Id|Subject|Visit|Test|Medication|\n",
      "+----------+-------+-----+----+----------+\n",
      "|003f117e14| 13abfd|    3|   2|        on|\n",
      "|009ee11563| d81e3a|    4|   2|        on|\n",
      "|011322847a| 203e85|    2|   2|        on|\n",
      "|01d0fe7266| 203e85|    2|   1|       off|\n",
      "|024418ba39| cecfb8|   19|   3|        on|\n",
      "+----------+-------+-----+----+----------+\n",
      "only showing top 5 rows\n",
      "\n"
     ]
    }
   ],
   "source": [
    "tdcsfog_md.show(5)"
   ]
  },
  {
   "cell_type": "code",
   "execution_count": 26,
   "id": "980c16bc-7685-4792-b448-5ebda771bd52",
   "metadata": {},
   "outputs": [
    {
     "name": "stdout",
     "output_type": "stream",
     "text": [
      "+----------+----+----+------------------+-----+---------------+----+-------+-----+-----+------------+-------+-----+----------+\n",
      "|        Id|Time|AccV|             AccML|AccAP|StartHesitation|Turn|Walking|Valid| Task|source_defog|Subject|Visit|Medication|\n",
      "+----------+----+----+------------------+-----+---------------+----+-------+-----+-----+------------+-------+-----+----------+\n",
      "|02ea782681|   0|-1.0|0.0441294600297506|-0.25|              0|   0|      0|false|false|           1| bf608b|    2|        on|\n",
      "|02ea782681|   1|-1.0|0.0344313599752663|-0.25|              0|   0|      0|false|false|           1| bf608b|    2|        on|\n",
      "|02ea782681|   2|-1.0|           0.03125|-0.25|              0|   0|      0|false|false|           1| bf608b|    2|        on|\n",
      "|02ea782681|   3|-1.0|           0.03125|-0.25|              0|   0|      0|false|false|           1| bf608b|    2|        on|\n",
      "|02ea782681|   4|-1.0|           0.03125|-0.25|              0|   0|      0|false|false|           1| bf608b|    2|        on|\n",
      "+----------+----+----+------------------+-----+---------------+----+-------+-----+-----+------------+-------+-----+----------+\n",
      "only showing top 5 rows\n",
      "\n"
     ]
    }
   ],
   "source": [
    "defog1 = defog.join(defog_md, on=\"Id\", how=\"left\")\n",
    "defog1.show(5)"
   ]
  },
  {
   "cell_type": "code",
   "execution_count": 27,
   "id": "17226045-e4e6-4201-9c71-fe71ea0c13bd",
   "metadata": {},
   "outputs": [
    {
     "name": "stdout",
     "output_type": "stream",
     "text": [
      "+----------+----+-----------------+-----------------+-----------------+---------------+----+-------+------------+-------+-----+----+----------+\n",
      "|        Id|Time|             AccV|            AccML|            AccAP|StartHesitation|Turn|Walking|source_defog|Subject|Visit|Test|Medication|\n",
      "+----------+----+-----------------+-----------------+-----------------+---------------+----+-------+------------+-------+-----+----+----------+\n",
      "|003f117e14|   0|-9.53393930253288|0.566321631981499|-1.41352531246173|              0|   0|      0|           0| 13abfd|    3|   2|        on|\n",
      "|003f117e14|   1|-9.53614029997918|0.564136952175035| -1.4406209993301|              0|   0|      0|           0| 13abfd|    3|   2|        on|\n",
      "|003f117e14|   2|-9.52934530245762|0.561764770716807|-1.42933154059721|              0|   0|      0|           0| 13abfd|    3|   2|        on|\n",
      "|003f117e14|   3|-9.53123898558684|0.564227314497224|-1.41548975954121|              0|   0|      0|           0| 13abfd|    3|   2|        on|\n",
      "|003f117e14|   4|-9.54082487327138|0.561853506148896|-1.42947071667569|              0|   0|      0|           0| 13abfd|    3|   2|        on|\n",
      "+----------+----+-----------------+-----------------+-----------------+---------------+----+-------+------------+-------+-----+----+----------+\n",
      "only showing top 5 rows\n",
      "\n"
     ]
    }
   ],
   "source": [
    "tdcsfog1 = tdcsfog.join(tdcsfog_md, on=\"Id\", how=\"left\")\n",
    "tdcsfog1.show(5)"
   ]
  },
  {
   "cell_type": "code",
   "execution_count": 28,
   "id": "0c86ecbf-caae-4a2e-ac2e-0eb36133a9df",
   "metadata": {},
   "outputs": [
    {
     "name": "stdout",
     "output_type": "stream",
     "text": [
      "Does defog post-join df have same number of observations as original? --> True\n",
      "Does tdcsfog post-join df have same number of observations as original? --> True\n"
     ]
    }
   ],
   "source": [
    "print(f\"Does defog post-join df have same number of observations as original? --> {defog1.count() == defog_count}\")\n",
    "print(f\"Does tdcsfog post-join df have same number of observations as original? --> {tdcsfog1.count() == tdcsfog_count}\")"
   ]
  },
  {
   "cell_type": "markdown",
   "id": "d5a70116-0013-4237-9b6d-1d33285a1df6",
   "metadata": {},
   "source": [
    "## Join on Subjects Meta Data"
   ]
  },
  {
   "cell_type": "code",
   "execution_count": 41,
   "id": "3cef501b-c0b6-4fec-87dc-8bc2af249440",
   "metadata": {},
   "outputs": [],
   "source": [
    "defog2 = defog1.join(subjects, on=[\"Subject\", \"Visit\"])\n",
    "tdcsfog2 = tdcsfog1.join(subjects.drop(\"Visit\"), on=[\"Subject\"]) # \"Visit\" field not available for tdcs subjects "
   ]
  },
  {
   "cell_type": "code",
   "execution_count": 42,
   "id": "8b134417-f5c5-4425-a0d1-ed60ba8f203e",
   "metadata": {},
   "outputs": [
    {
     "name": "stdout",
     "output_type": "stream",
     "text": [
      "Does defog post-join #2 df have same number of observations as original? --> True\n",
      "Does tdcsfog post-join #2 df have same number of observations as original? --> True\n"
     ]
    }
   ],
   "source": [
    "print(f\"Does defog post-join #2 df have same number of observations as original? --> {defog2.count() == defog_count}\")\n",
    "print(f\"Does tdcsfog post-join #2 df have same number of observations as original? --> {tdcsfog2.count() == tdcsfog_count}\")"
   ]
  },
  {
   "cell_type": "code",
   "execution_count": 43,
   "id": "0fafdebd-318a-49f2-b294-ecf37dc96c81",
   "metadata": {},
   "outputs": [
    {
     "name": "stdout",
     "output_type": "stream",
     "text": [
      "+-------+-----+----------+----+----+------------------+-----+---------------+----+-------+-----+-----+------------+----------+---+---+------------+-----------+------------+-----+\n",
      "|Subject|Visit|        Id|Time|AccV|             AccML|AccAP|StartHesitation|Turn|Walking|Valid| Task|source_defog|Medication|Age|Sex|YearsSinceDx|UPDRSIII_On|UPDRSIII_Off|NFOGQ|\n",
      "+-------+-----+----------+----+----+------------------+-----+---------------+----+-------+-----+-----+------------+----------+---+---+------------+-----------+------------+-----+\n",
      "| bf608b|    2|02ea782681|   0|-1.0|0.0441294600297506|-0.25|              0|   0|      0|false|false|           1|        on| 67|  M|         7.0|         14|          57|   19|\n",
      "| bf608b|    2|02ea782681|   1|-1.0|0.0344313599752663|-0.25|              0|   0|      0|false|false|           1|        on| 67|  M|         7.0|         14|          57|   19|\n",
      "| bf608b|    2|02ea782681|   2|-1.0|           0.03125|-0.25|              0|   0|      0|false|false|           1|        on| 67|  M|         7.0|         14|          57|   19|\n",
      "| bf608b|    2|02ea782681|   3|-1.0|           0.03125|-0.25|              0|   0|      0|false|false|           1|        on| 67|  M|         7.0|         14|          57|   19|\n",
      "| bf608b|    2|02ea782681|   4|-1.0|           0.03125|-0.25|              0|   0|      0|false|false|           1|        on| 67|  M|         7.0|         14|          57|   19|\n",
      "+-------+-----+----------+----+----+------------------+-----+---------------+----+-------+-----+-----+------------+----------+---+---+------------+-----------+------------+-----+\n",
      "only showing top 5 rows\n",
      "\n"
     ]
    }
   ],
   "source": [
    "defog2.show(5)"
   ]
  },
  {
   "cell_type": "code",
   "execution_count": 45,
   "id": "eb6d8de2-c550-4745-b108-7978e2ca2006",
   "metadata": {},
   "outputs": [
    {
     "name": "stdout",
     "output_type": "stream",
     "text": [
      "+-------+----------+----+-----------------+-----------------+-----------------+---------------+----+-------+------------+-----+----+----------+---+---+------------+-----------+------------+-----+\n",
      "|Subject|        Id|Time|             AccV|            AccML|            AccAP|StartHesitation|Turn|Walking|source_defog|Visit|Test|Medication|Age|Sex|YearsSinceDx|UPDRSIII_On|UPDRSIII_Off|NFOGQ|\n",
      "+-------+----------+----+-----------------+-----------------+-----------------+---------------+----+-------+------------+-----+----+----------+---+---+------------+-----------+------------+-----+\n",
      "| 13abfd|003f117e14|   0|-9.53393930253288|0.566321631981499|-1.41352531246173|              0|   0|      0|           0|    3|   2|        on| 68|  F|         9.0|         17|          15|   15|\n",
      "| 13abfd|003f117e14|   1|-9.53614029997918|0.564136952175035| -1.4406209993301|              0|   0|      0|           0|    3|   2|        on| 68|  F|         9.0|         17|          15|   15|\n",
      "| 13abfd|003f117e14|   2|-9.52934530245762|0.561764770716807|-1.42933154059721|              0|   0|      0|           0|    3|   2|        on| 68|  F|         9.0|         17|          15|   15|\n",
      "| 13abfd|003f117e14|   3|-9.53123898558684|0.564227314497224|-1.41548975954121|              0|   0|      0|           0|    3|   2|        on| 68|  F|         9.0|         17|          15|   15|\n",
      "| 13abfd|003f117e14|   4|-9.54082487327138|0.561853506148896|-1.42947071667569|              0|   0|      0|           0|    3|   2|        on| 68|  F|         9.0|         17|          15|   15|\n",
      "+-------+----------+----+-----------------+-----------------+-----------------+---------------+----+-------+------------+-----+----+----------+---+---+------------+-----------+------------+-----+\n",
      "only showing top 5 rows\n",
      "\n"
     ]
    }
   ],
   "source": [
    "tdcsfog2.show(5)"
   ]
  },
  {
   "cell_type": "markdown",
   "id": "92a9dcd9-7f8e-4aa7-a821-8b3ff20b5c19",
   "metadata": {},
   "source": [
    "## Combine files\n",
    "Add in missing fields for each"
   ]
  },
  {
   "cell_type": "code",
   "execution_count": 48,
   "id": "52204b3d-da40-428a-9e00-f57c55230338",
   "metadata": {},
   "outputs": [
    {
     "name": "stdout",
     "output_type": "stream",
     "text": [
      "+-------+-----+----------+----+----+------------------+-----+---------------+----+-------+-----+-----+------------+----------+---+---+------------+-----------+------------+-----+----+\n",
      "|Subject|Visit|        Id|Time|AccV|             AccML|AccAP|StartHesitation|Turn|Walking|Valid| Task|source_defog|Medication|Age|Sex|YearsSinceDx|UPDRSIII_On|UPDRSIII_Off|NFOGQ|Test|\n",
      "+-------+-----+----------+----+----+------------------+-----+---------------+----+-------+-----+-----+------------+----------+---+---+------------+-----------+------------+-----+----+\n",
      "| bf608b|    2|02ea782681|   0|-1.0|0.0441294600297506|-0.25|              0|   0|      0|false|false|           1|        on| 67|  M|         7.0|         14|          57|   19|null|\n",
      "| bf608b|    2|02ea782681|   1|-1.0|0.0344313599752663|-0.25|              0|   0|      0|false|false|           1|        on| 67|  M|         7.0|         14|          57|   19|null|\n",
      "| bf608b|    2|02ea782681|   2|-1.0|           0.03125|-0.25|              0|   0|      0|false|false|           1|        on| 67|  M|         7.0|         14|          57|   19|null|\n",
      "| bf608b|    2|02ea782681|   3|-1.0|           0.03125|-0.25|              0|   0|      0|false|false|           1|        on| 67|  M|         7.0|         14|          57|   19|null|\n",
      "| bf608b|    2|02ea782681|   4|-1.0|           0.03125|-0.25|              0|   0|      0|false|false|           1|        on| 67|  M|         7.0|         14|          57|   19|null|\n",
      "+-------+-----+----------+----+----+------------------+-----+---------------+----+-------+-----+-----+------------+----------+---+---+------------+-----------+------------+-----+----+\n",
      "only showing top 5 rows\n",
      "\n"
     ]
    }
   ],
   "source": [
    "defog2 = defog2.withColumn(\"Test\", lit('null'))\n",
    "defog2.show(5)"
   ]
  },
  {
   "cell_type": "code",
   "execution_count": 52,
   "id": "9754f782-07b1-4817-bbba-d4fb3b3c1fd2",
   "metadata": {},
   "outputs": [
    {
     "name": "stdout",
     "output_type": "stream",
     "text": [
      "+-------+----------+----+-----------------+-----------------+-----------------+---------------+----+-------+------------+-----+----+----------+---+---+------------+-----------+------------+-----+-----+----+\n",
      "|Subject|        Id|Time|             AccV|            AccML|            AccAP|StartHesitation|Turn|Walking|source_defog|Visit|Test|Medication|Age|Sex|YearsSinceDx|UPDRSIII_On|UPDRSIII_Off|NFOGQ|Valid|Task|\n",
      "+-------+----------+----+-----------------+-----------------+-----------------+---------------+----+-------+------------+-----+----+----------+---+---+------------+-----------+------------+-----+-----+----+\n",
      "| 13abfd|003f117e14|   0|-9.53393930253288|0.566321631981499|-1.41352531246173|              0|   0|      0|           0|    3|   2|        on| 68|  F|         9.0|         17|          15|   15| null|null|\n",
      "| 13abfd|003f117e14|   1|-9.53614029997918|0.564136952175035| -1.4406209993301|              0|   0|      0|           0|    3|   2|        on| 68|  F|         9.0|         17|          15|   15| null|null|\n",
      "| 13abfd|003f117e14|   2|-9.52934530245762|0.561764770716807|-1.42933154059721|              0|   0|      0|           0|    3|   2|        on| 68|  F|         9.0|         17|          15|   15| null|null|\n",
      "| 13abfd|003f117e14|   3|-9.53123898558684|0.564227314497224|-1.41548975954121|              0|   0|      0|           0|    3|   2|        on| 68|  F|         9.0|         17|          15|   15| null|null|\n",
      "| 13abfd|003f117e14|   4|-9.54082487327138|0.561853506148896|-1.42947071667569|              0|   0|      0|           0|    3|   2|        on| 68|  F|         9.0|         17|          15|   15| null|null|\n",
      "+-------+----------+----+-----------------+-----------------+-----------------+---------------+----+-------+------------+-----+----+----------+---+---+------------+-----------+------------+-----+-----+----+\n",
      "only showing top 5 rows\n",
      "\n"
     ]
    }
   ],
   "source": [
    "tdcsfog2 = tdcsfog2.withColumn(\"Valid\", lit('null')) \\\n",
    "    .withColumn(\"Task\", lit('null'))\n",
    "tdcsfog2.show(5)"
   ]
  },
  {
   "cell_type": "code",
   "execution_count": 66,
   "id": "3f63a252-4e36-474e-b252-5cb8929b91e3",
   "metadata": {},
   "outputs": [
    {
     "name": "stdout",
     "output_type": "stream",
     "text": [
      "+-------+-----+----------+----+----+------------------+-----+---------------+----+-------+-----+-----+------------+----------+---+---+------------+-----------+------------+-----+----+\n",
      "|Subject|Visit|        Id|Time|AccV|             AccML|AccAP|StartHesitation|Turn|Walking|Valid| Task|source_defog|Medication|Age|Sex|YearsSinceDx|UPDRSIII_On|UPDRSIII_Off|NFOGQ|Test|\n",
      "+-------+-----+----------+----+----+------------------+-----+---------------+----+-------+-----+-----+------------+----------+---+---+------------+-----------+------------+-----+----+\n",
      "| bf608b|    2|02ea782681|   0|-1.0|0.0441294600297506|-0.25|              0|   0|      0|false|false|           1|        on| 67|  M|         7.0|         14|          57|   19|null|\n",
      "| bf608b|    2|02ea782681|   1|-1.0|0.0344313599752663|-0.25|              0|   0|      0|false|false|           1|        on| 67|  M|         7.0|         14|          57|   19|null|\n",
      "| bf608b|    2|02ea782681|   2|-1.0|           0.03125|-0.25|              0|   0|      0|false|false|           1|        on| 67|  M|         7.0|         14|          57|   19|null|\n",
      "| bf608b|    2|02ea782681|   3|-1.0|           0.03125|-0.25|              0|   0|      0|false|false|           1|        on| 67|  M|         7.0|         14|          57|   19|null|\n",
      "| bf608b|    2|02ea782681|   4|-1.0|           0.03125|-0.25|              0|   0|      0|false|false|           1|        on| 67|  M|         7.0|         14|          57|   19|null|\n",
      "+-------+-----+----------+----+----+------------------+-----+---------------+----+-------+-----+-----+------------+----------+---+---+------------+-----------+------------+-----+----+\n",
      "only showing top 5 rows\n",
      "\n"
     ]
    }
   ],
   "source": [
    "fog = defog2.union(tdcsfog2)\n",
    "fog.show(5)"
   ]
  },
  {
   "cell_type": "code",
   "execution_count": 59,
   "id": "93733b4d-690a-4171-88de-1957791592b8",
   "metadata": {},
   "outputs": [
    {
     "name": "stderr",
     "output_type": "stream",
     "text": [
      "                                                                                \r"
     ]
    }
   ],
   "source": [
    "fog.write.option(\"header\",True) \\\n",
    "    .csv(\"gs://msca-bdp-student-gcs/parkinsons_data/train/processed/\")"
   ]
  },
  {
   "cell_type": "code",
   "execution_count": 89,
   "id": "aae8ed20-11af-4bf8-837b-3b93fc054038",
   "metadata": {},
   "outputs": [],
   "source": [
    "fog_path = \"parkinsons_data/train/processed\"\n",
    "fog_files = list_blobs(\"msca-bdp-student-gcs\", string_match=fog_path)"
   ]
  },
  {
   "cell_type": "code",
   "execution_count": 90,
   "id": "cc7a0f3b-0d54-46e4-b36d-e12c2aee55cd",
   "metadata": {},
   "outputs": [
    {
     "data": {
      "text/plain": [
       "['/',\n",
       " '/_SUCCESS',\n",
       " '/part-00000-a4d71fbb-fb61-410c-8a1e-3bf4fc19d28b-c000.csv',\n",
       " '/part-00001-a4d71fbb-fb61-410c-8a1e-3bf4fc19d28b-c000.csv',\n",
       " '/part-00002-a4d71fbb-fb61-410c-8a1e-3bf4fc19d28b-c000.csv',\n",
       " '/part-00003-a4d71fbb-fb61-410c-8a1e-3bf4fc19d28b-c000.csv']"
      ]
     },
     "execution_count": 90,
     "metadata": {},
     "output_type": "execute_result"
    }
   ],
   "source": [
    "fog_files"
   ]
  }
 ],
 "metadata": {
  "kernelspec": {
   "display_name": "PySpark (Local)",
   "language": "python",
   "name": "local-pyspark"
  },
  "language_info": {
   "codemirror_mode": {
    "name": "ipython",
    "version": 3
   },
   "file_extension": ".py",
   "mimetype": "text/x-python",
   "name": "python",
   "nbconvert_exporter": "python",
   "pygments_lexer": "ipython3",
   "version": "3.7.12"
  }
 },
 "nbformat": 4,
 "nbformat_minor": 5
}
