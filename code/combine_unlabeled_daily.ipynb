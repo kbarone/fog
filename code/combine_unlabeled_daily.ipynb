{
 "cells": [
  {
   "cell_type": "markdown",
   "id": "edff103a-03ac-45ad-88c1-7a86f7833546",
   "metadata": {},
   "source": [
    "### Read in and Combine Daily Data (stored as parquet files)"
   ]
  },
  {
   "cell_type": "code",
   "execution_count": 1,
   "id": "e8e758ab-ef8a-41eb-9000-9954b9a5bdf3",
   "metadata": {},
   "outputs": [],
   "source": [
    "import os\n",
    "# from utils.utils import *\n",
    "\n",
    "from pyspark.sql import SparkSession\n",
    "from pyspark.sql import functions as F\n",
    "from google.cloud import storage\n",
    "from pyspark.sql.functions import max, col, count, \\\n",
    "    lit, countDistinct\n",
    "from pyspark.sql.types import FloatType\n",
    "\n",
    "import matplotlib.pyplot as plt\n",
    "%matplotlib inline"
   ]
  },
  {
   "cell_type": "code",
   "execution_count": 2,
   "id": "d84c522a-b335-4e97-9228-fcbb7e519438",
   "metadata": {},
   "outputs": [
    {
     "data": {
      "text/html": [
       "\n",
       "            <div>\n",
       "                <p><b>SparkSession - hive</b></p>\n",
       "                \n",
       "        <div>\n",
       "            <p><b>SparkContext</b></p>\n",
       "\n",
       "            <p><a href=\"http://hub-hub-msca-bdp-dphub-student-ksarussi-m.c.msca-bdp-student-ap.internal:36175\">Spark UI</a></p>\n",
       "\n",
       "            <dl>\n",
       "              <dt>Version</dt>\n",
       "                <dd><code>v3.1.3</code></dd>\n",
       "              <dt>Master</dt>\n",
       "                <dd><code>yarn</code></dd>\n",
       "              <dt>AppName</dt>\n",
       "                <dd><code>PySparkShell</code></dd>\n",
       "            </dl>\n",
       "        </div>\n",
       "        \n",
       "            </div>\n",
       "        "
      ],
      "text/plain": [
       "<pyspark.sql.session.SparkSession at 0x7f485cbd05b0>"
      ]
     },
     "execution_count": 2,
     "metadata": {},
     "output_type": "execute_result"
    }
   ],
   "source": [
    "spark = SparkSession.builder.appName('ParquetExample').getOrCreate()\n",
    "spark"
   ]
  },
  {
   "cell_type": "markdown",
   "id": "3140693b-27d0-434e-99da-cf354a04dd45",
   "metadata": {},
   "source": [
    "### Paths and Data read"
   ]
  },
  {
   "cell_type": "code",
   "execution_count": 3,
   "id": "f0da9268-801c-49a4-aced-758930689221",
   "metadata": {},
   "outputs": [
    {
     "name": "stderr",
     "output_type": "stream",
     "text": [
      "                                                                                \r"
     ]
    }
   ],
   "source": [
    "daily_metadata = spark.read.csv(\"gs://msca-bdp-student-gcs/parkinsons_data/daily_metadata.csv\", header=True)"
   ]
  },
  {
   "cell_type": "code",
   "execution_count": 4,
   "id": "d68e6c8c-1ba7-4a1e-aefc-b70ab3996916",
   "metadata": {},
   "outputs": [],
   "source": [
    "daily_path = \"parkinsons_data/unlabeled\"\n",
    "top_bucket_name = \"msca-bdp-student-gcs\"\n",
    "# full_path = \"msca-bdp-student-gcs/parkinsons_data/unlabeled\""
   ]
  },
  {
   "cell_type": "code",
   "execution_count": 5,
   "id": "4681c1a0-bb54-4774-bcc2-5a99fa138928",
   "metadata": {},
   "outputs": [
    {
     "name": "stdout",
     "output_type": "stream",
     "text": [
      "file name: 00c4c9313d\n",
      "file name: 07a96f89ec\n",
      "file name: 0d1bc672a8\n",
      "file name: 0e333c9833\n",
      "file name: 164adaed7b\n",
      "file name: 17e0c0dc86\n",
      "file name: 1c3719ea59\n",
      "file name: 1cf80df2d6\n",
      "file name: 24016102f2\n",
      "file name: 276630050d\n",
      "file name: 28e6c306ba\n",
      "file name: 2caa348298\n",
      "file name: 32bdbc35a0\n",
      "file name: 3ae6b0f79f\n",
      "file name: 3bd159ded0\n",
      "file name: 3f51a63612\n",
      "file name: 3fc03f01ed\n",
      "file name: 3fe2624b51\n",
      "file name: 40bf6c162f\n",
      "file name: 418a1ca2c1\n",
      "file name: 43ac46d679\n",
      "file name: 48081794eb\n",
      "file name: 48b636e0f5\n",
      "file name: 4b84027351\n",
      "file name: 4e44a97a85\n",
      "file name: 52fd07ea27\n",
      "file name: 5535c94fc9\n",
      "file name: 57741bad42\n",
      "file name: 5bf570bb7b\n",
      "file name: 5e13d48878\n",
      "file name: 6e0303484e\n",
      "file name: 6ed2f109c3\n",
      "file name: 74f1e1e0ba\n",
      "file name: 7ab610bb34\n",
      "file name: 831c13620e\n",
      "file name: 88f67f91db\n",
      "file name: 8959244e1c\n",
      "file name: 8ca674a988\n",
      "file name: 924e997065\n",
      "file name: 93abd37fee\n",
      "file name: 96f57b4a40\n",
      "file name: 9da3e3dc66\n",
      "file name: 9fb7805d99\n",
      "file name: a213c90b02\n",
      "file name: b15168b788\n",
      "file name: b18354d4aa\n",
      "file name: b1ba59e5f0\n",
      "file name: ba970e7e9a\n",
      "file name: baac585916\n",
      "file name: bbe8b2d4b8\n",
      "file name: bd6f65a4d2\n",
      "file name: be948ac8ad\n",
      "file name: bfb2732959\n",
      "file name: c0201855a9\n",
      "file name: c3e0d7aad0\n",
      "file name: cb8698473f\n",
      "file name: d37397f832\n",
      "file name: d9d96400ea\n",
      "file name: e2d103a18e\n",
      "file name: e328c64434\n",
      "file name: e658b0aa3d\n",
      "file name: ed0a487f20\n",
      "file name: ef1db3ca64\n",
      "file name: f16c5cda55\n",
      "file name: f3fa3bf72d\n"
     ]
    }
   ],
   "source": [
    "# https://cloud.google.com/storage/docs/samples/storage-list-files#storage_list_files-python\n",
    "# add file name as column - https://sparkbyexamples.com/pyspark/pyspark-lit-add-literal-constant/\n",
    "# https://www.geeksforgeeks.org/how-to-union-multiple-dataframe-in-pyspark/\n",
    "\n",
    "client = storage.Client()\n",
    "blobs = client.list_blobs(top_bucket_name, prefix = daily_path)\n",
    "\n",
    "daily_data = None\n",
    "for blob in blobs:\n",
    "    file_name = blob.name.split(\"/\")[-1].split(\".\")[0]\n",
    "    print(\"file name:\", file_name)\n",
    "    df = spark.read.parquet(f\"gs://{top_bucket_name}/{blob.name}\")\n",
    "    df = df.withColumn(\"Id\", lit(file_name))\n",
    "    if daily_data is None:\n",
    "        daily_data = df\n",
    "    else:\n",
    "        daily_data = daily_data.union(df)\n",
    "\n",
    "   "
   ]
  },
  {
   "cell_type": "code",
   "execution_count": 6,
   "id": "cc0f0d15-fe44-47e4-bf15-4046e611f172",
   "metadata": {},
   "outputs": [
    {
     "name": "stdout",
     "output_type": "stream",
     "text": [
      "root\n",
      " |-- Time: long (nullable = true)\n",
      " |-- AccV: double (nullable = true)\n",
      " |-- AccML: double (nullable = true)\n",
      " |-- AccAP: double (nullable = true)\n",
      " |-- Id: string (nullable = false)\n",
      "\n"
     ]
    }
   ],
   "source": [
    "daily_data.printSchema()"
   ]
  },
  {
   "cell_type": "code",
   "execution_count": 7,
   "id": "d54fa190-9eb0-4349-be13-bb2db1d7d7cc",
   "metadata": {},
   "outputs": [
    {
     "name": "stderr",
     "output_type": "stream",
     "text": [
      "[Stage 67:===========================================>              (3 + 1) / 4]\r"
     ]
    },
    {
     "name": "stdout",
     "output_type": "stream",
     "text": [
      "+----+------------------+------------------+-----------------+----------+\n",
      "|Time|              AccV|             AccML|            AccAP|        Id|\n",
      "+----+------------------+------------------+-----------------+----------+\n",
      "|   0|          0.328125|         -0.109375|         0.671875|00c4c9313d|\n",
      "|   1| 0.453107990150706|  -0.1247208674257|0.811273150079803|00c4c9313d|\n",
      "|   2| 0.423042391192052|-0.264046005447829|0.921238212647563|00c4c9313d|\n",
      "|   3| 0.150014724987375|-0.310240837149531|0.937482659979879|00c4c9313d|\n",
      "|   4|-0.202003096762013|-0.545907654638822|0.890842282170504|00c4c9313d|\n",
      "+----+------------------+------------------+-----------------+----------+\n",
      "only showing top 5 rows\n",
      "\n"
     ]
    },
    {
     "name": "stderr",
     "output_type": "stream",
     "text": [
      "                                                                                \r"
     ]
    }
   ],
   "source": [
    "daily_data.show(5)"
   ]
  },
  {
   "cell_type": "code",
   "execution_count": null,
   "id": "149356b0-6bbb-419f-b726-de3b3c155d3e",
   "metadata": {},
   "outputs": [
    {
     "name": "stdout",
     "output_type": "stream",
     "text": [
      "Partitions: 550\n"
     ]
    },
    {
     "name": "stderr",
     "output_type": "stream",
     "text": [
      "[Stage 68:=====================================================>(549 + 1) / 550]\r"
     ]
    },
    {
     "name": "stdout",
     "output_type": "stream",
     "text": [
      "+-----------+--------+\n",
      "|partitionId|   count|\n",
      "+-----------+--------+\n",
      "|        217|43340237|\n",
      "|        476|60022027|\n",
      "|        303|60432918|\n",
      "|        392|60479060|\n",
      "|         29|60479239|\n",
      "|        226|60479291|\n",
      "|         53|60479351|\n",
      "|        322|60479467|\n",
      "|        495|60479468|\n",
      "|        254|60479484|\n",
      "|         91|60479492|\n",
      "|        343|60479526|\n",
      "|        286|60479547|\n",
      "|        296|60479547|\n",
      "|        136|60479547|\n",
      "|         60|60479559|\n",
      "|        381|60479596|\n",
      "|        246|60479601|\n",
      "|         10|60479608|\n",
      "|        311|60479647|\n",
      "|        544|60479670|\n",
      "|        333|60479704|\n",
      "|        220|60479705|\n",
      "|        469|60479716|\n",
      "|        199|60479758|\n",
      "|        353|60479768|\n",
      "|        159|60479815|\n",
      "|        210|60479895|\n",
      "|        509|60479898|\n",
      "|        410|60645100|\n",
      "|        399|60839503|\n",
      "|        223|60839621|\n",
      "|         71|60839697|\n",
      "|        520|60839792|\n",
      "|        178|61559279|\n",
      "|        110|61559323|\n",
      "|        263|61919466|\n",
      "|        534|62158042|\n",
      "|         49|62723265|\n",
      "|        114|65519465|\n",
      "|        502|65879592|\n",
      "|         42|65879777|\n",
      "|         83|66205847|\n",
      "|        147|69119372|\n",
      "|        445|69119408|\n",
      "|        457|69119449|\n",
      "|         21|69119566|\n",
      "|        170|69119577|\n",
      "|        102|69119583|\n",
      "|        274|69119718|\n",
      "|        421|69119724|\n",
      "|        433|69119906|\n",
      "|        483|69479385|\n",
      "|          2|69722389|\n",
      "|         45|70199331|\n",
      "|        388|71321625|\n",
      "|         38|71368504|\n",
      "|        365|73439750|\n",
      "|        187|74159806|\n",
      "|         79|77759741|\n",
      "|        373|77759800|\n",
      "|        123|78119657|\n",
      "|        234|78464350|\n",
      "|        527|86399601|\n",
      "|         33|86759735|\n",
      "+-----------+--------+\n",
      "\n"
     ]
    },
    {
     "name": "stderr",
     "output_type": "stream",
     "text": [
      "                                                                                \r"
     ]
    }
   ],
   "source": [
    "#display number of records by partition\n",
    "\n",
    "def displaypartitions(df):\n",
    "    #number of records by partition\n",
    "    num = df.rdd.getNumPartitions()\n",
    "    print(\"Partitions:\", num)\n",
    "    df.withColumn(\"partitionId\", F.spark_partition_id())\\\n",
    "        .groupBy(\"partitionId\")\\\n",
    "        .count()\\\n",
    "        .orderBy(F.asc(\"count\"))\\\n",
    "        .show(num)\n",
    "    \n",
    "displaypartitions(daily_data)"
   ]
  },
  {
   "cell_type": "code",
   "execution_count": null,
   "id": "4fd3f794-31ba-4555-ac16-f7122e978491",
   "metadata": {},
   "outputs": [
    {
     "name": "stderr",
     "output_type": "stream",
     "text": [
      "[Stage 71:=====================================================>(549 + 1) / 550]\r"
     ]
    },
    {
     "name": "stdout",
     "output_type": "stream",
     "text": [
      "Number of unique ids: 65\n"
     ]
    },
    {
     "name": "stderr",
     "output_type": "stream",
     "text": [
      "                                                                                \r"
     ]
    }
   ],
   "source": [
    "# Check number of ids = 65\n",
    "num_ids = daily_data.select(\"Id\").distinct().count()\n",
    "print(f\"Number of unique ids: {num_ids}\")\n"
   ]
  },
  {
   "cell_type": "code",
   "execution_count": null,
   "id": "47be502b-36b5-4b36-bd6c-388b38ac4653",
   "metadata": {},
   "outputs": [
    {
     "name": "stderr",
     "output_type": "stream",
     "text": [
      "                                                                                \r"
     ]
    },
    {
     "data": {
      "text/plain": [
       "86759734"
      ]
     },
     "execution_count": 10,
     "metadata": {},
     "output_type": "execute_result"
    }
   ],
   "source": [
    "max_time = daily_data.select(max(\"Time\")).collect()[0][0]\n",
    "max_time\n"
   ]
  },
  {
   "cell_type": "code",
   "execution_count": null,
   "id": "0c40c9a6-e394-4fc2-b909-91e729fdca71",
   "metadata": {},
   "outputs": [
    {
     "name": "stderr",
     "output_type": "stream",
     "text": [
      "                                                                                \r"
     ]
    },
    {
     "data": {
      "text/plain": [
       "7.999755859375"
      ]
     },
     "execution_count": 11,
     "metadata": {},
     "output_type": "execute_result"
    }
   ],
   "source": [
    "max_AccV = daily_data.select(max(\"AccV\")).collect()[0][0]\n",
    "max_AccV"
   ]
  },
  {
   "cell_type": "code",
   "execution_count": null,
   "id": "cad62241-1119-443a-999e-328d386e979f",
   "metadata": {},
   "outputs": [
    {
     "name": "stdout",
     "output_type": "stream",
     "text": [
      "root\n",
      " |-- Time: long (nullable = true)\n",
      " |-- AccV: double (nullable = true)\n",
      " |-- AccML: double (nullable = true)\n",
      " |-- AccAP: double (nullable = true)\n",
      " |-- Id: string (nullable = false)\n",
      "\n"
     ]
    }
   ],
   "source": [
    "daily_data.printSchema()"
   ]
  },
  {
   "cell_type": "code",
   "execution_count": 14,
   "id": "2de87eae-5c95-4e28-94a9-457cf4f21dde",
   "metadata": {},
   "outputs": [
    {
     "ename": "NameError",
     "evalue": "name 'FloatType' is not defined",
     "output_type": "error",
     "traceback": [
      "\u001b[0;31m---------------------------------------------------------------------------\u001b[0m",
      "\u001b[0;31mNameError\u001b[0m                                 Traceback (most recent call last)",
      "Cell \u001b[0;32mIn[14], line 1\u001b[0m\n\u001b[0;32m----> 1\u001b[0m daily_data \u001b[38;5;241m=\u001b[39m daily_data\u001b[38;5;241m.\u001b[39mwithColumn(\u001b[38;5;124m\"\u001b[39m\u001b[38;5;124mAccV\u001b[39m\u001b[38;5;124m\"\u001b[39m, col(\u001b[38;5;124m\"\u001b[39m\u001b[38;5;124mAccV\u001b[39m\u001b[38;5;124m\"\u001b[39m)\u001b[38;5;241m.\u001b[39mcast(\u001b[43mFloatType\u001b[49m())) \\\n\u001b[1;32m      2\u001b[0m    \u001b[38;5;241m.\u001b[39mwithColumn(\u001b[38;5;124m\"\u001b[39m\u001b[38;5;124mAccML\u001b[39m\u001b[38;5;124m\"\u001b[39m, col(\u001b[38;5;124m\"\u001b[39m\u001b[38;5;124mAccML\u001b[39m\u001b[38;5;124m\"\u001b[39m)\u001b[38;5;241m.\u001b[39mcast(FloatType())) \\\n\u001b[1;32m      3\u001b[0m    \u001b[38;5;241m.\u001b[39mwithColumn(\u001b[38;5;124m\"\u001b[39m\u001b[38;5;124mAccAP\u001b[39m\u001b[38;5;124m\"\u001b[39m, col(\u001b[38;5;124m\"\u001b[39m\u001b[38;5;124mAccAP\u001b[39m\u001b[38;5;124m\"\u001b[39m)\u001b[38;5;241m.\u001b[39mcast(FloatType()))\n",
      "\u001b[0;31mNameError\u001b[0m: name 'FloatType' is not defined"
     ]
    }
   ],
   "source": [
    " daily_data = daily_data.withColumn(\"AccV\", col(\"AccV\").cast(FloatType())) \\\n",
    "    .withColumn(\"AccML\", col(\"AccML\").cast(FloatType())) \\\n",
    "    .withColumn(\"AccAP\", col(\"AccAP\").cast(FloatType()))"
   ]
  },
  {
   "cell_type": "code",
   "execution_count": null,
   "id": "1fa26182-aed9-4504-a6d4-92453bc44c9c",
   "metadata": {},
   "outputs": [],
   "source": [
    "daily_data.printSchema()"
   ]
  },
  {
   "cell_type": "markdown",
   "id": "c066c04d-74ec-4edb-8186-8718333a423a",
   "metadata": {},
   "source": [
    "## Join with Subject ID"
   ]
  },
  {
   "cell_type": "code",
   "execution_count": null,
   "id": "9ab881e7-6336-478b-a028-ff5f2c8798f0",
   "metadata": {},
   "outputs": [],
   "source": [
    "daily_metadata.show(1)"
   ]
  },
  {
   "cell_type": "code",
   "execution_count": null,
   "id": "db5ec7f1-8c65-47e3-91c6-7429d7bb7758",
   "metadata": {},
   "outputs": [],
   "source": [
    "# daily_data2 = daily_data.join(daily_metadata, daily_data.Id ==  daily_metadata.Id,\"inner\")\n",
    "daily_data2 = daily_data.join(daily_metadata, on=\"Id\", how=\"left\")\n"
   ]
  },
  {
   "cell_type": "code",
   "execution_count": null,
   "id": "4088833a-f18c-4d25-aa89-258db9340801",
   "metadata": {},
   "outputs": [],
   "source": [
    "spark.conf.set(\"spark.sql.adaptive.enabled\", \"false\")\n",
    "daily_data2.show(2)"
   ]
  },
  {
   "cell_type": "code",
   "execution_count": null,
   "id": "38f84272-c9d2-4c6d-81f9-d8a55c29ecb5",
   "metadata": {},
   "outputs": [],
   "source": [
    "# Check merge\n",
    "# Count of unique non-null and non-empty subject IDs\n",
    "count_unique_subjects = daily_data2.filter(col(\"Subject\").select(\"Subject\").distinct().count()\n",
    "#                                            .isNotNull() & (col(\"Subject\") != \"\"))\n",
    "                                            \n",
    "\n",
    "print(\"Count of unique non-null and non-empty subject IDs: \", count_unique_subjects)\n"
   ]
  },
  {
   "cell_type": "markdown",
   "id": "c162017e-4d1f-4040-9b73-7428fae99614",
   "metadata": {},
   "source": [
    "### Add Time in Seconds Variable"
   ]
  },
  {
   "cell_type": "code",
   "execution_count": null,
   "id": "30d5abb4-3ab6-4abf-85f0-80092ffb8b20",
   "metadata": {},
   "outputs": [],
   "source": [
    "daily_data2 = daily_data2.withColumn(\"TimeSeconds\", col(\"Time\") / 100)\n",
    "daily_data2.show(5)"
   ]
  },
  {
   "cell_type": "code",
   "execution_count": null,
   "id": "e83bf996-d584-4f23-bf67-d103947cc93c",
   "metadata": {},
   "outputs": [],
   "source": []
  }
 ],
 "metadata": {
  "kernelspec": {
   "display_name": "PySpark",
   "language": "python",
   "name": "pyspark"
  },
  "language_info": {
   "codemirror_mode": {
    "name": "ipython",
    "version": 3
   },
   "file_extension": ".py",
   "mimetype": "text/x-python",
   "name": "python",
   "nbconvert_exporter": "python",
   "pygments_lexer": "ipython3",
   "version": "3.8.15"
  }
 },
 "nbformat": 4,
 "nbformat_minor": 5
}
