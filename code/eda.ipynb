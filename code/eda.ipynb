{
 "cells": [
  {
   "cell_type": "markdown",
   "id": "33286581-0535-4d03-8850-8ed9b359a6f0",
   "metadata": {},
   "source": [
    "# Exploratory Data Analysis"
   ]
  },
  {
   "cell_type": "code",
   "execution_count": 1,
   "id": "2b050e4b-0cc8-4994-ba23-91ef73614f1a",
   "metadata": {},
   "outputs": [],
   "source": [
    "import os \n",
    "#from utils.utils import *\n",
    "\n",
    "from fog.code.utils.utils import *\n",
    "from pyspark.sql.functions import lit, col, sum\n",
    "from pyspark.sql.types import StringType, BooleanType, IntegerType, FloatType, DateType\n",
    "spark = SparkSession.builder.appName(\"PySpark Cloud Test\").getOrCreate()\n",
    "# conf = spark.sparkContext._conf.setAll([('spark.executor.memory', '16g'), ('spark.app.name', 'Spark Updated Conf'), ('spark.executor.cores', '4'), ('spark.cores.max', '4'), ('spark.driver.memory','16g')])"
   ]
  },
  {
   "cell_type": "code",
   "execution_count": 2,
   "id": "e675712e-0c74-420c-8284-cc243790adad",
   "metadata": {},
   "outputs": [
    {
     "data": {
      "text/plain": [
       "13"
      ]
     },
     "execution_count": 2,
     "metadata": {},
     "output_type": "execute_result"
    }
   ],
   "source": [
    "fog_path = \"parkinsons_data/train/processed/defog_tasks\"\n",
    "fog_files = list_blobs(\"msca-bdp-student-gcs\", string_match=fog_path)\n",
    "\n",
    "len(fog_files)"
   ]
  },
  {
   "cell_type": "code",
   "execution_count": null,
   "id": "edafd784-52bc-473b-a574-173f5fc589ce",
   "metadata": {},
   "outputs": [],
   "source": [
    "# df = feed_files(fog_files, prefix=fog_path, spark_session=spark, file_type=\"parquet\")"
   ]
  },
  {
   "cell_type": "code",
   "execution_count": 3,
   "id": "57db5100-1639-4e81-a6b8-f74c7ea82e40",
   "metadata": {},
   "outputs": [
    {
     "name": "stderr",
     "output_type": "stream",
     "text": [
      "                                                                                \r"
     ]
    }
   ],
   "source": [
    "df = spark.read.parquet(\"gs://msca-bdp-student-gcs/parkinsons_data/train/processed/defog_tasks\")"
   ]
  },
  {
   "cell_type": "code",
   "execution_count": 4,
   "id": "532fbc62-2b58-4634-8d29-852c0d7c30fc",
   "metadata": {},
   "outputs": [
    {
     "name": "stdout",
     "output_type": "stream",
     "text": [
      "root\n",
      " |-- Subject: string (nullable = true)\n",
      " |-- Visit: string (nullable = true)\n",
      " |-- Id: string (nullable = true)\n",
      " |-- Time: string (nullable = true)\n",
      " |-- AccV: float (nullable = true)\n",
      " |-- AccML: float (nullable = true)\n",
      " |-- AccAP: float (nullable = true)\n",
      " |-- StartHesitation: integer (nullable = true)\n",
      " |-- Turn: integer (nullable = true)\n",
      " |-- Walking: integer (nullable = true)\n",
      " |-- Valid: boolean (nullable = true)\n",
      " |-- Task: boolean (nullable = true)\n",
      " |-- SourceDefog: integer (nullable = true)\n",
      " |-- Medication: string (nullable = true)\n",
      " |-- Age: integer (nullable = true)\n",
      " |-- Sex: string (nullable = true)\n",
      " |-- YearsSinceDx: integer (nullable = true)\n",
      " |-- UPDRSIII_On: integer (nullable = true)\n",
      " |-- UPDRSIII_Off: integer (nullable = true)\n",
      " |-- NFOGQ: integer (nullable = true)\n",
      " |-- Test: string (nullable = true)\n",
      " |-- TimeSeconds: double (nullable = true)\n",
      " |-- Begin: double (nullable = true)\n",
      " |-- End: double (nullable = true)\n",
      " |-- TaskType: string (nullable = true)\n",
      " |-- MB9: integer (nullable = true)\n",
      " |-- Rest1: integer (nullable = true)\n",
      " |-- MB6-L: integer (nullable = true)\n",
      " |-- MB6-R: integer (nullable = true)\n",
      " |-- Turning-C: integer (nullable = true)\n",
      " |-- MB2a: integer (nullable = true)\n",
      " |-- MB3-L: integer (nullable = true)\n",
      " |-- MB12: integer (nullable = true)\n",
      " |-- MB5: integer (nullable = true)\n",
      " |-- MB3-R: integer (nullable = true)\n",
      " |-- MB13: integer (nullable = true)\n",
      " |-- TUG-DT: integer (nullable = true)\n",
      " |-- Turning-ST: integer (nullable = true)\n",
      " |-- TUG-ST: integer (nullable = true)\n",
      " |-- 4MW-C: integer (nullable = true)\n",
      " |-- Hotspot2: integer (nullable = true)\n",
      " |-- MB6: integer (nullable = true)\n",
      " |-- TUG-C: integer (nullable = true)\n",
      " |-- 4MW: integer (nullable = true)\n",
      " |-- Hotspot1-C: integer (nullable = true)\n",
      " |-- Hotspot2-C: integer (nullable = true)\n",
      " |-- MB8: integer (nullable = true)\n",
      " |-- Hotspot1: integer (nullable = true)\n",
      " |-- MB4: integer (nullable = true)\n",
      " |-- MB1: integer (nullable = true)\n",
      " |-- MB7: integer (nullable = true)\n",
      " |-- Rest2: integer (nullable = true)\n",
      " |-- MB2b: integer (nullable = true)\n",
      " |-- MB10: integer (nullable = true)\n",
      " |-- Turning-DT: integer (nullable = true)\n",
      " |-- MB11: integer (nullable = true)\n",
      " |-- target: integer (nullable = true)\n",
      "\n"
     ]
    }
   ],
   "source": [
    "df.printSchema()"
   ]
  },
  {
   "cell_type": "code",
   "execution_count": 5,
   "id": "0846d18b-fb15-4a62-a55c-0cb6b045deff",
   "metadata": {},
   "outputs": [
    {
     "name": "stderr",
     "output_type": "stream",
     "text": [
      "                                                                                \r"
     ]
    },
    {
     "data": {
      "text/plain": [
       "13525703"
      ]
     },
     "execution_count": 5,
     "metadata": {},
     "output_type": "execute_result"
    }
   ],
   "source": [
    "df.count()"
   ]
  },
  {
   "cell_type": "code",
   "execution_count": 6,
   "id": "1f9217e3-b6af-4436-9e68-672f4767b759",
   "metadata": {},
   "outputs": [
    {
     "name": "stderr",
     "output_type": "stream",
     "text": [
      "                                                                                \r"
     ]
    },
    {
     "name": "stdout",
     "output_type": "stream",
     "text": [
      "+------+--------+\n",
      "|target|   count|\n",
      "+------+--------+\n",
      "|     1|     500|\n",
      "|     3|   92401|\n",
      "|     2|  568265|\n",
      "|     0|12864537|\n",
      "+------+--------+\n",
      "\n"
     ]
    }
   ],
   "source": [
    "df.select(\"target\").groupBy(\"target\").count().show()"
   ]
  },
  {
   "cell_type": "code",
   "execution_count": null,
   "id": "e4b7dcce-5b17-4235-88e8-90542214ed7f",
   "metadata": {},
   "outputs": [],
   "source": [
    "df.select(\"MB9\", \"Rest1\", \"MB7\").show(5)"
   ]
  },
  {
   "cell_type": "code",
   "execution_count": null,
   "id": "629749b7-81e4-44df-aa84-85e480d6c8be",
   "metadata": {},
   "outputs": [],
   "source": [
    "df1.select(sum(df1.StartHesitation),sum(df1.Turn),sum(df1.Walking),sum(df1.target)).show()"
   ]
  },
  {
   "cell_type": "code",
   "execution_count": null,
   "id": "eb798f07-1cbe-4168-9b25-8445363434a2",
   "metadata": {},
   "outputs": [],
   "source": [
    "df.select(sum(df.StartHesitation),sum(df.Turn),sum(df.Walking)).show()"
   ]
  },
  {
   "cell_type": "code",
   "execution_count": null,
   "id": "0a124d21-d4c7-4104-8333-094bbcc8b71e",
   "metadata": {},
   "outputs": [],
   "source": [
    "# does sum of target match sum of each target variable?\n",
    "(1000 * 1) + (1136530 * 2) + (184802 * 3) == 2828466"
   ]
  },
  {
   "cell_type": "code",
   "execution_count": null,
   "id": "e7301a3b-f5f8-492a-8855-c6df3dd16e5b",
   "metadata": {},
   "outputs": [],
   "source": []
  }
 ],
 "metadata": {
  "kernelspec": {
   "display_name": "PySpark",
   "language": "python",
   "name": "pyspark"
  },
  "language_info": {
   "codemirror_mode": {
    "name": "ipython",
    "version": 3
   },
   "file_extension": ".py",
   "mimetype": "text/x-python",
   "name": "python",
   "nbconvert_exporter": "python",
   "pygments_lexer": "ipython3",
   "version": "3.8.15"
  }
 },
 "nbformat": 4,
 "nbformat_minor": 5
}
