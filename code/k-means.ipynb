{
 "cells": [
  {
   "cell_type": "code",
   "execution_count": 1,
   "id": "4c7c83b2-d721-4090-b6c4-51b48b1bfaac",
   "metadata": {},
   "outputs": [],
   "source": [
    "import os \n",
    "# from utils.utils import *\n",
    "\n",
    "# from fog.code.utils.utils import *\n",
    "from pyspark.sql.functions import lit, col\n",
    "from pyspark.sql.types import StringType, BooleanType, IntegerType, FloatType, DateType\n",
    "from pyspark.sql import SparkSession\n",
    "from google.cloud import storage\n",
    "\n",
    "import matplotlib.pyplot as plt\n",
    "from pyspark.ml.feature import VectorAssembler\n",
    "from pyspark.ml.feature import StandardScaler\n",
    "from pyspark.ml.clustering import KMeans\n",
    "from pyspark.ml.evaluation import ClusteringEvaluator\n",
    "    # measures how close each point in one cluster is to points in the neighboring clusters \n",
    "    #  helping in figuring out clusters that are compact and well-spaced out."
   ]
  },
  {
   "cell_type": "code",
   "execution_count": 2,
   "id": "289a1670-66c2-4e5d-8b14-2d06e98c1968",
   "metadata": {},
   "outputs": [],
   "source": [
    "spark = SparkSession.builder.appName(\"K-Means Test\").getOrCreate()"
   ]
  },
  {
   "cell_type": "markdown",
   "id": "10d5db4d-e6b4-4e7c-aceb-345f49b0fb7c",
   "metadata": {},
   "source": [
    "## Read in daily processed parquet files"
   ]
  },
  {
   "cell_type": "code",
   "execution_count": 3,
   "id": "0221bc67-3bec-403f-8254-9edc693ab50d",
   "metadata": {},
   "outputs": [
    {
     "name": "stdout",
     "output_type": "stream",
     "text": [
      "msca-bdp-student-gcs\n"
     ]
    }
   ],
   "source": [
    "daily_path = \"parkinsons_data/unlabeled_combined/daily_one_day\"\n",
    "top_bucket_name = \"msca-bdp-student-gcs\"\n",
    "bucket_path = \"gs://msca-bdp-student-gcs/parkinsons_data/unlabeled_combined/daily_one_day\"\n",
    "print(top_bucket_name)"
   ]
  },
  {
   "cell_type": "code",
   "execution_count": 4,
   "id": "4a39dd6f-7273-44db-b322-34227eef29b2",
   "metadata": {},
   "outputs": [
    {
     "name": "stdout",
     "output_type": "stream",
     "text": [
      "parkinsons_data/unlabeled_combined/daily_one_day/\n",
      "parkinsons_data/unlabeled_combined/daily_one_day/_SUCCESS\n",
      "parkinsons_data/unlabeled_combined/daily_one_day/part-00000-8e482b6f-68bc-40e8-afaa-fcc6b8f880ea-c000.snappy.parquet\n"
     ]
    },
    {
     "name": "stderr",
     "output_type": "stream",
     "text": [
      "                                                                                \r"
     ]
    },
    {
     "name": "stdout",
     "output_type": "stream",
     "text": [
      "parkinsons_data/unlabeled_combined/daily_one_day/part-00014-8e482b6f-68bc-40e8-afaa-fcc6b8f880ea-c000.snappy.parquet\n",
      "parkinsons_data/unlabeled_combined/daily_one_day/part-00044-8e482b6f-68bc-40e8-afaa-fcc6b8f880ea-c000.snappy.parquet\n"
     ]
    },
    {
     "name": "stderr",
     "output_type": "stream",
     "text": [
      "                                                                                \r"
     ]
    },
    {
     "name": "stdout",
     "output_type": "stream",
     "text": [
      "parkinsons_data/unlabeled_combined/daily_one_day/part-00074-8e482b6f-68bc-40e8-afaa-fcc6b8f880ea-c000.snappy.parquet\n",
      "parkinsons_data/unlabeled_combined/daily_one_day/part-00104-8e482b6f-68bc-40e8-afaa-fcc6b8f880ea-c000.snappy.parquet\n",
      "parkinsons_data/unlabeled_combined/daily_one_day/part-00134-8e482b6f-68bc-40e8-afaa-fcc6b8f880ea-c000.snappy.parquet\n",
      "parkinsons_data/unlabeled_combined/daily_one_day/part-00164-8e482b6f-68bc-40e8-afaa-fcc6b8f880ea-c000.snappy.parquet\n",
      "parkinsons_data/unlabeled_combined/daily_one_day/part-00194-8e482b6f-68bc-40e8-afaa-fcc6b8f880ea-c000.snappy.parquet\n",
      "parkinsons_data/unlabeled_combined/daily_one_day/part-00224-8e482b6f-68bc-40e8-afaa-fcc6b8f880ea-c000.snappy.parquet\n",
      "parkinsons_data/unlabeled_combined/daily_one_day/part-00254-8e482b6f-68bc-40e8-afaa-fcc6b8f880ea-c000.snappy.parquet\n",
      "parkinsons_data/unlabeled_combined/daily_one_day/part-00284-8e482b6f-68bc-40e8-afaa-fcc6b8f880ea-c000.snappy.parquet\n",
      "parkinsons_data/unlabeled_combined/daily_one_day/part-00314-8e482b6f-68bc-40e8-afaa-fcc6b8f880ea-c000.snappy.parquet\n",
      "parkinsons_data/unlabeled_combined/daily_one_day/part-00344-8e482b6f-68bc-40e8-afaa-fcc6b8f880ea-c000.snappy.parquet\n",
      "parkinsons_data/unlabeled_combined/daily_one_day/part-00374-8e482b6f-68bc-40e8-afaa-fcc6b8f880ea-c000.snappy.parquet\n",
      "parkinsons_data/unlabeled_combined/daily_one_day/part-00404-8e482b6f-68bc-40e8-afaa-fcc6b8f880ea-c000.snappy.parquet\n",
      "parkinsons_data/unlabeled_combined/daily_one_day/part-00434-8e482b6f-68bc-40e8-afaa-fcc6b8f880ea-c000.snappy.parquet\n",
      "parkinsons_data/unlabeled_combined/daily_one_day/part-00464-8e482b6f-68bc-40e8-afaa-fcc6b8f880ea-c000.snappy.parquet\n",
      "parkinsons_data/unlabeled_combined/daily_one_day/part-00494-8e482b6f-68bc-40e8-afaa-fcc6b8f880ea-c000.snappy.parquet\n",
      "parkinsons_data/unlabeled_combined/daily_one_day/part-00524-8e482b6f-68bc-40e8-afaa-fcc6b8f880ea-c000.snappy.parquet\n",
      "parkinsons_data/unlabeled_combined/daily_one_day/part-00554-8e482b6f-68bc-40e8-afaa-fcc6b8f880ea-c000.snappy.parquet\n",
      "parkinsons_data/unlabeled_combined/daily_one_day/part-00584-8e482b6f-68bc-40e8-afaa-fcc6b8f880ea-c000.snappy.parquet\n",
      "parkinsons_data/unlabeled_combined/daily_one_day/part-00614-8e482b6f-68bc-40e8-afaa-fcc6b8f880ea-c000.snappy.parquet\n",
      "parkinsons_data/unlabeled_combined/daily_one_day/part-00644-8e482b6f-68bc-40e8-afaa-fcc6b8f880ea-c000.snappy.parquet\n",
      "parkinsons_data/unlabeled_combined/daily_one_day/part-00674-8e482b6f-68bc-40e8-afaa-fcc6b8f880ea-c000.snappy.parquet\n",
      "parkinsons_data/unlabeled_combined/daily_one_day/part-00704-8e482b6f-68bc-40e8-afaa-fcc6b8f880ea-c000.snappy.parquet\n",
      "parkinsons_data/unlabeled_combined/daily_one_day/part-00734-8e482b6f-68bc-40e8-afaa-fcc6b8f880ea-c000.snappy.parquet\n",
      "parkinsons_data/unlabeled_combined/daily_one_day/part-00764-8e482b6f-68bc-40e8-afaa-fcc6b8f880ea-c000.snappy.parquet\n",
      "parkinsons_data/unlabeled_combined/daily_one_day/part-00794-8e482b6f-68bc-40e8-afaa-fcc6b8f880ea-c000.snappy.parquet\n",
      "parkinsons_data/unlabeled_combined/daily_one_day/part-00824-8e482b6f-68bc-40e8-afaa-fcc6b8f880ea-c000.snappy.parquet\n",
      "parkinsons_data/unlabeled_combined/daily_one_day/part-00854-8e482b6f-68bc-40e8-afaa-fcc6b8f880ea-c000.snappy.parquet\n",
      "parkinsons_data/unlabeled_combined/daily_one_day/part-00884-8e482b6f-68bc-40e8-afaa-fcc6b8f880ea-c000.snappy.parquet\n",
      "parkinsons_data/unlabeled_combined/daily_one_day/part-00914-8e482b6f-68bc-40e8-afaa-fcc6b8f880ea-c000.snappy.parquet\n",
      "parkinsons_data/unlabeled_combined/daily_one_day/part-00944-8e482b6f-68bc-40e8-afaa-fcc6b8f880ea-c000.snappy.parquet\n",
      "parkinsons_data/unlabeled_combined/daily_one_day/part-00974-8e482b6f-68bc-40e8-afaa-fcc6b8f880ea-c000.snappy.parquet\n",
      "parkinsons_data/unlabeled_combined/daily_one_day/part-01004-8e482b6f-68bc-40e8-afaa-fcc6b8f880ea-c000.snappy.parquet\n",
      "parkinsons_data/unlabeled_combined/daily_one_day/part-01034-8e482b6f-68bc-40e8-afaa-fcc6b8f880ea-c000.snappy.parquet\n",
      "parkinsons_data/unlabeled_combined/daily_one_day/part-01064-8e482b6f-68bc-40e8-afaa-fcc6b8f880ea-c000.snappy.parquet\n",
      "parkinsons_data/unlabeled_combined/daily_one_day/part-01094-8e482b6f-68bc-40e8-afaa-fcc6b8f880ea-c000.snappy.parquet\n",
      "parkinsons_data/unlabeled_combined/daily_one_day/part-01124-8e482b6f-68bc-40e8-afaa-fcc6b8f880ea-c000.snappy.parquet\n",
      "parkinsons_data/unlabeled_combined/daily_one_day/part-01154-8e482b6f-68bc-40e8-afaa-fcc6b8f880ea-c000.snappy.parquet\n",
      "parkinsons_data/unlabeled_combined/daily_one_day/part-01184-8e482b6f-68bc-40e8-afaa-fcc6b8f880ea-c000.snappy.parquet\n",
      "parkinsons_data/unlabeled_combined/daily_one_day/part-01214-8e482b6f-68bc-40e8-afaa-fcc6b8f880ea-c000.snappy.parquet\n",
      "parkinsons_data/unlabeled_combined/daily_one_day/part-01244-8e482b6f-68bc-40e8-afaa-fcc6b8f880ea-c000.snappy.parquet\n",
      "parkinsons_data/unlabeled_combined/daily_one_day/part-01274-8e482b6f-68bc-40e8-afaa-fcc6b8f880ea-c000.snappy.parquet\n",
      "parkinsons_data/unlabeled_combined/daily_one_day/part-01304-8e482b6f-68bc-40e8-afaa-fcc6b8f880ea-c000.snappy.parquet\n",
      "parkinsons_data/unlabeled_combined/daily_one_day/part-01334-8e482b6f-68bc-40e8-afaa-fcc6b8f880ea-c000.snappy.parquet\n",
      "parkinsons_data/unlabeled_combined/daily_one_day/part-01364-8e482b6f-68bc-40e8-afaa-fcc6b8f880ea-c000.snappy.parquet\n",
      "parkinsons_data/unlabeled_combined/daily_one_day/part-01394-8e482b6f-68bc-40e8-afaa-fcc6b8f880ea-c000.snappy.parquet\n",
      "parkinsons_data/unlabeled_combined/daily_one_day/part-01424-8e482b6f-68bc-40e8-afaa-fcc6b8f880ea-c000.snappy.parquet\n",
      "parkinsons_data/unlabeled_combined/daily_one_day/part-01454-8e482b6f-68bc-40e8-afaa-fcc6b8f880ea-c000.snappy.parquet\n",
      "parkinsons_data/unlabeled_combined/daily_one_day/part-01484-8e482b6f-68bc-40e8-afaa-fcc6b8f880ea-c000.snappy.parquet\n",
      "parkinsons_data/unlabeled_combined/daily_one_day/part-01514-8e482b6f-68bc-40e8-afaa-fcc6b8f880ea-c000.snappy.parquet\n",
      "parkinsons_data/unlabeled_combined/daily_one_day/part-01544-8e482b6f-68bc-40e8-afaa-fcc6b8f880ea-c000.snappy.parquet\n",
      "parkinsons_data/unlabeled_combined/daily_one_day/part-01574-8e482b6f-68bc-40e8-afaa-fcc6b8f880ea-c000.snappy.parquet\n",
      "parkinsons_data/unlabeled_combined/daily_one_day/part-01604-8e482b6f-68bc-40e8-afaa-fcc6b8f880ea-c000.snappy.parquet\n",
      "parkinsons_data/unlabeled_combined/daily_one_day/part-01634-8e482b6f-68bc-40e8-afaa-fcc6b8f880ea-c000.snappy.parquet\n",
      "parkinsons_data/unlabeled_combined/daily_one_day/part-01664-8e482b6f-68bc-40e8-afaa-fcc6b8f880ea-c000.snappy.parquet\n",
      "parkinsons_data/unlabeled_combined/daily_one_day/part-01694-8e482b6f-68bc-40e8-afaa-fcc6b8f880ea-c000.snappy.parquet\n",
      "parkinsons_data/unlabeled_combined/daily_one_day/part-01724-8e482b6f-68bc-40e8-afaa-fcc6b8f880ea-c000.snappy.parquet\n",
      "parkinsons_data/unlabeled_combined/daily_one_day/part-01754-8e482b6f-68bc-40e8-afaa-fcc6b8f880ea-c000.snappy.parquet\n",
      "parkinsons_data/unlabeled_combined/daily_one_day/part-01784-8e482b6f-68bc-40e8-afaa-fcc6b8f880ea-c000.snappy.parquet\n",
      "parkinsons_data/unlabeled_combined/daily_one_day/part-01814-8e482b6f-68bc-40e8-afaa-fcc6b8f880ea-c000.snappy.parquet\n",
      "parkinsons_data/unlabeled_combined/daily_one_day/part-01844-8e482b6f-68bc-40e8-afaa-fcc6b8f880ea-c000.snappy.parquet\n",
      "parkinsons_data/unlabeled_combined/daily_one_day/part-01874-8e482b6f-68bc-40e8-afaa-fcc6b8f880ea-c000.snappy.parquet\n",
      "parkinsons_data/unlabeled_combined/daily_one_day/part-01904-8e482b6f-68bc-40e8-afaa-fcc6b8f880ea-c000.snappy.parquet\n",
      "parkinsons_data/unlabeled_combined/daily_one_day/part-01934-8e482b6f-68bc-40e8-afaa-fcc6b8f880ea-c000.snappy.parquet\n"
     ]
    }
   ],
   "source": [
    "client = storage.Client()\n",
    "blobs = client.list_blobs(top_bucket_name, prefix=daily_path)\n",
    "\n",
    "daily_processed = None\n",
    "\n",
    "for i, blob in enumerate(blobs):\n",
    "    print(blob.name)\n",
    "    if blob.name.endswith('.parquet'):\n",
    "        # print(i)\n",
    "        df = spark.read.parquet(f\"gs://{top_bucket_name}/{blob.name}\")\n",
    "        if daily_processed is None:\n",
    "            daily_processed = df\n",
    "        else:\n",
    "            daily_processed = daily_processed.union(df)"
   ]
  },
  {
   "cell_type": "code",
   "execution_count": 5,
   "id": "ddf5aef9-32ad-43ef-ba1b-014be728068b",
   "metadata": {},
   "outputs": [
    {
     "name": "stderr",
     "output_type": "stream",
     "text": [
      "[Stage 67:=============================>                            (2 + 2) / 4]\r"
     ]
    },
    {
     "name": "stdout",
     "output_type": "stream",
     "text": [
      "+-------+----------+----+--------+---------+--------+-----+------------+-----+-----------+\n",
      "|Subject|        Id|Time|    AccV|    AccML|   AccAP|Visit|record_begin|NFOGQ|TimeSeconds|\n",
      "+-------+----------+----+--------+---------+--------+-----+------------+-----+-----------+\n",
      "| 3d8b73|00c4c9313d|   0|0.328125|-0.109375|0.671875|    1|       10:19|    0|        0.0|\n",
      "+-------+----------+----+--------+---------+--------+-----+------------+-----+-----------+\n",
      "only showing top 1 row\n",
      "\n"
     ]
    },
    {
     "name": "stderr",
     "output_type": "stream",
     "text": [
      "                                                                                \r"
     ]
    }
   ],
   "source": [
    "daily_processed.show(1)"
   ]
  },
  {
   "cell_type": "code",
   "execution_count": 6,
   "id": "e723e126-bea3-4791-a91f-a794ae427b92",
   "metadata": {},
   "outputs": [
    {
     "name": "stderr",
     "output_type": "stream",
     "text": [
      "                                                                                \r"
     ]
    },
    {
     "data": {
      "text/plain": [
       "83040"
      ]
     },
     "execution_count": 6,
     "metadata": {},
     "output_type": "execute_result"
    }
   ],
   "source": [
    "daily_processed.count()"
   ]
  },
  {
   "cell_type": "code",
   "execution_count": 7,
   "id": "37db927e-7848-4085-8b42-b8c039a4b088",
   "metadata": {},
   "outputs": [
    {
     "name": "stdout",
     "output_type": "stream",
     "text": [
      "root\n",
      " |-- Subject: string (nullable = true)\n",
      " |-- Id: string (nullable = true)\n",
      " |-- Time: long (nullable = true)\n",
      " |-- AccV: float (nullable = true)\n",
      " |-- AccML: float (nullable = true)\n",
      " |-- AccAP: float (nullable = true)\n",
      " |-- Visit: string (nullable = true)\n",
      " |-- record_begin: string (nullable = true)\n",
      " |-- NFOGQ: string (nullable = true)\n",
      " |-- TimeSeconds: double (nullable = true)\n",
      "\n"
     ]
    }
   ],
   "source": [
    "daily_processed.printSchema()"
   ]
  },
  {
   "cell_type": "markdown",
   "id": "8cdd8408-09e4-423b-a83f-76a30205ff1a",
   "metadata": {},
   "source": [
    "### Convert attributes into features\n",
    "(Not currently including subject, Id, visit, record_begin, or NFOGQ in the features, but not sure if that's the correct decision)\n",
    "\n",
    "Also chose to use timeSeconds, not Time, but not sure if that would make any difference...didn't use both because that seemed redundant\n"
   ]
  },
  {
   "cell_type": "code",
   "execution_count": 8,
   "id": "2390b26b-4889-4346-8656-53af0efe21f2",
   "metadata": {},
   "outputs": [],
   "source": [
    "# Need to go back to make visit an integer?? \n",
    "# Not including as string in vectorizer"
   ]
  },
  {
   "cell_type": "code",
   "execution_count": 9,
   "id": "b191415c-4b4e-494c-be8a-90ae2b139e4c",
   "metadata": {},
   "outputs": [
    {
     "data": {
      "text/plain": [
       "['Subject',\n",
       " 'Id',\n",
       " 'Time',\n",
       " 'AccV',\n",
       " 'AccML',\n",
       " 'AccAP',\n",
       " 'Visit',\n",
       " 'record_begin',\n",
       " 'NFOGQ',\n",
       " 'TimeSeconds']"
      ]
     },
     "execution_count": 9,
     "metadata": {},
     "output_type": "execute_result"
    }
   ],
   "source": [
    "daily_processed.columns"
   ]
  },
  {
   "cell_type": "code",
   "execution_count": 10,
   "id": "1574a341-402e-485f-93e1-a26da333a6a2",
   "metadata": {},
   "outputs": [
    {
     "name": "stderr",
     "output_type": "stream",
     "text": [
      "[Stage 72:=============================>                            (2 + 2) / 4]\r"
     ]
    },
    {
     "name": "stdout",
     "output_type": "stream",
     "text": [
      "+-------+----------+----+----------+------------+----------+-----+------------+-----+-----------+--------------------+\n",
      "|Subject|        Id|Time|      AccV|       AccML|     AccAP|Visit|record_begin|NFOGQ|TimeSeconds|            features|\n",
      "+-------+----------+----+----------+------------+----------+-----+------------+-----+-----------+--------------------+\n",
      "| 3d8b73|00c4c9313d|   0|  0.328125|   -0.109375|  0.671875|    1|       10:19|    0|        0.0|[0.328125,-0.1093...|\n",
      "| 3d8b73|00c4c9313d|   1|0.45310798|-0.124720864|0.81127316|    1|       10:19|    0|       0.01|[0.45310798287391...|\n",
      "+-------+----------+----+----------+------------+----------+-----+------------+-----+-----------+--------------------+\n",
      "only showing top 2 rows\n",
      "\n"
     ]
    },
    {
     "name": "stderr",
     "output_type": "stream",
     "text": [
      "                                                                                \r"
     ]
    }
   ],
   "source": [
    "assemble=VectorAssembler(inputCols=[\n",
    "    'AccV', 'AccML', 'AccAP', 'TimeSeconds'], outputCol = 'features')\n",
    "\n",
    "assembled_data = assemble.transform(daily_processed)\n",
    "assembled_data.show(2)\n"
   ]
  },
  {
   "cell_type": "markdown",
   "id": "17522737-8c1f-4dff-a0fe-7d144979c3f1",
   "metadata": {},
   "source": [
    "### Standardize the data\n",
    "https://towardsdatascience.com/k-means-clustering-using-pyspark-on-big-data-6214beacdc8b"
   ]
  },
  {
   "cell_type": "code",
   "execution_count": 11,
   "id": "255ee78b-1318-415c-a85f-2e8be6625b87",
   "metadata": {},
   "outputs": [
    {
     "name": "stderr",
     "output_type": "stream",
     "text": [
      "[Stage 77:===========================================>              (3 + 1) / 4]\r"
     ]
    },
    {
     "name": "stdout",
     "output_type": "stream",
     "text": [
      "+-------+----------+----+----------+------------+----------+-----+------------+-----+-----------+--------------------+--------------------+\n",
      "|Subject|        Id|Time|      AccV|       AccML|     AccAP|Visit|record_begin|NFOGQ|TimeSeconds|            features|        standardized|\n",
      "+-------+----------+----+----------+------------+----------+-----+------------+-----+-----------+--------------------+--------------------+\n",
      "| 3d8b73|00c4c9313d|   0|  0.328125|   -0.109375|  0.671875|    1|       10:19|    0|        0.0|[0.328125,-0.1093...|[0.72291917292216...|\n",
      "| 3d8b73|00c4c9313d|   1|0.45310798|-0.124720864|0.81127316|    1|       10:19|    0|       0.01|[0.45310798287391...|[0.99827946125299...|\n",
      "+-------+----------+----+----------+------------+----------+-----+------------+-----+-----------+--------------------+--------------------+\n",
      "only showing top 2 rows\n",
      "\n"
     ]
    },
    {
     "name": "stderr",
     "output_type": "stream",
     "text": [
      "                                                                                \r"
     ]
    }
   ],
   "source": [
    "scale = StandardScaler(inputCol='features', outputCol = 'standardized')\n",
    "data_scale = scale.fit(assembled_data)\n",
    "data_scale_output = data_scale.transform(assembled_data)\n",
    "data_scale_output.show(2)"
   ]
  },
  {
   "cell_type": "markdown",
   "id": "f26a8272-fd2b-4aab-b253-0bf83e9c9274",
   "metadata": {},
   "source": [
    "### Use the Silhouette Score to determine ideal number of clusters\n",
    "https://www.data4v.com/tutorial-k-means-clustering-on-spark/"
   ]
  },
  {
   "cell_type": "code",
   "execution_count": 12,
   "id": "38f6e6b0-7eed-47d4-a792-59af5cf81511",
   "metadata": {},
   "outputs": [
    {
     "name": "stderr",
     "output_type": "stream",
     "text": [
      "23/05/17 22:48:21 WARN com.github.fommil.netlib.BLAS: Failed to load implementation from: com.github.fommil.netlib.NativeSystemBLAS\n",
      "23/05/17 22:48:21 WARN com.github.fommil.netlib.BLAS: Failed to load implementation from: com.github.fommil.netlib.NativeRefBLAS\n",
      "[Stage 553:=====================================================> (64 + 2) / 66]\r"
     ]
    },
    {
     "name": "stdout",
     "output_type": "stream",
     "text": [
      "Scores: [0.31633787131780317, 0.362085810017561, 0.39889902648584, 0.4651390921697337, 0.46600087854135563, 0.5015823829611181, 0.5083104144249604, 0.5199848826443698, 0.5205597276581154]\n"
     ]
    },
    {
     "name": "stderr",
     "output_type": "stream",
     "text": [
      "                                                                                \r"
     ]
    }
   ],
   "source": [
    "silhouette_score = []\n",
    "evaluator = ClusteringEvaluator(predictionCol = 'prediction', \\\n",
    "                                featuresCol = 'standardized', \\\n",
    "                                metricName = 'silhouette', \\\n",
    "                                distanceMeasure = 'squaredEuclidean')\n",
    "\n",
    "for i in range(2,11):\n",
    "    kmeans = KMeans(featuresCol = 'standardized', k = i)\n",
    "    kmeans_fit = kmeans.fit(data_scale_output)\n",
    "    output = kmeans_fit.transform(data_scale_output)\n",
    "    \n",
    "    evaluation_score = evaluator.evaluate(output)\n",
    "    silhouette_score.append(evaluation_score)\n",
    "\n",
    "print(f\"Scores:\", silhouette_score)\n",
    "    "
   ]
  },
  {
   "cell_type": "code",
   "execution_count": 13,
   "id": "33ada420-022d-4276-8b51-ef65a1db07a8",
   "metadata": {},
   "outputs": [
    {
     "data": {
      "text/plain": [
       "Text(0, 0.5, 'Silhouette Score')"
      ]
     },
     "execution_count": 13,
     "metadata": {},
     "output_type": "execute_result"
    },
    {
     "data": {
      "image/png": "[encoded data removed]",
      "text/plain": [
       "<Figure size 1000x800 with 1 Axes>"
      ]
     },
     "metadata": {},
     "output_type": "display_data"
    }
   ],
   "source": [
    "fig, ax = plt.subplots(1,1, figsize = (10,8))\n",
    "ax.plot(range(2,11), silhouette_score)\n",
    "ax.set_xlabel('Number of Clusters')\n",
    "ax.set_ylabel('Silhouette Score')"
   ]
  },
  {
   "cell_type": "markdown",
   "id": "dec91fe8-89d3-4ec9-99c6-c3fbf3b79751",
   "metadata": {},
   "source": [
    "### Run model with k clusters\n",
    "https://www.educba.com/pyspark-kmeans/"
   ]
  },
  {
   "cell_type": "code",
   "execution_count": 14,
   "id": "5062085d-656e-43e8-b8fc-06b373e7b7ec",
   "metadata": {},
   "outputs": [
    {
     "name": "stderr",
     "output_type": "stream",
     "text": [
      "                                                                                \r"
     ]
    }
   ],
   "source": [
    "groups = 5\n",
    "kmeans = KMeans(featuresCol = 'standardized', k = groups, seed = 1)\n",
    "model = kmeans.fit(data_scale_output.select('standardized'))\n",
    "transformed = model.transform(data_scale_output)\n"
   ]
  },
  {
   "cell_type": "code",
   "execution_count": 15,
   "id": "4481617c-2fec-48a3-a458-d51b3d2a07c5",
   "metadata": {},
   "outputs": [
    {
     "name": "stdout",
     "output_type": "stream",
     "text": [
      "+-------+----------+----+--------------------+----------+\n",
      "|Subject|        Id|Time|        standardized|prediction|\n",
      "+-------+----------+----+--------------------+----------+\n",
      "| 3d8b73|00c4c9313d|   0|[0.72291917292216...|         2|\n",
      "| 3d8b73|00c4c9313d|   1|[0.99827946125299...|         2|\n",
      "| 3d8b73|00c4c9313d|   2|[0.93203947384370...|         2|\n",
      "| 3d8b73|00c4c9313d|   3|[0.33050978533900...|         2|\n",
      "| 3d8b73|00c4c9313d|   4|[-0.4450496240401...|         2|\n",
      "+-------+----------+----+--------------------+----------+\n",
      "only showing top 5 rows\n",
      "\n"
     ]
    }
   ],
   "source": [
    "transformed.select(\"Subject\", \"Id\", \"Time\", \"standardized\", \"prediction\").show(5)"
   ]
  },
  {
   "cell_type": "code",
   "execution_count": 16,
   "id": "cc5dedcc-9675-4098-9591-43d30bb0ca79",
   "metadata": {},
   "outputs": [
    {
     "name": "stderr",
     "output_type": "stream",
     "text": [
      "                                                                                \r"
     ]
    },
    {
     "name": "stdout",
     "output_type": "stream",
     "text": [
      "+----------+\n",
      "|prediction|\n",
      "+----------+\n",
      "|         1|\n",
      "|         3|\n",
      "|         4|\n",
      "|         2|\n",
      "|         0|\n",
      "+----------+\n",
      "\n"
     ]
    },
    {
     "name": "stderr",
     "output_type": "stream",
     "text": [
      "[Stage 614:======================================================>(65 + 1) / 66]\r"
     ]
    },
    {
     "name": "stdout",
     "output_type": "stream",
     "text": [
      "+----------+-----+\n",
      "|prediction|count|\n",
      "+----------+-----+\n",
      "|         1|17168|\n",
      "|         3| 9158|\n",
      "|         4|11981|\n",
      "|         2|22735|\n",
      "|         0|21998|\n",
      "+----------+-----+\n",
      "\n"
     ]
    },
    {
     "name": "stderr",
     "output_type": "stream",
     "text": [
      "                                                                                \r"
     ]
    }
   ],
   "source": [
    "transformed.select(\"prediction\").distinct().show()\n",
    "transformed.groupBy(\"prediction\").count().show()"
   ]
  },
  {
   "cell_type": "markdown",
   "id": "210a0809-246e-4914-b87a-8111a0e0dbe1",
   "metadata": {},
   "source": [
    "### Visualize Clustering Using PCA\n",
    "https://www.data4v.com/tutorial-k-means-clustering-on-spark/"
   ]
  },
  {
   "cell_type": "code",
   "execution_count": 17,
   "id": "c5c7a8f0-8fc0-4c5b-9197-2e6d9e155763",
   "metadata": {},
   "outputs": [
    {
     "name": "stderr",
     "output_type": "stream",
     "text": [
      "23/05/17 22:51:26 WARN com.github.fommil.netlib.LAPACK: Failed to load implementation from: com.github.fommil.netlib.NativeSystemLAPACK\n",
      "23/05/17 22:51:26 WARN com.github.fommil.netlib.LAPACK: Failed to load implementation from: com.github.fommil.netlib.NativeRefLAPACK\n"
     ]
    }
   ],
   "source": [
    "from pyspark.ml.feature import PCA as PCAml\n",
    "pca = PCAml(k = 2, inputCol = 'standardized', outputCol = 'pca')\n",
    "pca_model = pca.fit(data_scale_output)\n",
    "pca_transformed = pca_model.transform(data_scale_output)"
   ]
  },
  {
   "cell_type": "code",
   "execution_count": 18,
   "id": "aba72149-ca23-45de-9551-e39bc2c43dd3",
   "metadata": {},
   "outputs": [
    {
     "name": "stderr",
     "output_type": "stream",
     "text": [
      "                                                                                \r"
     ]
    }
   ],
   "source": [
    "import numpy as np\n",
    "x_pca = np.array(pca_transformed.rdd.map(lambda row: row.pca).collect())"
   ]
  },
  {
   "cell_type": "code",
   "execution_count": 19,
   "id": "192a4d39-ed24-4601-82a1-86580563de64",
   "metadata": {},
   "outputs": [
    {
     "name": "stderr",
     "output_type": "stream",
     "text": [
      "                                                                                \r"
     ]
    }
   ],
   "source": [
    "cluster_assignment = np.array(transformed.rdd.map(lambda row: row.prediction).collect()).reshape(-1,1)"
   ]
  },
  {
   "cell_type": "code",
   "execution_count": null,
   "id": "57c99e62-be99-4ff1-b866-e6f46b25dc6f",
   "metadata": {},
   "outputs": [],
   "source": [
    "import seaborn as sns\n",
    "import matplotlib.pyplot as plt\n",
    "import pandas as pd\n",
    "\n",
    "pca_data = np.hstack((x_pca,cluster_assignment))\n",
    "\n",
    "pca_df = pd.DataFrame(data=pca_data, columns=(\"1st_principal\", \"2nd_principal\",\"cluster_assignment\"))\n",
    "sns.FacetGrid(pca_df,hue=\"cluster_assignment\", height=6).map(plt.scatter, '1st_principal', '2nd_principal' ).add_legend()\n",
    "\n",
    "plt.show()"
   ]
  }
 ],
 "metadata": {
  "language_info": {
   "codemirror_mode": {
    "name": "ipython",
    "version": 3
   },
   "file_extension": ".py",
   "mimetype": "text/x-python",
   "name": "python",
   "nbconvert_exporter": "python",
   "pygments_lexer": "ipython3",
   "version": "3.8.15"
  }
 },
 "nbformat": 4,
 "nbformat_minor": 5
}
