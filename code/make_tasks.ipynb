{
 "cells": [
  {
   "cell_type": "markdown",
   "id": "2c28b5f7-56b4-4f97-9bbc-b3afe3b34608",
   "metadata": {},
   "source": [
    "Engineer tdcsfog data to join with defog"
   ]
  },
  {
   "cell_type": "code",
   "execution_count": 1,
   "id": "5a66e2a5-c353-4f44-a848-b186e1e45cc5",
   "metadata": {},
   "outputs": [],
   "source": [
    "import os \n",
    "from utils.utils import *\n",
    "from pyspark.sql import SparkSession\n",
    "import pyspark.sql.functions as F"
   ]
  },
  {
   "cell_type": "code",
   "execution_count": 2,
   "id": "a8df8cd8-eed3-4e26-99f3-072e1a39eb1c",
   "metadata": {},
   "outputs": [
    {
     "data": {
      "text/plain": [
       "[('spark.sql.catalogImplementation', 'hive'),\n",
       " ('spark.rpc.message.maxSize', '512'),\n",
       " ('spark.driver.port', '46809'),\n",
       " ('spark.rdd.compress', 'True'),\n",
       " ('spark.serializer.objectStreamReset', '100'),\n",
       " ('spark.master', 'local[*]'),\n",
       " ('spark.executor.id', 'driver'),\n",
       " ('spark.submit.deployMode', 'client'),\n",
       " ('spark.driver.host', '46e84e381bf4'),\n",
       " ('spark.app.id', 'local-1683402957400'),\n",
       " ('spark.ui.showConsoleProgress', 'true'),\n",
       " ('spark.app.name', 'tasks')]"
      ]
     },
     "execution_count": 2,
     "metadata": {},
     "output_type": "execute_result"
    }
   ],
   "source": [
    "spark = SparkSession.builder.appName(\"tasks\").getOrCreate()\n",
    "spark.sparkContext.getConf().getAll()"
   ]
  },
  {
   "cell_type": "markdown",
   "id": "cce5e4c5-6f5e-4d22-833b-a0b5f33a2a4a",
   "metadata": {},
   "source": [
    "### Tasks metadata description  \n",
    "tasks.csv: Task metadata for series in the defog dataset. (Not relevant for the series in the tdcsfog or daily datasets.)    \n",
    "&emsp; 1. Id: The data series where the task was measured.  \n",
    "&emsp; 2. Begin: Time (s) the task began.  \n",
    "&emsp; 3. End: Time (s) the task ended.  \n",
    "&emsp; 4. Task: One of seven tasks types in the DeFOG protocol, described on this page.  \n"
   ]
  },
  {
   "cell_type": "code",
   "execution_count": 3,
   "id": "4bab7a1f-5deb-4cc4-914a-a0bdbc991e4b",
   "metadata": {},
   "outputs": [
    {
     "name": "stderr",
     "output_type": "stream",
     "text": [
      "                                                                                \r"
     ]
    }
   ],
   "source": [
    "tasks_path = \"gs://msca-bdp-student-gcs/parkinsons_data/tasks.csv\"\n",
    "tasks = spark.read.csv(tasks_path, header=True)"
   ]
  },
  {
   "cell_type": "code",
   "execution_count": 4,
   "id": "41fb373d-52b7-4bb8-a29d-74000d32496b",
   "metadata": {},
   "outputs": [],
   "source": [
    "# create duration column\n",
    "tasks = tasks.withColumn('Duration', F.round((tasks.End - tasks.Begin), 3))"
   ]
  },
  {
   "cell_type": "code",
   "execution_count": 5,
   "id": "4a678a90-d76d-4b4e-a3fb-c43413083f31",
   "metadata": {},
   "outputs": [
    {
     "name": "stderr",
     "output_type": "stream",
     "text": [
      "                                                                                \r"
     ]
    }
   ],
   "source": [
    "# count occurrences of each task to compare later\n",
    "task_counts = tasks.groupBy(\"Task\").count().sort(F.desc(\"count\")).collect()\n",
    "\n",
    "task_dict ={}\n",
    "for task, count in task_counts:\n",
    "    task_dict[task] = count"
   ]
  },
  {
   "cell_type": "code",
   "execution_count": 8,
   "id": "958ab9d2-3bb0-4778-aedb-7ab9f7f0a558",
   "metadata": {},
   "outputs": [
    {
     "name": "stdout",
     "output_type": "stream",
     "text": [
      "+----------+------+------+-----+--------+\n",
      "|        Id| Begin|   End| Task|Duration|\n",
      "+----------+------+------+-----+--------+\n",
      "|02ab235146|  10.0|190.48|Rest1|  180.48|\n",
      "|02ab235146|211.24|271.56|Rest2|   60.32|\n",
      "|02ab235146|505.88| 522.4|  4MW|   16.52|\n",
      "|02ab235146|577.96|594.64|4MW-C|   16.68|\n",
      "|02ab235146|701.32|715.28|  MB1|   13.96|\n",
      "+----------+------+------+-----+--------+\n",
      "only showing top 5 rows\n",
      "\n"
     ]
    }
   ],
   "source": [
    "tasks.show(5)"
   ]
  },
  {
   "cell_type": "code",
   "execution_count": 10,
   "id": "59b4551a-2919-4143-8796-efe14de4a929",
   "metadata": {},
   "outputs": [],
   "source": [
    "# create dummy vars\n",
    "tasks_dummy = create_dummies(tasks, \"Task\")"
   ]
  },
  {
   "cell_type": "code",
   "execution_count": 11,
   "id": "b5d0d5ed-f0ab-45b5-977f-eb41bf7e019d",
   "metadata": {},
   "outputs": [
    {
     "name": "stderr",
     "output_type": "stream",
     "text": [
      "23/05/06 19:56:55 WARN org.apache.spark.util.Utils: Truncated the string representation of a plan since it was too large. This behavior can be adjusted by setting 'spark.debug.maxToStringFields' in SparkEnv.conf.\n"
     ]
    },
    {
     "name": "stdout",
     "output_type": "stream",
     "text": [
      "We have retained the original counts: True\n"
     ]
    }
   ],
   "source": [
    "# check that we retained original counts\n",
    "test_count = tasks_dummy.groupBy().sum().collect()\n",
    "test_dict = test_count[0].asDict()\n",
    "\n",
    "for k, v in test_dict.items():\n",
    "    col = k[4:-1]\n",
    "    if col != \"Duration\":\n",
    "        if v != task_dict[col]:\n",
    "            print(\"We have retained the original counts:\", False)\n",
    "print(\"We have retained the original counts:\", True)"
   ]
  },
  {
   "cell_type": "code",
   "execution_count": 12,
   "id": "52aa3a76-d7d8-489f-8ef9-3c7cecbbe293",
   "metadata": {},
   "outputs": [
    {
     "name": "stdout",
     "output_type": "stream",
     "text": [
      "+----------+------+------+-----+--------+---+-----+-----+-----+---------+----+-----+----+---+-----+----+------+----------+------+-----+--------+---+-----+---+----------+----------+---+--------+---+---+---+-----+----+----+----------+----+\n",
      "|        Id| Begin|   End| Task|Duration|MB9|Rest1|MB6-L|MB6-R|Turning-C|MB2a|MB3-L|MB12|MB5|MB3-R|MB13|TUG-DT|Turning-ST|TUG-ST|4MW-C|Hotspot2|MB6|TUG-C|4MW|Hotspot1-C|Hotspot2-C|MB8|Hotspot1|MB4|MB1|MB7|Rest2|MB2b|MB10|Turning-DT|MB11|\n",
      "+----------+------+------+-----+--------+---+-----+-----+-----+---------+----+-----+----+---+-----+----+------+----------+------+-----+--------+---+-----+---+----------+----------+---+--------+---+---+---+-----+----+----+----------+----+\n",
      "|02ab235146|  10.0|190.48|Rest1|  180.48|  0|    1|    0|    0|        0|   0|    0|   0|  0|    0|   0|     0|         0|     0|    0|       0|  0|    0|  0|         0|         0|  0|       0|  0|  0|  0|    0|   0|   0|         0|   0|\n",
      "|02ab235146|211.24|271.56|Rest2|   60.32|  0|    0|    0|    0|        0|   0|    0|   0|  0|    0|   0|     0|         0|     0|    0|       0|  0|    0|  0|         0|         0|  0|       0|  0|  0|  0|    1|   0|   0|         0|   0|\n",
      "|02ab235146|505.88| 522.4|  4MW|   16.52|  0|    0|    0|    0|        0|   0|    0|   0|  0|    0|   0|     0|         0|     0|    0|       0|  0|    0|  1|         0|         0|  0|       0|  0|  0|  0|    0|   0|   0|         0|   0|\n",
      "|02ab235146|577.96|594.64|4MW-C|   16.68|  0|    0|    0|    0|        0|   0|    0|   0|  0|    0|   0|     0|         0|     0|    1|       0|  0|    0|  0|         0|         0|  0|       0|  0|  0|  0|    0|   0|   0|         0|   0|\n",
      "|02ab235146|701.32|715.28|  MB1|   13.96|  0|    0|    0|    0|        0|   0|    0|   0|  0|    0|   0|     0|         0|     0|    0|       0|  0|    0|  0|         0|         0|  0|       0|  0|  1|  0|    0|   0|   0|         0|   0|\n",
      "+----------+------+------+-----+--------+---+-----+-----+-----+---------+----+-----+----+---+-----+----+------+----------+------+-----+--------+---+-----+---+----------+----------+---+--------+---+---+---+-----+----+----+----------+----+\n",
      "only showing top 5 rows\n",
      "\n"
     ]
    }
   ],
   "source": [
    "tasks_dummy.show(5)"
   ]
  },
  {
   "cell_type": "code",
   "execution_count": 15,
   "id": "4142e41f-05c1-40b8-aac8-c56ce7035337",
   "metadata": {},
   "outputs": [
    {
     "name": "stdout",
     "output_type": "stream",
     "text": [
      "+----------+--------+--------+----------+--------+---+-----+-----+-----+---------+----+-----+----+---+-----+----+------+----------+------+-----+--------+---+-----+---+----------+----------+---+--------+---+---+---+-----+----+----+----------+----+\n",
      "|        Id|   Begin|     End|      Task|Duration|MB9|Rest1|MB6-L|MB6-R|Turning-C|MB2a|MB3-L|MB12|MB5|MB3-R|MB13|TUG-DT|Turning-ST|TUG-ST|4MW-C|Hotspot2|MB6|TUG-C|4MW|Hotspot1-C|Hotspot2-C|MB8|Hotspot1|MB4|MB1|MB7|Rest2|MB2b|MB10|Turning-DT|MB11|\n",
      "+----------+--------+--------+----------+--------+---+-----+-----+-----+---------+----+-----+----+---+-----+----+------+----------+------+-----+--------+---+-----+---+----------+----------+---+--------+---+---+---+-----+----+----+----------+----+\n",
      "|02ea782681|    10.0|  21.618|       4MW|  11.618|  0|    0|    0|    0|        0|   0|    0|   0|  0|    0|   0|     0|         0|     0|    0|       0|  0|    0|  1|         0|         0|  0|       0|  0|  0|  0|    0|   0|   0|         0|   0|\n",
      "|02ea782681|1034.975|1045.327|    TUG-DT|  10.352|  0|    0|    0|    0|        0|   0|    0|   0|  0|    0|   0|     1|         0|     0|    0|       0|  0|    0|  0|         0|         0|  0|       0|  0|  0|  0|    0|   0|   0|         0|   0|\n",
      "|02ea782681|  1066.6| 1076.18|    TUG-DT|    9.58|  0|    0|    0|    0|        0|   0|    0|   0|  0|    0|   0|     1|         0|     0|    0|       0|  0|    0|  0|         0|         0|  0|       0|  0|  0|  0|    0|   0|   0|         0|   0|\n",
      "|02ea782681|1234.255|1252.953|Turning-ST|  18.698|  0|    0|    0|    0|        0|   0|    0|   0|  0|    0|   0|     0|         1|     0|    0|       0|  0|    0|  0|         0|         0|  0|       0|  0|  0|  0|    0|   0|   0|         0|   0|\n",
      "|02ea782681|1309.024|1327.066| Turning-C|  18.042|  0|    0|    0|    0|        1|   0|    0|   0|  0|    0|   0|     0|         0|     0|    0|       0|  0|    0|  0|         0|         0|  0|       0|  0|  0|  0|    0|   0|   0|         0|   0|\n",
      "|02ea782681|1371.396|1392.984|Turning-DT|  21.588|  0|    0|    0|    0|        0|   0|    0|   0|  0|    0|   0|     0|         0|     0|    0|       0|  0|    0|  0|         0|         0|  0|       0|  0|  0|  0|    0|   0|   0|         1|   0|\n",
      "|02ea782681|1460.821|1472.346|  Hotspot1|  11.525|  0|    0|    0|    0|        0|   0|    0|   0|  0|    0|   0|     0|         0|     0|    0|       0|  0|    0|  0|         0|         0|  0|       1|  0|  0|  0|    0|   0|   0|         0|   0|\n",
      "|02ea782681|1523.775|1535.467|Hotspot1-C|  11.692|  0|    0|    0|    0|        0|   0|    0|   0|  0|    0|   0|     0|         0|     0|    0|       0|  0|    0|  0|         1|         0|  0|       0|  0|  0|  0|    0|   0|   0|         0|   0|\n",
      "|02ea782681|1570.318|1578.647|  Hotspot2|   8.329|  0|    0|    0|    0|        0|   0|    0|   0|  0|    0|   0|     0|         0|     0|    0|       1|  0|    0|  0|         0|         0|  0|       0|  0|  0|  0|    0|   0|   0|         0|   0|\n",
      "|02ea782681|1610.038| 1619.07|Hotspot2-C|   9.032|  0|    0|    0|    0|        0|   0|    0|   0|  0|    0|   0|     0|         0|     0|    0|       0|  0|    0|  0|         0|         1|  0|       0|  0|  0|  0|    0|   0|   0|         0|   0|\n",
      "|02ea782681|  174.44| 177.909|       MB1|   3.469|  0|    0|    0|    0|        0|   0|    0|   0|  0|    0|   0|     0|         0|     0|    0|       0|  0|    0|  0|         0|         0|  0|       0|  0|  1|  0|    0|   0|   0|         0|   0|\n",
      "|02ea782681|  202.02| 209.735|      MB2b|   7.715|  0|    0|    0|    0|        0|   0|    0|   0|  0|    0|   0|     0|         0|     0|    0|       0|  0|    0|  0|         0|         0|  0|       0|  0|  0|  0|    0|   1|   0|         0|   0|\n",
      "|02ea782681| 243.977| 266.828|     MB3-L|  22.851|  0|    0|    0|    0|        0|   0|    1|   0|  0|    0|   0|     0|         0|     0|    0|       0|  0|    0|  0|         0|         0|  0|       0|  0|  0|  0|    0|   0|   0|         0|   0|\n",
      "|02ea782681| 291.882| 314.466|     MB3-R|  22.584|  0|    0|    0|    0|        0|   0|    0|   0|  0|    1|   0|     0|         0|     0|    0|       0|  0|    0|  0|         0|         0|  0|       0|  0|  0|  0|    0|   0|   0|         0|   0|\n",
      "|02ea782681|  341.99| 348.543|       MB4|   6.553|  0|    0|    0|    0|        0|   0|    0|   0|  0|    0|   0|     0|         0|     0|    0|       0|  0|    0|  0|         0|         0|  0|       0|  1|  0|  0|    0|   0|   0|         0|   0|\n",
      "|02ea782681| 358.967| 367.886|       MB5|   8.919|  0|    0|    0|    0|        0|   0|    0|   0|  1|    0|   0|     0|         0|     0|    0|       0|  0|    0|  0|         0|         0|  0|       0|  0|  0|  0|    0|   0|   0|         0|   0|\n",
      "|02ea782681| 381.251| 390.695|     MB6-R|   9.444|  0|    0|    0|    1|        0|   0|    0|   0|  0|    0|   0|     0|         0|     0|    0|       0|  0|    0|  0|         0|         0|  0|       0|  0|  0|  0|    0|   0|   0|         0|   0|\n",
      "|02ea782681| 404.743| 409.869|     MB6-L|   5.126|  0|    0|    1|    0|        0|   0|    0|   0|  0|    0|   0|     0|         0|     0|    0|       0|  0|    0|  0|         0|         0|  0|       0|  0|  0|  0|    0|   0|   0|         0|   0|\n",
      "|02ea782681| 427.083| 458.852|       MB7|  31.769|  0|    0|    0|    0|        0|   0|    0|   0|  0|    0|   0|     0|         0|     0|    0|       0|  0|    0|  0|         0|         0|  0|       0|  0|  0|  1|    0|   0|   0|         0|   0|\n",
      "|02ea782681| 544.511|  556.36|       MB8|  11.849|  0|    0|    0|    0|        0|   0|    0|   0|  0|    0|   0|     0|         0|     0|    0|       0|  0|    0|  0|         0|         0|  1|       0|  0|  0|  0|    0|   0|   0|         0|   0|\n",
      "+----------+--------+--------+----------+--------+---+-----+-----+-----+---------+----+-----+----+---+-----+----+------+----------+------+-----+--------+---+-----+---+----------+----------+---+--------+---+---+---+-----+----+----+----------+----+\n",
      "only showing top 20 rows\n",
      "\n"
     ]
    }
   ],
   "source": [
    "tasks_dummy.filter(F.col(\"Id\") == \"02ea782681\").orderBy(F.col(\"Begin\")).show()"
   ]
  },
  {
   "cell_type": "code",
   "execution_count": 16,
   "id": "ae49efe1-92fa-4737-b633-de8e9d074f44",
   "metadata": {},
   "outputs": [
    {
     "name": "stderr",
     "output_type": "stream",
     "text": [
      "                                                                                \r"
     ]
    }
   ],
   "source": [
    "# write files to gcs\n",
    "tasks_dummy.write.option(\"header\",True) \\\n",
    "    .csv(\"gs://msca-bdp-student-gcs/parkinsons_data/train/tasks_processed/\")"
   ]
  },
  {
   "cell_type": "code",
   "execution_count": 17,
   "id": "b0547b0f-2f27-4d6d-8a7f-c457bb26eff4",
   "metadata": {},
   "outputs": [],
   "source": [
    "tasks_proc_path = \"parkinsons_data/train/tasks_processed\"\n",
    "task_files = list_blobs(\"msca-bdp-student-gcs\", string_match=tasks_proc_path)"
   ]
  },
  {
   "cell_type": "code",
   "execution_count": 18,
   "id": "b921923c-64ae-44b0-a70e-21b051746ed2",
   "metadata": {},
   "outputs": [
    {
     "data": {
      "text/plain": [
       "['/', '/_SUCCESS', '/part-00000-d969f545-12a1-4a4f-a277-7ca09d7d8695-c000.csv']"
      ]
     },
     "execution_count": 18,
     "metadata": {},
     "output_type": "execute_result"
    }
   ],
   "source": [
    "task_files"
   ]
  },
  {
   "cell_type": "code",
   "execution_count": null,
   "id": "2c9f2c15-661c-4166-b371-96431b4e81d5",
   "metadata": {},
   "outputs": [],
   "source": []
  }
 ],
 "metadata": {
  "kernelspec": {
   "display_name": "PySpark (Local)",
   "language": "python",
   "name": "local-pyspark"
  },
  "language_info": {
   "codemirror_mode": {
    "name": "ipython",
    "version": 3
   },
   "file_extension": ".py",
   "mimetype": "text/x-python",
   "name": "python",
   "nbconvert_exporter": "python",
   "pygments_lexer": "ipython3",
   "version": "3.7.12"
  }
 },
 "nbformat": 4,
 "nbformat_minor": 5
}
