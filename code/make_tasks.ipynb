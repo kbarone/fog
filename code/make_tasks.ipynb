{
 "cells": [
  {
   "cell_type": "markdown",
   "id": "2c28b5f7-56b4-4f97-9bbc-b3afe3b34608",
   "metadata": {},
   "source": [
    "Join tasks data with fog"
   ]
  },
  {
   "cell_type": "code",
   "execution_count": 1,
   "id": "5a66e2a5-c353-4f44-a848-b186e1e45cc5",
   "metadata": {},
   "outputs": [],
   "source": [
    "import os \n",
    "from utils.utils import *\n",
    "from pyspark.sql import SparkSession\n",
    "import pyspark.sql.functions as F"
   ]
  },
  {
   "cell_type": "code",
   "execution_count": 2,
   "id": "a8df8cd8-eed3-4e26-99f3-072e1a39eb1c",
   "metadata": {},
   "outputs": [
    {
     "data": {
      "text/plain": [
       "[('spark.sql.catalogImplementation', 'hive'),\n",
       " ('spark.rpc.message.maxSize', '512'),\n",
       " ('spark.driver.port', '40627'),\n",
       " ('spark.rdd.compress', 'True'),\n",
       " ('spark.serializer.objectStreamReset', '100'),\n",
       " ('spark.master', 'local[*]'),\n",
       " ('spark.executor.id', 'driver'),\n",
       " ('spark.submit.deployMode', 'client'),\n",
       " ('spark.app.id', 'local-1683583606786'),\n",
       " ('spark.driver.host', '7c16108dc9e9'),\n",
       " ('spark.ui.showConsoleProgress', 'true'),\n",
       " ('spark.app.name', 'tasks')]"
      ]
     },
     "execution_count": 2,
     "metadata": {},
     "output_type": "execute_result"
    }
   ],
   "source": [
    "spark = SparkSession.builder.appName(\"tasks\").getOrCreate()\n",
    "spark.sparkContext.getConf().getAll()"
   ]
  },
  {
   "cell_type": "markdown",
   "id": "cce5e4c5-6f5e-4d22-833b-a0b5f33a2a4a",
   "metadata": {},
   "source": [
    "### Tasks metadata description  \n",
    "tasks.csv: Task metadata for series in the defog dataset. (Not relevant for the series in the tdcsfog or daily datasets.)    \n",
    "&emsp; 1. Id: The data series where the task was measured.  \n",
    "&emsp; 2. Begin: Time (s) the task began.  \n",
    "&emsp; 3. End: Time (s) the task ended.  \n",
    "&emsp; 4. Task: One of seven tasks types in the DeFOG protocol, described on this page.  \n"
   ]
  },
  {
   "cell_type": "code",
   "execution_count": 3,
   "id": "4bab7a1f-5deb-4cc4-914a-a0bdbc991e4b",
   "metadata": {},
   "outputs": [
    {
     "name": "stderr",
     "output_type": "stream",
     "text": [
      "                                                                                \r"
     ]
    }
   ],
   "source": [
    "tasks_path = \"gs://msca-bdp-student-gcs/parkinsons_data/tasks.csv\"\n",
    "tasks = spark.read.csv(tasks_path, header=True)"
   ]
  },
  {
   "cell_type": "code",
   "execution_count": 4,
   "id": "301b7432-9c8a-4143-8a21-5ff51bdafaff",
   "metadata": {},
   "outputs": [],
   "source": [
    "# 1. convert times from string to double\n",
    "# 2. rename Type column to TypeName\n",
    "# 3. create dummy variables\n",
    "# 4. merge with fog dataset"
   ]
  },
  {
   "cell_type": "code",
   "execution_count": 5,
   "id": "54ee7d3f-f0b2-4f44-8335-ea5f07b5e148",
   "metadata": {},
   "outputs": [],
   "source": [
    "# convert times to double\n",
    "tasks = tasks.withColumn(\"Begin\",tasks.Begin.cast('double')) \\\n",
    "    .withColumn(\"End\",tasks.End.cast('double'))"
   ]
  },
  {
   "cell_type": "code",
   "execution_count": 6,
   "id": "b00e8c99-2b32-4422-962e-7953b5cbf833",
   "metadata": {},
   "outputs": [],
   "source": [
    "# rename tasks\n",
    "tasks = tasks.withColumnRenamed(\"Task\",\"TaskType\")"
   ]
  },
  {
   "cell_type": "code",
   "execution_count": 7,
   "id": "4a678a90-d76d-4b4e-a3fb-c43413083f31",
   "metadata": {},
   "outputs": [
    {
     "name": "stderr",
     "output_type": "stream",
     "text": [
      "                                                                                \r"
     ]
    }
   ],
   "source": [
    "# count occurrences of each task to compare later\n",
    "task_counts = tasks.groupBy(\"TaskType\").count().sort(F.desc(\"count\")).collect()\n",
    "\n",
    "task_dict ={}\n",
    "for task, count in task_counts:\n",
    "    task_dict[task] = count"
   ]
  },
  {
   "cell_type": "code",
   "execution_count": 8,
   "id": "59b4551a-2919-4143-8796-efe14de4a929",
   "metadata": {},
   "outputs": [
    {
     "name": "stderr",
     "output_type": "stream",
     "text": [
      "                                                                                \r"
     ]
    }
   ],
   "source": [
    "# create dummy vars\n",
    "tasks_dummy = create_dummies(tasks, \"TaskType\")"
   ]
  },
  {
   "cell_type": "code",
   "execution_count": 9,
   "id": "b5d0d5ed-f0ab-45b5-977f-eb41bf7e019d",
   "metadata": {},
   "outputs": [
    {
     "name": "stderr",
     "output_type": "stream",
     "text": [
      "23/05/08 22:07:27 WARN org.apache.spark.util.Utils: Truncated the string representation of a plan since it was too large. This behavior can be adjusted by setting 'spark.debug.maxToStringFields' in SparkEnv.conf.\n"
     ]
    },
    {
     "name": "stdout",
     "output_type": "stream",
     "text": [
      "We have retained the original counts: True\n"
     ]
    }
   ],
   "source": [
    "# check that we retained original counts\n",
    "test_count = tasks_dummy.groupBy().sum().collect()\n",
    "test_dict = test_count[0].asDict()\n",
    "for k, v in test_dict.items():\n",
    "    col = k[4:-1]\n",
    "    if col != \"Begin\" and col != \"End\":\n",
    "        if v != task_dict[col]:\n",
    "            print(\"We have retained the original counts:\", False)\n",
    "print(\"We have retained the original counts:\", True)"
   ]
  },
  {
   "cell_type": "code",
   "execution_count": 10,
   "id": "52aa3a76-d7d8-489f-8ef9-3c7cecbbe293",
   "metadata": {},
   "outputs": [
    {
     "name": "stdout",
     "output_type": "stream",
     "text": [
      "+----------+------+------+--------+---+-----+-----+-----+---------+----+-----+----+---+-----+----+------+----------+------+-----+--------+---+-----+---+----------+----------+---+--------+---+---+---+-----+----+----+----------+----+\n",
      "|        Id| Begin|   End|TaskType|MB9|Rest1|MB6-L|MB6-R|Turning-C|MB2a|MB3-L|MB12|MB5|MB3-R|MB13|TUG-DT|Turning-ST|TUG-ST|4MW-C|Hotspot2|MB6|TUG-C|4MW|Hotspot1-C|Hotspot2-C|MB8|Hotspot1|MB4|MB1|MB7|Rest2|MB2b|MB10|Turning-DT|MB11|\n",
      "+----------+------+------+--------+---+-----+-----+-----+---------+----+-----+----+---+-----+----+------+----------+------+-----+--------+---+-----+---+----------+----------+---+--------+---+---+---+-----+----+----+----------+----+\n",
      "|02ab235146|  10.0|190.48|   Rest1|  0|    1|    0|    0|        0|   0|    0|   0|  0|    0|   0|     0|         0|     0|    0|       0|  0|    0|  0|         0|         0|  0|       0|  0|  0|  0|    0|   0|   0|         0|   0|\n",
      "|02ab235146|211.24|271.56|   Rest2|  0|    0|    0|    0|        0|   0|    0|   0|  0|    0|   0|     0|         0|     0|    0|       0|  0|    0|  0|         0|         0|  0|       0|  0|  0|  0|    1|   0|   0|         0|   0|\n",
      "|02ab235146|505.88| 522.4|     4MW|  0|    0|    0|    0|        0|   0|    0|   0|  0|    0|   0|     0|         0|     0|    0|       0|  0|    0|  1|         0|         0|  0|       0|  0|  0|  0|    0|   0|   0|         0|   0|\n",
      "|02ab235146|577.96|594.64|   4MW-C|  0|    0|    0|    0|        0|   0|    0|   0|  0|    0|   0|     0|         0|     0|    1|       0|  0|    0|  0|         0|         0|  0|       0|  0|  0|  0|    0|   0|   0|         0|   0|\n",
      "|02ab235146|701.32|715.28|     MB1|  0|    0|    0|    0|        0|   0|    0|   0|  0|    0|   0|     0|         0|     0|    0|       0|  0|    0|  0|         0|         0|  0|       0|  0|  1|  0|    0|   0|   0|         0|   0|\n",
      "+----------+------+------+--------+---+-----+-----+-----+---------+----+-----+----+---+-----+----+------+----------+------+-----+--------+---+-----+---+----------+----------+---+--------+---+---+---+-----+----+----+----------+----+\n",
      "only showing top 5 rows\n",
      "\n"
     ]
    }
   ],
   "source": [
    "tasks_dummy.show(5)"
   ]
  },
  {
   "cell_type": "code",
   "execution_count": 11,
   "id": "3904ea77-3980-47b2-8e52-53c01eb20f1f",
   "metadata": {},
   "outputs": [],
   "source": [
    "# load in fog\n",
    "fog_path = \"gs://msca-bdp-student-gcs/parkinsons_data/train/processed/\"\n",
    "fog = spark.read.csv(fog_path, header=True)"
   ]
  },
  {
   "cell_type": "code",
   "execution_count": 12,
   "id": "93e63de5-db44-4523-8e3e-1b79c934fad7",
   "metadata": {},
   "outputs": [],
   "source": [
    "# convert fog TimeSeconds to float\n",
    "fog = fog.withColumn(\"TimeSeconds\",fog.TimeSeconds.cast('double'))"
   ]
  },
  {
   "cell_type": "code",
   "execution_count": 13,
   "id": "7be79a13-df7d-498e-a21e-8af153b1834c",
   "metadata": {},
   "outputs": [
    {
     "name": "stdout",
     "output_type": "stream",
     "text": [
      "root\n",
      " |-- Subject: string (nullable = true)\n",
      " |-- Visit: string (nullable = true)\n",
      " |-- Id: string (nullable = true)\n",
      " |-- Time: string (nullable = true)\n",
      " |-- AccV: string (nullable = true)\n",
      " |-- AccML: string (nullable = true)\n",
      " |-- AccAP: string (nullable = true)\n",
      " |-- StartHesitation: string (nullable = true)\n",
      " |-- Turn: string (nullable = true)\n",
      " |-- Walking: string (nullable = true)\n",
      " |-- Valid: string (nullable = true)\n",
      " |-- Task: string (nullable = true)\n",
      " |-- SourceDefog: string (nullable = true)\n",
      " |-- Medication: string (nullable = true)\n",
      " |-- Age: string (nullable = true)\n",
      " |-- Sex: string (nullable = true)\n",
      " |-- YearsSinceDx: string (nullable = true)\n",
      " |-- UPDRSIII_On: string (nullable = true)\n",
      " |-- UPDRSIII_Off: string (nullable = true)\n",
      " |-- NFOGQ: string (nullable = true)\n",
      " |-- Test: string (nullable = true)\n",
      " |-- TimeSeconds: double (nullable = true)\n",
      "\n"
     ]
    }
   ],
   "source": [
    "# confirm it worked\n",
    "fog.printSchema()"
   ]
  },
  {
   "cell_type": "code",
   "execution_count": 14,
   "id": "fcb5a950-5122-4108-b297-c0181f25927e",
   "metadata": {},
   "outputs": [],
   "source": [
    "# join fog with tasks\n",
    "\n",
    "cond = (tasks_dummy.Id == fog.Id) & (fog.TimeSeconds.between(tasks_dummy.Begin, tasks_dummy.End))\n",
    "fog_tasks = fog \\\n",
    "    .join(tasks_dummy, how='left', on=cond)\\\n",
    "    .drop(tasks_dummy.Id)"
   ]
  },
  {
   "cell_type": "code",
   "execution_count": 126,
   "id": "ae49efe1-92fa-4737-b633-de8e9d074f44",
   "metadata": {},
   "outputs": [
    {
     "name": "stderr",
     "output_type": "stream",
     "text": [
      "                                                                                \r"
     ]
    }
   ],
   "source": [
    "# write files to gcs\n",
    "fog_tasks.write.option(\"header\",True) \\\n",
    "    .csv(\"gs://msca-bdp-student-gcs/parkinsons_data/train/fog_tasks/\")"
   ]
  },
  {
   "cell_type": "code",
   "execution_count": 15,
   "id": "b0547b0f-2f27-4d6d-8a7f-c457bb26eff4",
   "metadata": {},
   "outputs": [],
   "source": [
    "fog_tasks_path = \"parkinsons_data/train/fog_tasks\"\n",
    "fog_task_files = list_blobs(\"msca-bdp-student-gcs\", string_match=fog_tasks_path)"
   ]
  },
  {
   "cell_type": "code",
   "execution_count": 16,
   "id": "b921923c-64ae-44b0-a70e-21b051746ed2",
   "metadata": {},
   "outputs": [
    {
     "data": {
      "text/plain": [
       "['/',\n",
       " '/_SUCCESS',\n",
       " '/part-00000-74e56169-b0fd-4f00-8040-080aa3b7a5b1-c000.csv',\n",
       " '/part-00001-74e56169-b0fd-4f00-8040-080aa3b7a5b1-c000.csv',\n",
       " '/part-00002-74e56169-b0fd-4f00-8040-080aa3b7a5b1-c000.csv']"
      ]
     },
     "execution_count": 16,
     "metadata": {},
     "output_type": "execute_result"
    }
   ],
   "source": [
    "fog_task_files"
   ]
  },
  {
   "cell_type": "code",
   "execution_count": null,
   "id": "4e3b918b-424f-4c77-9c58-99ca8c497f2e",
   "metadata": {},
   "outputs": [],
   "source": []
  }
 ],
 "metadata": {
  "kernelspec": {
   "display_name": "PySpark (Local)",
   "language": "python",
   "name": "local-pyspark"
  },
  "language_info": {
   "codemirror_mode": {
    "name": "ipython",
    "version": 3
   },
   "file_extension": ".py",
   "mimetype": "text/x-python",
   "name": "python",
   "nbconvert_exporter": "python",
   "pygments_lexer": "ipython3",
   "version": "3.7.12"
  }
 },
 "nbformat": 4,
 "nbformat_minor": 5
}
