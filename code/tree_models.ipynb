{
 "cells": [
  {
   "cell_type": "code",
   "execution_count": 83,
   "id": "91bae3c2-4d30-457c-9237-06091a7e50e8",
   "metadata": {},
   "outputs": [],
   "source": [
    "import os \n",
    "# from utils.utils import *\n",
    "\n",
    "# from fog.code.utils.utils import *\n",
    "from pyspark.sql.functions import lit, col, when\n",
    "from pyspark.sql.types import StringType, BooleanType, IntegerType, FloatType, DateType\n",
    "from pyspark.sql import SparkSession\n",
    "from pyspark.sql import functions as F\n",
    "from google.cloud import storage\n",
    "\n",
    "import matplotlib.pyplot as plt\n",
    "from pyspark.ml.feature import VectorAssembler, StandardScaler, StringIndexer, OneHotEncoder\n",
    "from pyspark.ml import Pipeline\n",
    "\n",
    "from pyspark.ml.classification import MultilayerPerceptronClassifier, DecisionTreeClassifier, RandomForestClassifier\n",
    "from pyspark.ml.evaluation import MulticlassClassificationEvaluator\n",
    "from sklearn.metrics import confusion_matrix"
   ]
  },
  {
   "cell_type": "code",
   "execution_count": 3,
   "id": "d5c22b2f-fe8b-4ef0-b363-ca3d594f852e",
   "metadata": {},
   "outputs": [],
   "source": [
    "spark = SparkSession.builder.appName(\"Model Test\").getOrCreate()"
   ]
  },
  {
   "cell_type": "markdown",
   "id": "99b8e11e-1845-4cfd-8914-0155d1ada300",
   "metadata": {},
   "source": [
    "## Functions for data loading and assembling"
   ]
  },
  {
   "cell_type": "code",
   "execution_count": 4,
   "id": "a5b3f6e3-6e0b-4922-a2d1-d76235e3b85f",
   "metadata": {},
   "outputs": [],
   "source": [
    "def feed_files(top_bucket_name, prefix, suffix):\n",
    "    client = storage.Client()\n",
    "    blobs = client.list_blobs(top_bucket_name, prefix=prefix)\n",
    "\n",
    "    processed = None\n",
    "\n",
    "    for i, blob in enumerate(blobs):\n",
    "        print(blob.name)\n",
    "        if blob.name.endswith(suffix):\n",
    "            \n",
    "            if suffix == \".parquet\":\n",
    "                df = spark.read.parquet(f\"gs://{top_bucket_name}/{blob.name}\")\n",
    "            elif suffix == \".csv\":\n",
    "                df = spark.read.csv(f\"gs://{top_bucket_name}/{blob.name}\")\n",
    "            if processed is None:\n",
    "                processed = df\n",
    "            else:\n",
    "                processed = processed.union(df)\n",
    "    return processed"
   ]
  },
  {
   "cell_type": "code",
   "execution_count": 5,
   "id": "7826868a-75a1-49e9-bb7e-20ba10f46f43",
   "metadata": {},
   "outputs": [],
   "source": [
    "data_path = \"parkinsons_data/train/processed/defog_tasks_lagging\"\n",
    "top_bucket_name = \"msca-bdp-student-gcs\""
   ]
  },
  {
   "cell_type": "code",
   "execution_count": 80,
   "id": "0a0fb118-c6b3-4cd9-909b-a62e81990539",
   "metadata": {},
   "outputs": [
    {
     "name": "stdout",
     "output_type": "stream",
     "text": [
      "parkinsons_data/train/processed/defog_tasks_lagging/\n",
      "parkinsons_data/train/processed/defog_tasks_lagging/_SUCCESS\n",
      "parkinsons_data/train/processed/defog_tasks_lagging/part-00000-eae2acef-cda6-49a5-b43f-ded309b7bad5-c000.snappy.parquet\n",
      "parkinsons_data/train/processed/defog_tasks_lagging/part-00001-eae2acef-cda6-49a5-b43f-ded309b7bad5-c000.snappy.parquet\n",
      "parkinsons_data/train/processed/defog_tasks_lagging/part-00002-eae2acef-cda6-49a5-b43f-ded309b7bad5-c000.snappy.parquet\n",
      "parkinsons_data/train/processed/defog_tasks_lagging/part-00003-eae2acef-cda6-49a5-b43f-ded309b7bad5-c000.snappy.parquet\n",
      "parkinsons_data/train/processed/defog_tasks_lagging/part-00004-eae2acef-cda6-49a5-b43f-ded309b7bad5-c000.snappy.parquet\n",
      "parkinsons_data/train/processed/defog_tasks_lagging/part-00005-eae2acef-cda6-49a5-b43f-ded309b7bad5-c000.snappy.parquet\n",
      "parkinsons_data/train/processed/defog_tasks_lagging/part-00006-eae2acef-cda6-49a5-b43f-ded309b7bad5-c000.snappy.parquet\n",
      "parkinsons_data/train/processed/defog_tasks_lagging/part-00007-eae2acef-cda6-49a5-b43f-ded309b7bad5-c000.snappy.parquet\n",
      "parkinsons_data/train/processed/defog_tasks_lagging/part-00008-eae2acef-cda6-49a5-b43f-ded309b7bad5-c000.snappy.parquet\n",
      "parkinsons_data/train/processed/defog_tasks_lagging/part-00009-eae2acef-cda6-49a5-b43f-ded309b7bad5-c000.snappy.parquet\n",
      "parkinsons_data/train/processed/defog_tasks_lagging/part-00010-eae2acef-cda6-49a5-b43f-ded309b7bad5-c000.snappy.parquet\n",
      "parkinsons_data/train/processed/defog_tasks_lagging/part-00011-eae2acef-cda6-49a5-b43f-ded309b7bad5-c000.snappy.parquet\n",
      "parkinsons_data/train/processed/defog_tasks_lagging/part-00012-eae2acef-cda6-49a5-b43f-ded309b7bad5-c000.snappy.parquet\n",
      "parkinsons_data/train/processed/defog_tasks_lagging/part-00013-eae2acef-cda6-49a5-b43f-ded309b7bad5-c000.snappy.parquet\n",
      "parkinsons_data/train/processed/defog_tasks_lagging/part-00014-eae2acef-cda6-49a5-b43f-ded309b7bad5-c000.snappy.parquet\n",
      "parkinsons_data/train/processed/defog_tasks_lagging/part-00015-eae2acef-cda6-49a5-b43f-ded309b7bad5-c000.snappy.parquet\n",
      "parkinsons_data/train/processed/defog_tasks_lagging/part-00016-eae2acef-cda6-49a5-b43f-ded309b7bad5-c000.snappy.parquet\n",
      "parkinsons_data/train/processed/defog_tasks_lagging/part-00017-eae2acef-cda6-49a5-b43f-ded309b7bad5-c000.snappy.parquet\n",
      "parkinsons_data/train/processed/defog_tasks_lagging/part-00018-eae2acef-cda6-49a5-b43f-ded309b7bad5-c000.snappy.parquet\n",
      "parkinsons_data/train/processed/defog_tasks_lagging/part-00019-eae2acef-cda6-49a5-b43f-ded309b7bad5-c000.snappy.parquet\n",
      "parkinsons_data/train/processed/defog_tasks_lagging/part-00020-eae2acef-cda6-49a5-b43f-ded309b7bad5-c000.snappy.parquet\n",
      "parkinsons_data/train/processed/defog_tasks_lagging/part-00021-eae2acef-cda6-49a5-b43f-ded309b7bad5-c000.snappy.parquet\n",
      "parkinsons_data/train/processed/defog_tasks_lagging/part-00022-eae2acef-cda6-49a5-b43f-ded309b7bad5-c000.snappy.parquet\n",
      "parkinsons_data/train/processed/defog_tasks_lagging/part-00023-eae2acef-cda6-49a5-b43f-ded309b7bad5-c000.snappy.parquet\n",
      "parkinsons_data/train/processed/defog_tasks_lagging/part-00024-eae2acef-cda6-49a5-b43f-ded309b7bad5-c000.snappy.parquet\n",
      "parkinsons_data/train/processed/defog_tasks_lagging/part-00025-eae2acef-cda6-49a5-b43f-ded309b7bad5-c000.snappy.parquet\n",
      "parkinsons_data/train/processed/defog_tasks_lagging/part-00026-eae2acef-cda6-49a5-b43f-ded309b7bad5-c000.snappy.parquet\n",
      "parkinsons_data/train/processed/defog_tasks_lagging/part-00027-eae2acef-cda6-49a5-b43f-ded309b7bad5-c000.snappy.parquet\n",
      "parkinsons_data/train/processed/defog_tasks_lagging/part-00028-eae2acef-cda6-49a5-b43f-ded309b7bad5-c000.snappy.parquet\n"
     ]
    }
   ],
   "source": [
    "df = feed_files(top_bucket_name, data_path, \".parquet\")"
   ]
  },
  {
   "cell_type": "code",
   "execution_count": 164,
   "id": "690c785d-6993-4739-9b6a-66502578b48c",
   "metadata": {},
   "outputs": [
    {
     "data": {
      "text/plain": [
       "['Subject',\n",
       " 'Visit',\n",
       " 'Id',\n",
       " 'Time',\n",
       " 'AccV',\n",
       " 'AccML',\n",
       " 'AccAP',\n",
       " 'StartHesitation',\n",
       " 'Turn',\n",
       " 'Walking',\n",
       " 'Valid',\n",
       " 'Task',\n",
       " 'SourceDefog',\n",
       " 'Medication',\n",
       " 'Age',\n",
       " 'Sex',\n",
       " 'YearsSinceDx',\n",
       " 'UPDRSIII_On',\n",
       " 'UPDRSIII_Off',\n",
       " 'NFOGQ',\n",
       " 'Test',\n",
       " 'TimeSeconds',\n",
       " 'Begin',\n",
       " 'End',\n",
       " 'TaskType',\n",
       " 'MB9',\n",
       " 'Rest1',\n",
       " 'MB6-L',\n",
       " 'MB6-R',\n",
       " 'Turning-C',\n",
       " 'MB2a',\n",
       " 'MB3-L',\n",
       " 'MB12',\n",
       " 'MB5',\n",
       " 'MB3-R',\n",
       " 'MB13',\n",
       " 'TUG-DT',\n",
       " 'Turning-ST',\n",
       " 'TUG-ST',\n",
       " '4MW-C',\n",
       " 'Hotspot2',\n",
       " 'MB6',\n",
       " 'TUG-C',\n",
       " '4MW',\n",
       " 'Hotspot1-C',\n",
       " 'Hotspot2-C',\n",
       " 'MB8',\n",
       " 'Hotspot1',\n",
       " 'MB4',\n",
       " 'MB1',\n",
       " 'MB7',\n",
       " 'Rest2',\n",
       " 'MB2b',\n",
       " 'MB10',\n",
       " 'Turning-DT',\n",
       " 'MB11',\n",
       " 'target',\n",
       " 'features',\n",
       " 'standardized',\n",
       " 'prediction_67',\n",
       " 'prediction4',\n",
       " 'AccV_lag1',\n",
       " 'AccV_lag2',\n",
       " 'AccV_lag3',\n",
       " 'AccV_lag4',\n",
       " 'AccV_lag5',\n",
       " 'AccV_lag6',\n",
       " 'AccV_lag7',\n",
       " 'AccV_lag8',\n",
       " 'AccV_lag9',\n",
       " 'AccV_lag10',\n",
       " 'AccML_lag1',\n",
       " 'AccML_lag2',\n",
       " 'AccML_lag3',\n",
       " 'AccML_lag4',\n",
       " 'AccML_lag5',\n",
       " 'AccML_lag6',\n",
       " 'AccML_lag7',\n",
       " 'AccML_lag8',\n",
       " 'AccML_lag9',\n",
       " 'AccML_lag10',\n",
       " 'AccAP_lag1',\n",
       " 'AccAP_lag2',\n",
       " 'AccAP_lag3',\n",
       " 'AccAP_lag4',\n",
       " 'AccAP_lag5',\n",
       " 'AccAP_lag6',\n",
       " 'AccAP_lag7',\n",
       " 'AccAP_lag8',\n",
       " 'AccAP_lag9',\n",
       " 'AccAP_lag10']"
      ]
     },
     "execution_count": 164,
     "metadata": {},
     "output_type": "execute_result"
    }
   ],
   "source": [
    "df.columns"
   ]
  },
  {
   "cell_type": "markdown",
   "id": "3cb7a3c6-f00a-4a4a-ac38-8002c6ee482b",
   "metadata": {},
   "source": [
    "## Update target columns\n",
    "The targets (Turn, Walking, StartHesitation) are only accurate when the columns \"Valid\" and \"Task\" are both true."
   ]
  },
  {
   "cell_type": "code",
   "execution_count": 81,
   "id": "9c43d6d3-04d6-4fae-8288-7871c2f30f39",
   "metadata": {},
   "outputs": [],
   "source": [
    "df = df.withColumn(\"StartHesTrue\", when((df.StartHesitation == 1) & (df.Valid == True) & (df.Task == True), 1).otherwise(0))\n",
    "df = df.withColumn(\"TurnTrue\", when((df.Turn == 1) & (df.Valid == True) & (df.Task == True), 1)\n",
    "      .otherwise(0))\n",
    "df = df.withColumn(\"WalkTrue\", when((df.Walking == 1) & (df.Valid == True) & (df.Task == True), 1)\n",
    "      .otherwise(0))\n",
    "df = df.withColumn(\"NoTrue\", when((df.StartHesTrue == 0) & (df.TurnTrue == 0)  & (df.WalkTrue == 0) & (df.Task == True), 1)\n",
    "      .otherwise(0))\n",
    "df = df.withColumn(\"target\", when((df.target == 1) & (df.Valid == True) & (df.Task == True), 1)\n",
    "                   .when((df.target == 2) & (df.Valid == True) & (df.Task == True), 2)\n",
    "                   .when((df.target == 3) & (df.Valid == True) & (df.Task == True), 3)\n",
    "                   .otherwise(0))"
   ]
  },
  {
   "cell_type": "code",
   "execution_count": 82,
   "id": "acdbee66-410a-48a1-8603-f78d06baee64",
   "metadata": {},
   "outputs": [
    {
     "name": "stderr",
     "output_type": "stream",
     "text": [
      "[Stage 785:======================================>                  (2 + 1) / 3]\r"
     ]
    },
    {
     "name": "stdout",
     "output_type": "stream",
     "text": [
      "+------+--------+\n",
      "|Target|   count|\n",
      "+------+--------+\n",
      "|     1|      88|\n",
      "|     3|   70521|\n",
      "|     2|  414380|\n",
      "|     0|13040714|\n",
      "+------+--------+\n",
      "\n"
     ]
    },
    {
     "name": "stderr",
     "output_type": "stream",
     "text": [
      "                                                                                \r"
     ]
    }
   ],
   "source": [
    "df.select(\"target\").groupBy(\"Target\").count().show()"
   ]
  },
  {
   "cell_type": "code",
   "execution_count": 47,
   "id": "2aa29c78-aae6-4465-9dc3-2e3680670797",
   "metadata": {},
   "outputs": [
    {
     "name": "stderr",
     "output_type": "stream",
     "text": [
      "                                                                                \r"
     ]
    },
    {
     "name": "stdout",
     "output_type": "stream",
     "text": [
      "+--------+--------+\n",
      "|WalkTrue|   count|\n",
      "+--------+--------+\n",
      "|       1|   70521|\n",
      "|       0|13455182|\n",
      "+--------+--------+\n",
      "\n"
     ]
    },
    {
     "name": "stderr",
     "output_type": "stream",
     "text": [
      "                                                                                \r"
     ]
    },
    {
     "name": "stdout",
     "output_type": "stream",
     "text": [
      "+------------+--------+\n",
      "|StartHesTrue|   count|\n",
      "+------------+--------+\n",
      "|           1|      88|\n",
      "|           0|13525615|\n",
      "+------------+--------+\n",
      "\n"
     ]
    },
    {
     "name": "stderr",
     "output_type": "stream",
     "text": [
      "                                                                                \r"
     ]
    },
    {
     "name": "stdout",
     "output_type": "stream",
     "text": [
      "+--------+--------+\n",
      "|TurnTrue|   count|\n",
      "+--------+--------+\n",
      "|       1|  414380|\n",
      "|       0|13111323|\n",
      "+--------+--------+\n",
      "\n"
     ]
    }
   ],
   "source": [
    "df.select(\"WalkTrue\").groupBy(\"WalkTrue\").count().show()\n",
    "df.select(\"StartHesTrue\").groupBy(\"StartHesTrue\").count().show()\n",
    "df.select(\"TurnTrue\").groupBy(\"TurnTrue\").count().show()"
   ]
  },
  {
   "cell_type": "markdown",
   "id": "9667d9c7-bf55-40e4-a14f-d2e94fa0da4a",
   "metadata": {},
   "source": [
    "## Balancing the dataframe\n",
    "Code to balance the target class counts to improve classification accuracy"
   ]
  },
  {
   "cell_type": "code",
   "execution_count": 58,
   "id": "29b9c353-3f79-4e2b-836a-9835f8045189",
   "metadata": {},
   "outputs": [],
   "source": [
    "def resample(large_dataframe, ratio, class_field, base_class):\n",
    "    \"\"\"\n",
    "    Resample the majority class so your dataset is more balanced.\n",
    "    large_dataframe: df with all rows for all labels\n",
    "    ratio: ratio:1 == new_num_majority_samples:num_minority samples\n",
    "    class_field: target class field name\n",
    "    base_class: majority class\n",
    "    \"\"\"\n",
    "    pos = large_dataframe.filter(large_dataframe[class_field] != base_class)\n",
    "    neg = large_dataframe.filter(large_dataframe[class_field] == base_class)\n",
    "    total_pos = pos.count()\n",
    "    total_neg = neg.count()\n",
    "    print(total_pos)\n",
    "    print(total_neg)\n",
    "    print(ratio)\n",
    "    fraction=float(total_pos*ratio)/float(total_neg)\n",
    "    sampled = neg.sample(False,fraction)\n",
    "    \n",
    "    return sampled.union(pos)"
   ]
  },
  {
   "cell_type": "code",
   "execution_count": 59,
   "id": "04dc6522-b006-4e14-af3c-44aea9d621dd",
   "metadata": {},
   "outputs": [
    {
     "name": "stderr",
     "output_type": "stream",
     "text": [
      "                                                                                \r"
     ]
    },
    {
     "name": "stdout",
     "output_type": "stream",
     "text": [
      "484989\n",
      "13040714\n",
      "4\n"
     ]
    },
    {
     "name": "stderr",
     "output_type": "stream",
     "text": [
      "                                                                                \r"
     ]
    },
    {
     "name": "stdout",
     "output_type": "stream",
     "text": [
      "+------+-------+\n",
      "|target|  count|\n",
      "+------+-------+\n",
      "|     1|     88|\n",
      "|     3|  70521|\n",
      "|     2| 414380|\n",
      "|     0|1938205|\n",
      "+------+-------+\n",
      "\n"
     ]
    }
   ],
   "source": [
    "dfsamp = resample(df, 4, \"target\", 0)\n",
    "dfsamp.select(\"target\").groupBy(\"target\").count().show()"
   ]
  },
  {
   "cell_type": "code",
   "execution_count": 60,
   "id": "1890565e-4ab9-495f-bd2c-73a244f13f53",
   "metadata": {},
   "outputs": [],
   "source": [
    "df2 = dfsamp.select('AccV',\n",
    " 'AccML',\n",
    " 'AccAP',\n",
    " 'Medication',\n",
    " 'Age',\n",
    " 'Sex',\n",
    " 'YearsSinceDx',\n",
    " 'UPDRSIII_On',\n",
    " 'UPDRSIII_Off',\n",
    " 'NFOGQ',\n",
    " 'TimeSeconds',\n",
    " 'MB9',\n",
    " 'Rest1',\n",
    " 'MB6-L',\n",
    " 'MB6-R',\n",
    " 'Turning-C',\n",
    " 'MB2a',\n",
    " 'MB3-L',\n",
    " 'MB12',\n",
    " 'MB5',\n",
    " 'MB3-R',\n",
    " 'MB13',\n",
    " 'TUG-DT',\n",
    " 'Turning-ST',\n",
    " 'TUG-ST',\n",
    " '4MW-C',\n",
    " 'Hotspot2',\n",
    " 'MB6',\n",
    " 'TUG-C',\n",
    " '4MW',\n",
    " 'Hotspot1-C',\n",
    " 'Hotspot2-C',\n",
    " 'MB8',\n",
    " 'Hotspot1',\n",
    " 'MB4',\n",
    " 'MB1',\n",
    " 'MB7',\n",
    " 'Rest2',\n",
    " 'MB2b',\n",
    " 'MB10',\n",
    " 'Turning-DT',\n",
    " 'MB11',\n",
    " 'target',\n",
    "'prediction_67',\n",
    " 'prediction4',\n",
    " 'AccV_lag1',\n",
    " 'AccV_lag2',\n",
    " 'AccV_lag3',\n",
    " 'AccV_lag4',\n",
    " 'AccV_lag5',\n",
    " 'AccV_lag6',\n",
    " 'AccV_lag7',\n",
    " 'AccV_lag8',\n",
    " 'AccV_lag9',\n",
    " 'AccV_lag10',\n",
    " 'AccML_lag1',\n",
    " 'AccML_lag2',\n",
    " 'AccML_lag3',\n",
    " 'AccML_lag4',\n",
    " 'AccML_lag5',\n",
    " 'AccML_lag6',\n",
    " 'AccML_lag7',\n",
    " 'AccML_lag8',\n",
    " 'AccML_lag9',\n",
    " 'AccML_lag10',\n",
    " 'AccAP_lag1',\n",
    " 'AccAP_lag2',\n",
    " 'AccAP_lag3',\n",
    " 'AccAP_lag4',\n",
    " 'AccAP_lag5',\n",
    " 'AccAP_lag6',\n",
    " 'AccAP_lag7',\n",
    " 'AccAP_lag8',\n",
    " 'AccAP_lag9',\n",
    " 'AccAP_lag10',\n",
    " 'StartHesTrue',\n",
    " 'TurnTrue',\n",
    " 'WalkTrue',\n",
    " 'NoTrue')"
   ]
  },
  {
   "cell_type": "code",
   "execution_count": 61,
   "id": "e93b9a1f-2861-4687-a605-b6a1352248eb",
   "metadata": {},
   "outputs": [],
   "source": [
    "floats = ['AccV',\n",
    " 'AccML',\n",
    " 'AccAP','AccV_lag1',\n",
    " 'AccV_lag2',\n",
    " 'AccV_lag3',\n",
    " 'AccV_lag4',\n",
    " 'AccV_lag5',\n",
    " 'AccV_lag6',\n",
    " 'AccV_lag7',\n",
    " 'AccV_lag8',\n",
    " 'AccV_lag9',\n",
    " 'AccV_lag10',\n",
    " 'AccML_lag1',\n",
    " 'AccML_lag2',\n",
    " 'AccML_lag3',\n",
    " 'AccML_lag4',\n",
    " 'AccML_lag5',\n",
    " 'AccML_lag6',\n",
    " 'AccML_lag7',\n",
    " 'AccML_lag8',\n",
    " 'AccML_lag9',\n",
    " 'AccML_lag10',\n",
    " 'AccAP_lag1',\n",
    " 'AccAP_lag2',\n",
    " 'AccAP_lag3',\n",
    " 'AccAP_lag4',\n",
    " 'AccAP_lag5',\n",
    " 'AccAP_lag6',\n",
    " 'AccAP_lag7',\n",
    " 'AccAP_lag8',\n",
    " 'AccAP_lag9',\n",
    " 'AccAP_lag10']"
   ]
  },
  {
   "cell_type": "code",
   "execution_count": 62,
   "id": "bcf92c6c-cb6e-48ff-9165-71814548d20d",
   "metadata": {},
   "outputs": [],
   "source": [
    "# Need to cast to \"double\" so vectorAssembler will work\n",
    "for col in floats:\n",
    "    df2 = df2.withColumn(\n",
    "    col,\n",
    "    F.col(col).cast(\"double\"))"
   ]
  },
  {
   "cell_type": "code",
   "execution_count": 63,
   "id": "7399e542-fb09-4c3a-bbc6-55c7606bccc6",
   "metadata": {},
   "outputs": [],
   "source": [
    "df2 = df2.fillna(0)"
   ]
  },
  {
   "cell_type": "markdown",
   "id": "164b6780-fc00-4c53-8ca8-80ae64710ad0",
   "metadata": {},
   "source": [
    "## Pipeline Creation"
   ]
  },
  {
   "cell_type": "code",
   "execution_count": 64,
   "id": "f1d97900-cb3e-4005-9742-ba8ca62928d2",
   "metadata": {},
   "outputs": [],
   "source": [
    "sex_indexer = StringIndexer(inputCol=\"Sex\", outputCol=\"sexIndex\")\n",
    "med_indexer = StringIndexer(inputCol=\"Medication\", outputCol=\"medIndex\")\n",
    "\n",
    "ohe_clust67 = OneHotEncoder(inputCol=\"prediction_67\", outputCol=\"pred67ohe\")\n",
    "ohe_clust4 = OneHotEncoder(inputCol=\"prediction4\", outputCol=\"pred4ohe\")\n",
    "ohe_sex = OneHotEncoder(inputCol=\"sexIndex\", outputCol=\"SexOhe\")\n",
    "ohe_med = OneHotEncoder(inputCol=\"medIndex\", outputCol=\"MedOhe\")\n",
    "\n",
    "assemble=VectorAssembler(inputCols=['AccV', 'AccML', 'AccAP', 'Age'], outputCol = 'assemblefeats')\n",
    "\n",
    "scaleML = StandardScaler(inputCol='assemblefeats', outputCol = 'scalefeats')\n",
    "\n",
    "#Create pipeline and pass all stages\n",
    "pipeline = Pipeline(stages=[sex_indexer,\n",
    "                            med_indexer,\n",
    "                            ohe_clust67,\n",
    "                            ohe_clust4,\n",
    "                            ohe_sex,\n",
    "                            ohe_med,\n",
    "                            assemble,\n",
    "                            scaleML])"
   ]
  },
  {
   "cell_type": "code",
   "execution_count": 65,
   "id": "ea6cec47-e95d-4d79-aebd-df6316c18b25",
   "metadata": {},
   "outputs": [
    {
     "name": "stderr",
     "output_type": "stream",
     "text": [
      "23/05/21 20:22:01 WARN org.apache.spark.scheduler.DAGScheduler: Broadcasting large task binary with size 3.8 MiB\n",
      "23/05/21 20:22:02 WARN org.apache.spark.scheduler.DAGScheduler: Broadcasting large task binary with size 3.8 MiB\n",
      "23/05/21 20:22:03 WARN org.apache.spark.scheduler.DAGScheduler: Broadcasting large task binary with size 3.8 MiB\n",
      "[Stage 701:====================================================>  (19 + 1) / 20]\r"
     ]
    },
    {
     "name": "stdout",
     "output_type": "stream",
     "text": [
      "+-------------------+--------------------+--------------------+----------+---+---+------------+-----------+------------+-----+-----------+---+-----+-----+-----+---------+----+-----+----+---+-----+----+------+----------+------+-----+--------+---+-----+---+----------+----------+---+--------+---+---+---+-----+----+----+----------+----+------+-------------+-----------+-------------------+-------------------+-------------------+-------------------+-------------------+-------------------+-------------------+-------------------+-------------------+-------------------+--------------------+--------------------+--------------------+--------------------+--------------------+--------------------+--------------------+--------------------+--------------------+--------------------+--------------------+--------------------+--------------------+--------------------+--------------------+--------------------+--------------------+--------------------+--------------------+--------------------+------------+--------+--------+------+--------+--------+---------------+-------------+-------------+-------------+--------------------+--------------------+\n",
      "|               AccV|               AccML|               AccAP|Medication|Age|Sex|YearsSinceDx|UPDRSIII_On|UPDRSIII_Off|NFOGQ|TimeSeconds|MB9|Rest1|MB6-L|MB6-R|Turning-C|MB2a|MB3-L|MB12|MB5|MB3-R|MB13|TUG-DT|Turning-ST|TUG-ST|4MW-C|Hotspot2|MB6|TUG-C|4MW|Hotspot1-C|Hotspot2-C|MB8|Hotspot1|MB4|MB1|MB7|Rest2|MB2b|MB10|Turning-DT|MB11|target|prediction_67|prediction4|          AccV_lag1|          AccV_lag2|          AccV_lag3|          AccV_lag4|          AccV_lag5|          AccV_lag6|          AccV_lag7|          AccV_lag8|          AccV_lag9|         AccV_lag10|          AccML_lag1|          AccML_lag2|          AccML_lag3|          AccML_lag4|          AccML_lag5|          AccML_lag6|          AccML_lag7|          AccML_lag8|          AccML_lag9|         AccML_lag10|          AccAP_lag1|          AccAP_lag2|          AccAP_lag3|          AccAP_lag4|          AccAP_lag5|          AccAP_lag6|          AccAP_lag7|          AccAP_lag8|          AccAP_lag9|         AccAP_lag10|StartHesTrue|TurnTrue|WalkTrue|NoTrue|sexIndex|medIndex|      pred67ohe|     pred4ohe|       SexOhe|       MedOhe|       assemblefeats|          scalefeats|\n",
      "+-------------------+--------------------+--------------------+----------+---+---+------------+-----------+------------+-----+-----------+---+-----+-----+-----+---------+----+-----+----+---+-----+----+------+----------+------+-----+--------+---+-----+---+----------+----------+---+--------+---+---+---+-----+----+----+----------+----+------+-------------+-----------+-------------------+-------------------+-------------------+-------------------+-------------------+-------------------+-------------------+-------------------+-------------------+-------------------+--------------------+--------------------+--------------------+--------------------+--------------------+--------------------+--------------------+--------------------+--------------------+--------------------+--------------------+--------------------+--------------------+--------------------+--------------------+--------------------+--------------------+--------------------+--------------------+--------------------+------------+--------+--------+------+--------+--------+---------------+-------------+-------------+-------------+--------------------+--------------------+\n",
      "|-0.8987681269645691|-0.12718285620212555| 0.42027801275253296|        on| 62|  M|          13|         35|          45|   19|      100.0|  0|    1|    0|    0|        0|   0|    0|   0|  0|    0|   0|     0|         0|     0|    0|       0|  0|    0|  0|         0|         0|  0|       0|  0|  0|  0|    0|   0|   0|         0|   0|     0|           61|          1|-0.8984823226928711|-0.9055313467979431|-0.8987909555435181|-0.9063776731491089| -0.897925078868866| -0.906733512878418|-0.8972374200820923|           -0.90625|-0.8983333706855774| -0.905724048614502|-0.14384622871875763|-0.13454435765743256|  -0.146479532122612|   -0.13504558801651|-0.14794647693634033|-0.13408157229423523|-0.14654108881950378|     -0.135009765625|-0.14672334492206573|     -0.135009765625|  0.4258265793323517|  0.4114361107349396|  0.4239058792591095| 0.40707433223724365|  0.4216387867927551| 0.40758028626441956|      0.423095703125| 0.40366771817207336|  0.4233044683933258|  0.4064669907093048|           0|       0|       0|     1|     0.0|     0.0|(66,[61],[1.0])|(3,[1],[1.0])|(1,[0],[1.0])|(1,[0],[1.0])|[-0.8987681269645...|[-10.383551430690...|\n",
      "|-0.9882286787033081| -0.1346881091594696|-0.22440233826637268|       off| 62|  M|          13|         35|          45|   19|    1000.12|  0|    0|    0|    0|        0|   0|    0|   0|  0|    0|   0|     0|         0|     0|    0|       0|  0|    0|  0|         0|         0|  0|       0|  0|  0|  0|    0|   0|   0|         0|   0|     0|           61|          1|-0.9819245934486389|-1.0305184125900269|-0.9831213355064392|-1.0448275804519653|-0.9820056557655334|-0.8983979225158691|-0.9001240134239197|-1.0424655675888062|-0.9835492372512817|-1.0139405727386475| -0.1822175681591034|-0.10179458558559418| -0.1807027906179428|-0.08826784789562225|-0.18181270360946655| -0.1467266082763672|        -0.126953125|-0.08550174534320831|-0.18096596002578735|-0.08831914514303207|      -0.03466796875|-0.19553717970848083|-0.03650727868080139|-0.17002460360527039| -0.0361616350710392|  0.4221583604812622| 0.42127469182014465|-0.13738331198692322|-0.03682191669940...|-0.09235700219869614|           0|       0|       0|     1|     0.0|     1.0|(66,[61],[1.0])|(3,[1],[1.0])|(1,[0],[1.0])|    (1,[],[])|[-0.9882286787033...|[-11.417097472353...|\n",
      "|-0.9842554926872253|-0.18718677759170532|-0.03369208052754402|        on| 62|  M|          13|         35|          45|   19|    1000.14|  0|    0|    0|    0|        0|   0|    0|   0|  0|    0|   0|     0|         0|     0|    0|       0|  0|    0|  0|         0|         0|  0|       0|  0|  0|  0|    0|   0|   0|         0|   0|     0|           61|          1|-0.9231921434402466| -0.980356752872467|-0.9882286787033081|-0.9819245934486389|-1.0305184125900269|-0.9831213355064392|-1.0448275804519653|-0.9820056557655334|-0.8983979225158691|-0.9001240134239197| -0.1666911393404007| -0.1853547841310501| -0.1346881091594696| -0.1822175681591034|-0.10179458558559418| -0.1807027906179428|-0.08826784789562225|-0.18181270360946655| -0.1467266082763672|        -0.126953125|-0.22726213932037354|-0.03464547917246...|-0.22440233826637268|      -0.03466796875|-0.19553717970848083|-0.03650727868080139|-0.17002460360527039| -0.0361616350710392|  0.4221583604812622| 0.42127469182014465|           0|       0|       0|     1|     0.0|     0.0|(66,[61],[1.0])|(3,[1],[1.0])|(1,[0],[1.0])|(1,[0],[1.0])|[-0.9842554926872...|[-11.371194886242...|\n",
      "|-0.9860562086105347| -0.1867215782403946|-0.03842533379793167|        on| 62|  M|          13|         35|          45|   19|    1000.17|  0|    0|    0|    0|        0|   0|    0|   0|  0|    0|   0|     0|         0|     0|    0|       0|  0|    0|  0|         0|         0|  0|       0|  0|  0|  0|    0|   0|   0|         0|   0|     0|           61|          1|-0.7922743558883667|    -0.986083984375|-0.8191419839859009| -0.987464427947998|-0.8698514699935913|-0.9842554926872253|-0.9231921434402466| -0.980356752872467|-0.9882286787033081|-0.9819245934486389|-0.21759115159511566|-0.18874719738960266| -0.2150256484746933|-0.18990877270698547| -0.1938706934452057|-0.18718677759170532| -0.1666911393404007| -0.1853547841310501| -0.1346881091594696| -0.1822175681591034| -0.1984221637248993|-0.03476598858833313| -0.2048323154449463|-0.03182197362184...|-0.21426011621952057|-0.03369208052754402|-0.22726213932037354|-0.03464547917246...|-0.22440233826637268|      -0.03466796875|           0|       0|       0|     1|     0.0|     0.0|(66,[61],[1.0])|(3,[1],[1.0])|(1,[0],[1.0])|(1,[0],[1.0])|[-0.9860562086105...|[-11.391998724118...|\n",
      "|-0.8145161867141724|-0.19918298721313477| -0.1764799952507019|       off| 62|  M|          13|         35|          45|   19|    1000.19|  0|    0|    0|    0|        0|   0|    0|   0|  0|    0|   0|     0|         0|     0|    0|       0|  0|    0|  0|         0|         0|  0|       0|  0|  0|  0|    0|   0|   0|         0|   0|     0|           61|          1|-0.9857015013694763|-0.7927252650260925|-0.9856095910072327|-0.7894877195358276|-0.9860562086105347|-0.7922743558883667|    -0.986083984375|-0.8191419839859009| -0.987464427947998|-0.8698514699935913|-0.18558655679225922|-0.20161384344100952|-0.18531224131584167|-0.21236026287078857| -0.1867215782403946|-0.21759115159511566|-0.18874719738960266| -0.2150256484746933|-0.18990877270698547| -0.1938706934452057|-0.03437336534261...|-0.18708646297454834|-0.03514416888356209|-0.19225290417671204|-0.03842533379793167| -0.1984221637248993|-0.03476598858833313| -0.2048323154449463|-0.03182197362184...|-0.21426011621952057|           0|       0|       0|     1|     0.0|     1.0|(66,[61],[1.0])|(3,[1],[1.0])|(1,[0],[1.0])|    (1,[],[])|[-0.8145161867141...|[-9.4101809600659...|\n",
      "|-0.8996154069900513|-0.12684056162834167| 0.42184942960739136|        on| 62|  M|          13|         35|          45|   19|     100.02|  0|    1|    0|    0|        0|   0|    0|   0|  0|    0|   0|     0|         0|     0|    0|       0|  0|    0|  0|         0|         0|  0|       0|  0|  0|  0|    0|   0|   0|         0|   0|     0|           61|          1|-0.8145161867141724|-0.9857015013694763|-0.7927252650260925|-0.9856095910072327|-0.7894877195358276|-0.9860562086105347|-0.7922743558883667|    -0.986083984375|-0.8191419839859009| -0.987464427947998|-0.19918298721313477|-0.18558655679225922|-0.20161384344100952|-0.18531224131584167|-0.21236026287078857| -0.1867215782403946|-0.21759115159511566|-0.18874719738960266| -0.2150256484746933|-0.18990877270698547| -0.1764799952507019|-0.03437336534261...|-0.18708646297454834|-0.03514416888356209|-0.19225290417671204|-0.03842533379793167| -0.1984221637248993|-0.03476598858833313| -0.2048323154449463|-0.03182197362184...|           0|       0|       0|     1|     0.0|     0.0|(66,[61],[1.0])|(3,[1],[1.0])|(1,[0],[1.0])|(1,[0],[1.0])|[-0.8996154069900...|[-10.393340135314...|\n",
      "|-0.9834590554237366|-0.18575343489646912|-0.03751635923981...|        on| 62|  M|          13|         35|          45|   19|     1000.2|  0|    0|    0|    0|        0|   0|    0|   0|  0|    0|   0|     0|         0|     0|    0|       0|  0|    0|  0|         0|         0|  0|       0|  0|  0|  0|    0|   0|   0|         0|   0|     0|           61|          1|-0.8960105776786804|-0.8996154069900513|-0.8145161867141724|-0.9857015013694763|-0.7927252650260925|-0.9856095910072327|-0.7894877195358276|-0.9860562086105347|-0.7922743558883667|    -0.986083984375| -0.1464485079050064|-0.12684056162834167|-0.19918298721313477|-0.18558655679225922|-0.20161384344100952|-0.18531224131584167|-0.21236026287078857| -0.1867215782403946|-0.21759115159511566|-0.18874719738960266|  0.4248667061328888| 0.42184942960739136| -0.1764799952507019|-0.03437336534261...|-0.18708646297454834|-0.03514416888356209|-0.19225290417671204|-0.03842533379793167| -0.1984221637248993|-0.03476598858833313|           0|       0|       0|     1|     0.0|     0.0|(66,[61],[1.0])|(3,[1],[1.0])|(1,[0],[1.0])|(1,[0],[1.0])|[-0.9834590554237...|[-11.361993572756...|\n",
      "|-0.8567166328430176|-0.20978297293186188|-0.16128699481487274|       off| 62|  M|          13|         35|          45|   19|     1000.2|  0|    0|    0|    0|        0|   0|    0|   0|  0|    0|   0|     0|         0|     0|    0|       0|  0|    0|  0|         0|         0|  0|       0|  0|  0|  0|    0|   0|   0|         0|   0|     0|           61|          1|-0.9834590554237366|-0.8960105776786804|-0.8996154069900513|-0.8145161867141724|-0.9857015013694763|-0.7927252650260925|-0.9856095910072327|-0.7894877195358276|-0.9860562086105347|-0.7922743558883667|-0.18575343489646912| -0.1464485079050064|-0.12684056162834167|-0.19918298721313477|-0.18558655679225922|-0.20161384344100952|-0.18531224131584167|-0.21236026287078857| -0.1867215782403946|-0.21759115159511566|-0.03751635923981...|  0.4248667061328888| 0.42184942960739136| -0.1764799952507019|-0.03437336534261...|-0.18708646297454834|-0.03514416888356209|-0.19225290417671204|-0.03842533379793167| -0.1984221637248993|           0|       0|       0|     1|     0.0|     1.0|(66,[61],[1.0])|(3,[1],[1.0])|(1,[0],[1.0])|    (1,[],[])|[-0.8567166328430...|[-9.8977266235474...|\n",
      "| -0.985628068447113|-0.18289905786514282|-0.03594693541526...|        on| 62|  M|          13|         35|          45|   19|    1000.26|  0|    0|    0|    0|        0|   0|    0|   0|  0|    0|   0|     0|         0|     0|    0|       0|  0|    0|  0|         0|         0|  0|       0|  0|  0|  0|    0|   0|   0|         0|   0|     0|           61|          1| -0.997462809085846|-0.9890971779823303|-0.9858909249305725|-0.9886036515235901| -0.966111421585083|-0.9883361458778381|-0.9390480518341064|-0.9850924015045166|-0.9016373157501221|-0.9846676588058472|-0.24767550826072693|-0.18161766231060028|-0.24608901143074036|-0.17836567759513855|-0.24825483560562134|-0.18214358389377594|-0.23905405402183533|-0.18168120086193085|-0.22548243403434753|-0.18422465026378632|-0.10894539207220078|-0.03869627416133...| -0.1084631159901619|-0.03674118965864...|-0.11672104895114899|-0.03777430579066...|-0.13342580199241638|-0.03622747957706...|-0.15057523548603058|       -0.0361328125|           0|       0|       0|     1|     0.0|     0.0|(66,[61],[1.0])|(3,[1],[1.0])|(1,[0],[1.0])|(1,[0],[1.0])|[-0.9856280684471...|[-11.387052381148...|\n",
      "| -1.074798822402954| -0.3020103871822357|  -0.114521823823452|       off| 62|  M|          13|         35|          45|   19|    1000.28|  0|    0|    0|    0|        0|   0|    0|   0|  0|    0|   0|     0|         0|     0|    0|       0|  0|    0|  0|         0|         0|  0|       0|  0|  0|  0|    0|   0|   0|         0|   0|     0|           61|          1|-0.9851592779159546|-1.0470385551452637|-0.9848709106445312|-1.0166904926300049| -0.985628068447113| -0.997462809085846|-0.9890971779823303|-0.9858909249305725|-0.9886036515235901| -0.966111421585083| -0.1894475221633911| -0.2791890501976013|-0.18610522150993347| -0.2573091983795166|-0.18289905786514282|-0.24767550826072693|-0.18161766231060028|-0.24608901143074036|-0.17836567759513855|-0.24825483560562134|-0.03379150480031967|-0.11292675137519836|-0.03502910956740379|-0.11107676476240158|-0.03594693541526...|-0.10894539207220078|-0.03869627416133...| -0.1084631159901619|-0.03674118965864...|-0.11672104895114899|           0|       0|       0|     1|     0.0|     1.0|(66,[61],[1.0])|(3,[1],[1.0])|(1,[0],[1.0])|    (1,[],[])|[-1.0747988224029...|[-12.417250362179...|\n",
      "|-0.8993512988090515|-0.12506356835365295|  0.4209747910499573|        on| 62|  M|          13|         35|          45|   19|     100.03|  0|    1|    0|    0|        0|   0|    0|   0|  0|    0|   0|     0|         0|     0|    0|       0|  0|    0|  0|         0|         0|  0|       0|  0|  0|  0|    0|   0|   0|         0|   0|     0|           61|          1|-1.0990320444107056|-0.9856727123260498| -1.074798822402954|-0.9851592779159546|-1.0470385551452637|-0.9848709106445312|-1.0166904926300049| -0.985628068447113| -0.997462809085846|-0.9890971779823303|-0.31528007984161377| -0.1890314370393753| -0.3020103871822357| -0.1894475221633911| -0.2791890501976013|-0.18610522150993347| -0.2573091983795166|-0.18289905786514282|-0.24767550826072693|-0.18161766231060028|-0.10664279758930206|-0.03023953549563...|  -0.114521823823452|-0.03379150480031967|-0.11292675137519836|-0.03502910956740379|-0.11107676476240158|-0.03594693541526...|-0.10894539207220078|-0.03869627416133...|           0|       0|       0|     1|     0.0|     0.0|(66,[61],[1.0])|(3,[1],[1.0])|(1,[0],[1.0])|(1,[0],[1.0])|[-0.8993512988090...|[-10.390288869033...|\n",
      "|-0.9808890223503113|-0.18621419370174408|-0.03522465378046036|        on| 62|  M|          13|         35|          45|   19|    1000.32|  0|    0|    0|    0|        0|   0|    0|   0|  0|    0|   0|     0|         0|     0|    0|       0|  0|    0|  0|         0|         0|  0|       0|  0|  0|  0|    0|   0|   0|         0|   0|     0|           61|          1|-1.1176273822784424|-0.9828428030014038| -1.117344856262207|-0.9859678149223328|-0.8976208567619324|-0.8993512988090515|-1.0990320444107056|-0.9856727123260498| -1.074798822402954|-0.9851592779159546|-0.30714941024780273|-0.18770818412303925| -0.3147848844528198| -0.1868194341659546|-0.14541679620742798|-0.12506356835365295|-0.31528007984161377| -0.1890314370393753| -0.3020103871822357| -0.1894475221633911|-0.09780551493167877|-0.03332000970840454|-0.10098910331726074|-0.03389665856957...|  0.4252645671367645|  0.4209747910499573|-0.10664279758930206|-0.03023953549563...|  -0.114521823823452|-0.03379150480031967|           0|       0|       0|     1|     0.0|     0.0|(66,[61],[1.0])|(3,[1],[1.0])|(1,[0],[1.0])|(1,[0],[1.0])|[-0.9808890223503...|[-11.332301742577...|\n",
      "|-0.9783363342285156| -0.1825706660747528|-0.02936080470681...|        on| 62|  M|          13|         35|          45|   19|    1000.34|  0|    0|    0|    0|        0|   0|    0|   0|  0|    0|   0|     0|         0|     0|    0|       0|  0|    0|  0|         0|         0|  0|       0|  0|  0|  0|    0|   0|   0|         0|   0|     0|           61|          1|-1.0747815370559692| -0.978852391242981|-1.0976637601852417|-0.9808890223503113|-1.1176273822784424|-0.9828428030014038| -1.117344856262207|-0.9859678149223328|-0.8976208567619324|-0.8993512988090515| -0.3161761164665222|-0.18339821696281433| -0.3076828718185425|-0.18621419370174408|-0.30714941024780273|-0.18770818412303925| -0.3147848844528198| -0.1868194341659546|-0.14541679620742798|-0.12506356835365295|-0.10664485394954681|-0.03087413311004...|-0.10177991539239883|-0.03522465378046036|-0.09780551493167877|-0.03332000970840454|-0.10098910331726074|-0.03389665856957...|  0.4252645671367645|  0.4209747910499573|           0|       0|       0|     1|     0.0|     0.0|(66,[61],[1.0])|(3,[1],[1.0])|(1,[0],[1.0])|(1,[0],[1.0])|[-0.9783363342285...|[-11.302810300231...|\n",
      "| -1.064139723777771|-0.32895877957344055|-0.10468576848506927|       off| 62|  M|          13|         35|          45|   19|    1000.34|  0|    0|    0|    0|        0|   0|    0|   0|  0|    0|   0|     0|         0|     0|    0|       0|  0|    0|  0|         0|         0|  0|       0|  0|  0|  0|    0|   0|   0|         0|   0|     0|           61|          1|-0.9783363342285156|-1.0747815370559692| -0.978852391242981|-1.0976637601852417|-0.9808890223503113|-1.1176273822784424|-0.9828428030014038| -1.117344856262207|-0.9859678149223328|-0.8976208567619324| -0.1825706660747528| -0.3161761164665222|-0.18339821696281433| -0.3076828718185425|-0.18621419370174408|-0.30714941024780273|-0.18770818412303925| -0.3147848844528198| -0.1868194341659546|-0.14541679620742798|-0.02936080470681...|-0.10664485394954681|-0.03087413311004...|-0.10177991539239883|-0.03522465378046036|-0.09780551493167877|-0.03332000970840454|-0.10098910331726074|-0.03389665856957...|  0.4252645671367645|           0|       0|       0|     1|     0.0|     1.0|(66,[61],[1.0])|(3,[1],[1.0])|(1,[0],[1.0])|    (1,[],[])|[-1.0641397237777...|[-12.294104808327...|\n",
      "|-0.9833951592445374| -0.1811748743057251|-0.03007983602583...|        on| 62|  M|          13|         35|          45|   19|    1000.36|  0|    0|    0|    0|        0|   0|    0|   0|  0|    0|   0|     0|         0|     0|    0|       0|  0|    0|  0|         0|         0|  0|       0|  0|  0|  0|    0|   0|   0|         0|   0|     0|           61|          1|-1.0494376420974731|-0.9805415272712708| -1.064139723777771|-0.9783363342285156|-1.0747815370559692| -0.978852391242981|-1.0976637601852417|-0.9808890223503113|-1.1176273822784424|-0.9828428030014038|-0.33125343918800354|-0.18230390548706055|-0.32895877957344055| -0.1825706660747528| -0.3161761164665222|-0.18339821696281433| -0.3076828718185425|-0.18621419370174408|-0.30714941024780273|-0.18770818412303925|-0.10017162561416626|-0.03049235604703...|-0.10468576848506927|-0.02936080470681...|-0.10664485394954681|-0.03087413311004...|-0.10177991539239883|-0.03522465378046036|-0.09780551493167877|-0.03332000970840454|           0|       0|       0|     1|     0.0|     0.0|(66,[61],[1.0])|(3,[1],[1.0])|(1,[0],[1.0])|(1,[0],[1.0])|[-0.9833951592445...|[-11.361255374279...|\n",
      "|-0.9837167263031006|-0.18094715476036072|-0.03854243457317352|        on| 62|  M|          13|         35|          45|   19|    1000.41|  0|    0|    0|    0|        0|   0|    0|   0|  0|    0|   0|     0|         0|     0|    0|       0|  0|    0|  0|         0|         0|  0|       0|  0|  0|  0|    0|   0|   0|         0|   0|     0|           61|          1| -0.923196017742157|-0.9901689291000366|     -0.89990234375|-0.8990662097930908|-0.9627687335014343|-0.9923883676528931|-0.9933604001998901|-0.9910496473312378|-1.0081868171691895|-0.9876105785369873|-0.28260818123817444|-0.17911583185195923|-0.14429330825805664|-0.12703995406627655| -0.2866297662258148|-0.17824342846870422|-0.30040645599365234|   -0.17885722219944| -0.3147525489330292|-0.17934763431549072|-0.09713397175073624|-0.03735264018177986| 0.42360374331474304| 0.41997942328453064|-0.10673476755619049|-0.03550877049565315|-0.10713499784469604|-0.03071224503219...|-0.10267101228237152|-0.03098058886826...|           0|       0|       0|     1|     0.0|     0.0|(66,[61],[1.0])|(3,[1],[1.0])|(1,[0],[1.0])|(1,[0],[1.0])|[-0.9837167263031...|[-11.364970468296...|\n",
      "|-0.8892955183982849| -0.2744186520576477| -0.0876033753156662|       off| 62|  M|          13|         35|          45|   19|    1000.42|  0|    0|    0|    0|        0|   0|    0|   0|  0|    0|   0|     0|         0|     0|    0|       0|  0|    0|  0|         0|         0|  0|       0|  0|  0|  0|    0|   0|   0|         0|   0|     0|           61|          1| -0.981652557849884|-0.9034436345100403|-0.9837167263031006| -0.923196017742157|-0.9901689291000366|     -0.89990234375|-0.8990662097930908|-0.9627687335014343|-0.9923883676528931|-0.9933604001998901|-0.18259365856647491|-0.27790260314941406|-0.18094715476036072|-0.28260818123817444|-0.17911583185195923|-0.14429330825805664|-0.12703995406627655| -0.2866297662258148|-0.17824342846870422|-0.30040645599365234|-0.03700974211096...|-0.08977194130420685|-0.03854243457317352|-0.09713397175073624|-0.03735264018177986| 0.42360374331474304| 0.41997942328453064|-0.10673476755619049|-0.03550877049565315|-0.10713499784469604|           0|       0|       0|     1|     0.0|     1.0|(66,[61],[1.0])|(3,[1],[1.0])|(1,[0],[1.0])|    (1,[],[])|[-0.8892955183982...|[-10.274113506402...|\n",
      "|-0.9802674651145935| -0.1817736178636551|-0.03308510035276413|        on| 62|  M|          13|         35|          45|   19|    1000.43|  0|    0|    0|    0|        0|   0|    0|   0|  0|    0|   0|     0|         0|     0|    0|       0|  0|    0|  0|         0|         0|  0|       0|  0|  0|  0|    0|   0|   0|         0|   0|     0|           61|          1|-0.8892955183982849| -0.981652557849884|-0.9034436345100403|-0.9837167263031006| -0.923196017742157|-0.9901689291000366|     -0.89990234375|-0.8990662097930908|-0.9627687335014343|-0.9923883676528931| -0.2744186520576477|-0.18259365856647491|-0.27790260314941406|-0.18094715476036072|-0.28260818123817444|-0.17911583185195923|-0.14429330825805664|-0.12703995406627655| -0.2866297662258148|-0.17824342846870422| -0.0876033753156662|-0.03700974211096...|-0.08977194130420685|-0.03854243457317352|-0.09713397175073624|-0.03735264018177986| 0.42360374331474304| 0.41997942328453064|-0.10673476755619049|-0.03550877049565315|           0|       0|       0|     1|     0.0|     0.0|(66,[61],[1.0])|(3,[1],[1.0])|(1,[0],[1.0])|(1,[0],[1.0])|[-0.9802674651145...|[-11.325120834253...|\n",
      "|-0.9812465310096741|-0.18066848814487457|-0.03172431513667...|        on| 62|  M|          13|         35|          45|   19|    1000.44|  0|    0|    0|    0|        0|   0|    0|   0|  0|    0|   0|     0|         0|     0|    0|       0|  0|    0|  0|         0|         0|  0|       0|  0|  0|  0|    0|   0|   0|         0|   0|     0|           61|          1|-0.8777599930763245|-0.9802674651145935|-0.8892955183982849| -0.981652557849884|-0.9034436345100403|-0.9837167263031006| -0.923196017742157|-0.9901689291000366|     -0.89990234375|-0.8990662097930908| -0.2769339680671692| -0.1817736178636551| -0.2744186520576477|-0.18259365856647491|-0.27790260314941406|-0.18094715476036072|-0.28260818123817444|-0.17911583185195923|-0.14429330825805664|-0.12703995406627655|-0.08878140151500702|-0.03308510035276413| -0.0876033753156662|-0.03700974211096...|-0.08977194130420685|-0.03854243457317352|-0.09713397175073624|-0.03735264018177986| 0.42360374331474304| 0.41997942328453064|           0|       0|       0|     1|     0.0|     0.0|(66,[61],[1.0])|(3,[1],[1.0])|(1,[0],[1.0])|(1,[0],[1.0])|[-0.9812465310096...|[-11.336432073237...|\n",
      "|-0.8733774423599243| -0.2905704081058502|-0.08740901201963425|       off| 62|  M|          13|         35|          45|   19|    1000.44|  0|    0|    0|    0|        0|   0|    0|   0|  0|    0|   0|     0|         0|     0|    0|       0|  0|    0|  0|         0|         0|  0|       0|  0|  0|  0|    0|   0|   0|         0|   0|     0|           61|          1|-0.9812465310096741|-0.8777599930763245|-0.9802674651145935|-0.8892955183982849| -0.981652557849884|-0.9034436345100403|-0.9837167263031006| -0.923196017742157|-0.9901689291000366|     -0.89990234375|-0.18066848814487457| -0.2769339680671692| -0.1817736178636551| -0.2744186520576477|-0.18259365856647491|-0.27790260314941406|-0.18094715476036072|-0.28260818123817444|-0.17911583185195923|-0.14429330825805664|-0.03172431513667...|-0.08878140151500702|-0.03308510035276413| -0.0876033753156662|-0.03700974211096...|-0.08977194130420685|-0.03854243457317352|-0.09713397175073624|-0.03735264018177986| 0.42360374331474304|           0|       0|       0|     1|     0.0|     1.0|(66,[61],[1.0])|(3,[1],[1.0])|(1,[0],[1.0])|    (1,[],[])|[-0.8733774423599...|[-10.090210499316...|\n",
      "+-------------------+--------------------+--------------------+----------+---+---+------------+-----------+------------+-----+-----------+---+-----+-----+-----+---------+----+-----+----+---+-----+----+------+----------+------+-----+--------+---+-----+---+----------+----------+---+--------+---+---+---+-----+----+----+----------+----+------+-------------+-----------+-------------------+-------------------+-------------------+-------------------+-------------------+-------------------+-------------------+-------------------+-------------------+-------------------+--------------------+--------------------+--------------------+--------------------+--------------------+--------------------+--------------------+--------------------+--------------------+--------------------+--------------------+--------------------+--------------------+--------------------+--------------------+--------------------+--------------------+--------------------+--------------------+--------------------+------------+--------+--------+------+--------+--------+---------------+-------------+-------------+-------------+--------------------+--------------------+\n",
      "only showing top 20 rows\n",
      "\n"
     ]
    },
    {
     "name": "stderr",
     "output_type": "stream",
     "text": [
      "                                                                                \r"
     ]
    }
   ],
   "source": [
    "df2 = pipeline.fit(df2).transform(df2)\n",
    "df2.show()"
   ]
  },
  {
   "cell_type": "code",
   "execution_count": 99,
   "id": "7abfc407-dade-4444-8e12-1aec8af7458a",
   "metadata": {},
   "outputs": [],
   "source": [
    "labels = ['StartHesTrue',\n",
    " 'TurnTrue',\n",
    " 'WalkTrue',\n",
    " 'NoTrue']\n",
    "\n",
    "feats = ['scalefeats',\n",
    "    'pred67ohe',\n",
    " 'pred4ohe',\n",
    " 'SexOhe',\n",
    " 'MedOhe', \n",
    "    'AccV_lag1',\n",
    " 'AccV_lag2',\n",
    " 'AccV_lag3',\n",
    " 'AccV_lag4',\n",
    " 'AccV_lag5',\n",
    " 'AccV_lag6',\n",
    " 'AccV_lag7',\n",
    " 'AccV_lag8',\n",
    " 'AccV_lag9',\n",
    " 'AccV_lag10',\n",
    " 'AccML_lag1',\n",
    " 'AccML_lag2',\n",
    " 'AccML_lag3',\n",
    " 'AccML_lag4',\n",
    " 'AccML_lag5',\n",
    " 'AccML_lag6',\n",
    " 'AccML_lag7',\n",
    " 'AccML_lag8',\n",
    " 'AccML_lag9',\n",
    " 'AccML_lag10',\n",
    " 'AccAP_lag1',\n",
    " 'AccAP_lag2',\n",
    " 'AccAP_lag3',\n",
    " 'AccAP_lag4',\n",
    " 'AccAP_lag5',\n",
    " 'AccAP_lag6',\n",
    " 'AccAP_lag7',\n",
    " 'AccAP_lag8',\n",
    " 'AccAP_lag9',\n",
    " 'AccAP_lag10', 'MB9',\n",
    " 'Rest1',\n",
    " 'MB6-L',\n",
    " 'MB6-R',\n",
    " 'Turning-C',\n",
    " 'MB2a',\n",
    " 'MB3-L',\n",
    " 'MB12',\n",
    " 'MB5',\n",
    " 'MB3-R',\n",
    " 'MB13',\n",
    " 'TUG-DT',\n",
    " 'Turning-ST',\n",
    " 'TUG-ST',\n",
    " '4MW-C',\n",
    " 'Hotspot2',\n",
    " 'MB6',\n",
    " 'TUG-C',\n",
    " '4MW',\n",
    " 'Hotspot1-C',\n",
    " 'Hotspot2-C',\n",
    " 'MB8',\n",
    " 'Hotspot1',\n",
    " 'MB4',\n",
    " 'MB1',\n",
    " 'MB7',\n",
    " 'Rest2',\n",
    " 'MB2b',\n",
    " 'MB10',\n",
    " 'Turning-DT',\n",
    " 'MB11',\n",
    "'YearsSinceDx',\n",
    " 'UPDRSIII_On',\n",
    " 'UPDRSIII_Off',\n",
    " 'NFOGQ']"
   ]
  },
  {
   "cell_type": "markdown",
   "id": "570a3e90-bbdb-4745-86e3-c0eb2370b5cc",
   "metadata": {},
   "source": [
    "## Model Creation and Fitting"
   ]
  },
  {
   "cell_type": "code",
   "execution_count": 88,
   "id": "7caf4866-6155-43f1-a856-b38bf72108ac",
   "metadata": {},
   "outputs": [
    {
     "name": "stderr",
     "output_type": "stream",
     "text": [
      "[Stage 792:====================================================>(993 + 1) / 994]\r"
     ]
    }
   ],
   "source": [
    "def fit_models(model_name, model, train_data, test_data):\n",
    "    print(\"Begin training {}\".format(model_name))\n",
    "    model = model.fit(train_data)\n",
    "    print(\"Begin evaluation on test data\")\n",
    "    pred = model.transform(test_data)\n",
    "    \n",
    "    evaluator=MulticlassClassificationEvaluator(predictionCol=\"prediction\")\n",
    "    acc = evaluator.evaluate(pred)\n",
    "    print(\"{} Accuracy = {}\".format(model_name, acc))\n",
    "    \n",
    "    y_pred=pred.select(\"prediction\").collect()\n",
    "    y_orig=pred.select(\"label\").collect()\n",
    "\n",
    "    cm = confusion_matrix(y_orig, y_pred)\n",
    "    print(\"{} Confustion Matrix\".format(model_name))\n",
    "    print(cm)\n",
    "    \n",
    "    labacc = []\n",
    "    for lab in [0, 1.0, 2.0, 3.0]:\n",
    "        labacc.append(evaluator.evaluate(pred, {evaluator.metricName: \"truePositiveRateByLabel\",\n",
    "            evaluator.metricLabel: lab}))\n",
    "    \n",
    "    return (cm, evaluator, labacc)\n"
   ]
  },
  {
   "cell_type": "code",
   "execution_count": 109,
   "id": "5cc0f2de-b5e5-4fa5-9701-915daedd637e",
   "metadata": {},
   "outputs": [],
   "source": [
    "feats_sm = ['scalefeats',\n",
    " 'SexOhe',\n",
    " 'MedOhe', \n",
    "'YearsSinceDx',\n",
    " 'UPDRSIII_On',\n",
    " 'UPDRSIII_Off',\n",
    " 'NFOGQ']\n",
    "\n",
    "feats_med = ['scalefeats',\n",
    " 'SexOhe',\n",
    " 'MedOhe', \n",
    "    'MB9',\n",
    " 'Rest1',\n",
    " 'MB6-L',\n",
    " 'MB6-R',\n",
    " 'Turning-C',\n",
    " 'MB2a',\n",
    " 'MB3-L',\n",
    " 'MB12',\n",
    " 'MB5',\n",
    " 'MB3-R',\n",
    " 'MB13',\n",
    " 'TUG-DT',\n",
    " 'Turning-ST',\n",
    " 'TUG-ST',\n",
    " '4MW-C',\n",
    " 'Hotspot2',\n",
    " 'MB6',\n",
    " 'TUG-C',\n",
    " '4MW',\n",
    " 'Hotspot1-C',\n",
    " 'Hotspot2-C',\n",
    " 'MB8',\n",
    " 'Hotspot1',\n",
    " 'MB4',\n",
    " 'MB1',\n",
    " 'MB7',\n",
    " 'Rest2',\n",
    " 'MB2b',\n",
    " 'MB10',\n",
    " 'Turning-DT',\n",
    " 'MB11',\n",
    "'YearsSinceDx',\n",
    " 'UPDRSIII_On',\n",
    " 'UPDRSIII_Off',\n",
    " 'NFOGQ']"
   ]
  },
  {
   "cell_type": "code",
   "execution_count": null,
   "id": "eb5b4de2-6001-42c1-bf87-0e3e5b0ccd4f",
   "metadata": {},
   "outputs": [
    {
     "name": "stdout",
     "output_type": "stream",
     "text": [
      "Begin training Decision Tree - Small Features\n"
     ]
    },
    {
     "name": "stderr",
     "output_type": "stream",
     "text": [
      "23/05/22 02:55:58 WARN org.apache.spark.scheduler.DAGScheduler: Broadcasting large task binary with size 1577.8 KiB\n",
      "23/05/22 02:56:29 WARN org.apache.spark.scheduler.DAGScheduler: Broadcasting large task binary with size 1548.2 KiB\n",
      "23/05/22 02:56:30 WARN org.apache.spark.scheduler.DAGScheduler: Broadcasting large task binary with size 1548.2 KiB\n",
      "23/05/22 02:56:31 WARN org.apache.spark.scheduler.DAGScheduler: Broadcasting large task binary with size 1548.2 KiB\n",
      "23/05/22 02:56:34 WARN org.apache.spark.scheduler.DAGScheduler: Broadcasting large task binary with size 1548.3 KiB\n",
      "23/05/22 02:56:48 WARN org.apache.spark.scheduler.DAGScheduler: Broadcasting large task binary with size 1555.6 KiB\n",
      "23/05/22 02:56:59 WARN org.apache.spark.scheduler.DAGScheduler: Broadcasting large task binary with size 1555.3 KiB\n",
      "23/05/22 02:57:08 WARN org.apache.spark.scheduler.DAGScheduler: Broadcasting large task binary with size 1556.1 KiB\n",
      "23/05/22 02:57:11 WARN org.apache.spark.scheduler.DAGScheduler: Broadcasting large task binary with size 1556.9 KiB\n",
      "23/05/22 02:57:14 WARN org.apache.spark.scheduler.DAGScheduler: Broadcasting large task binary with size 1558.0 KiB\n",
      "23/05/22 02:57:17 WARN org.apache.spark.scheduler.DAGScheduler: Broadcasting large task binary with size 1560.7 KiB\n",
      "                                                                                \r"
     ]
    },
    {
     "name": "stdout",
     "output_type": "stream",
     "text": [
      "Begin evaluation on test data\n"
     ]
    },
    {
     "name": "stderr",
     "output_type": "stream",
     "text": [
      "23/05/22 02:57:22 WARN org.apache.spark.scheduler.DAGScheduler: Broadcasting large task binary with size 1571.2 KiB\n",
      "                                                                                \r"
     ]
    },
    {
     "name": "stdout",
     "output_type": "stream",
     "text": [
      "Decision Tree - Small Features Accuracy = 0.8247968460751594\n"
     ]
    },
    {
     "name": "stderr",
     "output_type": "stream",
     "text": [
      "23/05/22 02:57:33 WARN org.apache.spark.scheduler.DAGScheduler: Broadcasting large task binary with size 1591.6 KiB\n",
      "23/05/22 02:57:46 WARN org.apache.spark.scheduler.DAGScheduler: Broadcasting large task binary with size 1568.8 KiB\n",
      "                                                                                \r"
     ]
    },
    {
     "name": "stdout",
     "output_type": "stream",
     "text": [
      "Decision Tree - Small Features Confustion Matrix\n",
      "[[357511      0  29768      0]\n",
      " [     3      0     16      0]\n",
      " [ 34188      0  48621      0]\n",
      " [ 11817      0   2326      0]]\n"
     ]
    },
    {
     "name": "stderr",
     "output_type": "stream",
     "text": [
      "23/05/22 02:58:22 WARN org.apache.spark.scheduler.DAGScheduler: Broadcasting large task binary with size 1571.4 KiB\n",
      "23/05/22 02:58:32 WARN org.apache.spark.scheduler.DAGScheduler: Broadcasting large task binary with size 1571.4 KiB\n",
      "23/05/22 02:58:42 WARN org.apache.spark.scheduler.DAGScheduler: Broadcasting large task binary with size 1571.4 KiB\n",
      "23/05/22 02:58:52 WARN org.apache.spark.scheduler.DAGScheduler: Broadcasting large task binary with size 1571.4 KiB\n",
      "                                                                                \r"
     ]
    },
    {
     "name": "stdout",
     "output_type": "stream",
     "text": [
      "Begin training Random Forest - Small Features\n"
     ]
    },
    {
     "name": "stderr",
     "output_type": "stream",
     "text": [
      "23/05/22 02:59:04 WARN org.apache.spark.scheduler.DAGScheduler: Broadcasting large task binary with size 1577.8 KiB\n",
      "23/05/22 02:59:14 WARN org.apache.spark.scheduler.DAGScheduler: Broadcasting large task binary with size 1548.2 KiB\n",
      "23/05/22 02:59:14 WARN org.apache.spark.scheduler.DAGScheduler: Broadcasting large task binary with size 1548.2 KiB\n",
      "23/05/22 02:59:14 WARN org.apache.spark.scheduler.DAGScheduler: Broadcasting large task binary with size 1548.2 KiB\n",
      "23/05/22 02:59:15 WARN org.apache.spark.scheduler.DAGScheduler: Broadcasting large task binary with size 1548.3 KiB\n",
      "23/05/22 02:59:22 WARN org.apache.spark.scheduler.DAGScheduler: Broadcasting large task binary with size 1555.6 KiB\n",
      "23/05/22 02:59:30 WARN org.apache.spark.scheduler.DAGScheduler: Broadcasting large task binary with size 1557.1 KiB\n",
      "23/05/22 02:59:39 WARN org.apache.spark.scheduler.DAGScheduler: Broadcasting large task binary with size 1565.0 KiB\n",
      "23/05/22 02:59:43 WARN org.apache.spark.scheduler.DAGScheduler: Broadcasting large task binary with size 1578.5 KiB\n",
      "23/05/22 02:59:48 WARN org.apache.spark.scheduler.DAGScheduler: Broadcasting large task binary with size 1605.4 KiB\n",
      "23/05/22 02:59:53 WARN org.apache.spark.scheduler.DAGScheduler: Broadcasting large task binary with size 1658.6 KiB\n",
      "                                                                                \r"
     ]
    },
    {
     "name": "stdout",
     "output_type": "stream",
     "text": [
      "Begin evaluation on test data\n"
     ]
    },
    {
     "name": "stderr",
     "output_type": "stream",
     "text": [
      "23/05/22 03:00:06 WARN org.apache.spark.scheduler.DAGScheduler: Broadcasting large task binary with size 1658.8 KiB\n",
      "                                                                                \r"
     ]
    },
    {
     "name": "stdout",
     "output_type": "stream",
     "text": [
      "Random Forest - Small Features Accuracy = 0.7894456564611825\n"
     ]
    },
    {
     "name": "stderr",
     "output_type": "stream",
     "text": [
      "23/05/22 03:00:17 WARN org.apache.spark.scheduler.DAGScheduler: Broadcasting large task binary with size 1679.3 KiB\n",
      "23/05/22 03:00:28 WARN org.apache.spark.scheduler.DAGScheduler: Broadcasting large task binary with size 1568.8 KiB\n",
      "                                                                                \r"
     ]
    },
    {
     "name": "stdout",
     "output_type": "stream",
     "text": [
      "Random Forest - Small Features Confustion Matrix\n",
      "[[380158      0   7121      0]\n",
      " [    19      0      0      0]\n",
      " [ 60734      0  22075      0]\n",
      " [ 13526      0    617      0]]\n"
     ]
    },
    {
     "name": "stderr",
     "output_type": "stream",
     "text": [
      "23/05/22 03:01:05 WARN org.apache.spark.scheduler.DAGScheduler: Broadcasting large task binary with size 1659.0 KiB\n",
      "23/05/22 03:01:15 WARN org.apache.spark.scheduler.DAGScheduler: Broadcasting large task binary with size 1659.0 KiB\n",
      "23/05/22 03:01:25 WARN org.apache.spark.scheduler.DAGScheduler: Broadcasting large task binary with size 1659.0 KiB\n",
      "23/05/22 03:01:34 WARN org.apache.spark.scheduler.DAGScheduler: Broadcasting large task binary with size 1659.0 KiB\n",
      "                                                                                \r"
     ]
    },
    {
     "name": "stdout",
     "output_type": "stream",
     "text": [
      "Begin training Decision Tree - Medium Features\n"
     ]
    },
    {
     "name": "stderr",
     "output_type": "stream",
     "text": [
      "23/05/22 03:01:48 WARN org.apache.spark.scheduler.DAGScheduler: Broadcasting large task binary with size 2.7 MiB\n",
      "23/05/22 03:02:06 ERROR org.apache.spark.scheduler.AsyncEventQueue: Dropping event from queue dataprocEvent. This likely means one of the listeners is too slow and cannot keep up with the rate at which tasks are being started by the scheduler.\n",
      "23/05/22 03:02:06 WARN org.apache.spark.scheduler.AsyncEventQueue: Dropped 1 events from dataprocEvent since the application started.\n",
      "23/05/22 03:02:07 WARN org.apache.spark.scheduler.DAGScheduler: Broadcasting large task binary with size 2.6 MiB\n",
      "23/05/22 03:02:08 WARN org.apache.spark.scheduler.DAGScheduler: Broadcasting large task binary with size 2.6 MiB\n",
      "23/05/22 03:02:08 WARN org.apache.spark.scheduler.DAGScheduler: Broadcasting large task binary with size 2.6 MiB\n",
      "23/05/22 03:02:11 WARN org.apache.spark.scheduler.DAGScheduler: Broadcasting large task binary with size 2.6 MiB\n",
      "23/05/22 03:02:25 WARN org.apache.spark.scheduler.DAGScheduler: Broadcasting large task binary with size 2.6 MiB\n",
      "23/05/22 03:02:38 WARN org.apache.spark.scheduler.DAGScheduler: Broadcasting large task binary with size 2.6 MiB\n",
      "23/05/22 03:02:51 WARN org.apache.spark.scheduler.DAGScheduler: Broadcasting large task binary with size 2.6 MiB\n",
      "23/05/22 03:02:55 WARN org.apache.spark.scheduler.DAGScheduler: Broadcasting large task binary with size 2.6 MiB\n",
      "23/05/22 03:02:58 WARN org.apache.spark.scheduler.DAGScheduler: Broadcasting large task binary with size 2.6 MiB\n",
      "23/05/22 03:03:01 WARN org.apache.spark.scheduler.DAGScheduler: Broadcasting large task binary with size 2.6 MiB\n",
      "                                                                                \r"
     ]
    },
    {
     "name": "stdout",
     "output_type": "stream",
     "text": [
      "Begin evaluation on test data\n"
     ]
    },
    {
     "name": "stderr",
     "output_type": "stream",
     "text": [
      "23/05/22 03:03:06 WARN org.apache.spark.scheduler.AsyncEventQueue: Dropped 56 events from dataprocEvent since Mon May 22 03:02:06 UTC 2023.\n",
      "23/05/22 03:03:07 WARN org.apache.spark.scheduler.DAGScheduler: Broadcasting large task binary with size 2.6 MiB\n",
      "                                                                                \r"
     ]
    },
    {
     "name": "stdout",
     "output_type": "stream",
     "text": [
      "Decision Tree - Medium Features Accuracy = 0.9224787280045985\n"
     ]
    },
    {
     "name": "stderr",
     "output_type": "stream",
     "text": [
      "23/05/22 03:03:24 WARN org.apache.spark.scheduler.DAGScheduler: Broadcasting large task binary with size 2.7 MiB\n",
      "23/05/22 03:03:41 WARN org.apache.spark.scheduler.DAGScheduler: Broadcasting large task binary with size 2.7 MiB\n",
      "                                                                                \r"
     ]
    },
    {
     "name": "stdout",
     "output_type": "stream",
     "text": [
      "Decision Tree - Medium Features Confustion Matrix\n",
      "[[366441      0  16106   4732]\n",
      " [     0      0      0     11]\n",
      " [  9895      0  71806   1160]\n",
      " [  5824      0     92   8183]]\n"
     ]
    },
    {
     "name": "stderr",
     "output_type": "stream",
     "text": [
      "23/05/22 03:04:22 WARN org.apache.spark.scheduler.AsyncEventQueue: Dropped 152 events from dataprocEvent since Mon May 22 03:03:06 UTC 2023.\n",
      "23/05/22 03:04:24 WARN org.apache.spark.scheduler.DAGScheduler: Broadcasting large task binary with size 2.6 MiB\n",
      "23/05/22 03:04:39 WARN org.apache.spark.scheduler.DAGScheduler: Broadcasting large task binary with size 2.6 MiB\n",
      "23/05/22 03:04:56 WARN org.apache.spark.scheduler.DAGScheduler: Broadcasting large task binary with size 2.6 MiB\n",
      "23/05/22 03:05:11 WARN org.apache.spark.scheduler.DAGScheduler: Broadcasting large task binary with size 2.6 MiB\n",
      "                                                                                \r"
     ]
    },
    {
     "name": "stdout",
     "output_type": "stream",
     "text": [
      "Begin training Random Forest - Medium Features\n"
     ]
    },
    {
     "name": "stderr",
     "output_type": "stream",
     "text": [
      "23/05/22 03:05:24 WARN org.apache.spark.scheduler.AsyncEventQueue: Dropped 232 events from dataprocEvent since Mon May 22 03:04:22 UTC 2023.\n",
      "23/05/22 03:05:29 WARN org.apache.spark.scheduler.DAGScheduler: Broadcasting large task binary with size 2.7 MiB\n",
      "23/05/22 03:05:43 WARN org.apache.spark.scheduler.DAGScheduler: Broadcasting large task binary with size 2.6 MiB\n",
      "23/05/22 03:05:43 WARN org.apache.spark.scheduler.DAGScheduler: Broadcasting large task binary with size 2.6 MiB\n",
      "23/05/22 03:05:43 WARN org.apache.spark.scheduler.DAGScheduler: Broadcasting large task binary with size 2.6 MiB\n",
      "23/05/22 03:05:46 WARN org.apache.spark.scheduler.DAGScheduler: Broadcasting large task binary with size 2.6 MiB\n",
      "23/05/22 03:05:57 WARN org.apache.spark.scheduler.DAGScheduler: Broadcasting large task binary with size 2.6 MiB\n",
      "23/05/22 03:06:08 WARN org.apache.spark.scheduler.DAGScheduler: Broadcasting large task binary with size 2.6 MiB\n",
      "23/05/22 03:06:21 WARN org.apache.spark.scheduler.DAGScheduler: Broadcasting large task binary with size 2.6 MiB\n",
      "23/05/22 03:06:25 WARN org.apache.spark.scheduler.DAGScheduler: Broadcasting large task binary with size 2.6 MiB\n",
      "23/05/22 03:06:31 WARN org.apache.spark.scheduler.DAGScheduler: Broadcasting large task binary with size 2.7 MiB\n",
      "23/05/22 03:06:38 WARN org.apache.spark.scheduler.DAGScheduler: Broadcasting large task binary with size 2.7 MiB\n",
      "23/05/22 03:06:47 WARN org.apache.spark.scheduler.AsyncEventQueue: Dropped 174 events from dataprocEvent since Mon May 22 03:05:24 UTC 2023.\n"
     ]
    },
    {
     "name": "stdout",
     "output_type": "stream",
     "text": [
      "Begin evaluation on test data\n"
     ]
    },
    {
     "name": "stderr",
     "output_type": "stream",
     "text": [
      "23/05/22 03:06:51 WARN org.apache.spark.scheduler.DAGScheduler: Broadcasting large task binary with size 2.7 MiB\n",
      "                                                                                \r"
     ]
    },
    {
     "name": "stdout",
     "output_type": "stream",
     "text": [
      "Random Forest - Medium Features Accuracy = 0.8949546204016056\n"
     ]
    },
    {
     "name": "stderr",
     "output_type": "stream",
     "text": [
      "23/05/22 03:07:05 WARN org.apache.spark.scheduler.DAGScheduler: Broadcasting large task binary with size 2.8 MiB\n",
      "23/05/22 03:07:19 WARN org.apache.spark.scheduler.DAGScheduler: Broadcasting large task binary with size 2.7 MiB\n",
      "                                                                                \r"
     ]
    },
    {
     "name": "stdout",
     "output_type": "stream",
     "text": [
      "Random Forest - Medium Features Confustion Matrix\n",
      "[[375466      0  11813      0]\n",
      " [    11      0      0      0]\n",
      " [ 17885      0  64976      0]\n",
      " [ 14013      0     86      0]]\n"
     ]
    },
    {
     "name": "stderr",
     "output_type": "stream",
     "text": [
      "23/05/22 03:07:57 WARN org.apache.spark.scheduler.AsyncEventQueue: Dropped 232 events from dataprocEvent since Mon May 22 03:06:47 UTC 2023.\n",
      "23/05/22 03:07:58 WARN org.apache.spark.scheduler.DAGScheduler: Broadcasting large task binary with size 2.7 MiB\n",
      "23/05/22 03:08:12 WARN org.apache.spark.scheduler.DAGScheduler: Broadcasting large task binary with size 2.7 MiB\n",
      "23/05/22 03:08:26 WARN org.apache.spark.scheduler.DAGScheduler: Broadcasting large task binary with size 2.7 MiB\n",
      "23/05/22 03:08:39 WARN org.apache.spark.scheduler.DAGScheduler: Broadcasting large task binary with size 2.7 MiB\n",
      "                                                                                \r"
     ]
    },
    {
     "name": "stdout",
     "output_type": "stream",
     "text": [
      "Begin training Decision Tree - Full Features\n"
     ]
    },
    {
     "name": "stderr",
     "output_type": "stream",
     "text": [
      "23/05/22 03:08:58 WARN org.apache.spark.scheduler.AsyncEventQueue: Dropped 290 events from dataprocEvent since Mon May 22 03:07:57 UTC 2023.\n",
      "23/05/22 03:08:59 WARN org.apache.spark.scheduler.DAGScheduler: Broadcasting large task binary with size 3.9 MiB\n",
      "23/05/22 03:09:44 WARN org.apache.spark.scheduler.DAGScheduler: Broadcasting large task binary with size 3.8 MiB\n",
      "23/05/22 03:09:44 WARN org.apache.spark.scheduler.DAGScheduler: Broadcasting large task binary with size 3.8 MiB\n",
      "23/05/22 03:09:45 WARN org.apache.spark.scheduler.DAGScheduler: Broadcasting large task binary with size 3.8 MiB\n",
      "23/05/22 03:09:51 WARN org.apache.spark.scheduler.DAGScheduler: Broadcasting large task binary with size 3.8 MiB\n",
      "23/05/22 03:10:27 WARN org.apache.spark.scheduler.DAGScheduler: Broadcasting large task binary with size 3.8 MiB\n",
      "23/05/22 03:11:04 WARN org.apache.spark.scheduler.DAGScheduler: Broadcasting large task binary with size 3.8 MiB\n",
      "23/05/22 03:11:51 WARN org.apache.spark.scheduler.DAGScheduler: Broadcasting large task binary with size 3.8 MiB\n",
      "23/05/22 03:11:58 WARN org.apache.spark.scheduler.DAGScheduler: Broadcasting large task binary with size 3.8 MiB\n",
      "23/05/22 03:12:04 WARN org.apache.spark.scheduler.DAGScheduler: Broadcasting large task binary with size 3.8 MiB\n",
      "23/05/22 03:12:11 WARN org.apache.spark.scheduler.DAGScheduler: Broadcasting large task binary with size 3.8 MiB\n",
      "                                                                                \r"
     ]
    },
    {
     "name": "stdout",
     "output_type": "stream",
     "text": [
      "Begin evaluation on test data\n"
     ]
    },
    {
     "name": "stderr",
     "output_type": "stream",
     "text": [
      "23/05/22 03:12:19 WARN org.apache.spark.scheduler.AsyncEventQueue: Dropped 116 events from dataprocEvent since Mon May 22 03:08:58 UTC 2023.\n",
      "23/05/22 03:12:21 WARN org.apache.spark.scheduler.DAGScheduler: Broadcasting large task binary with size 3.8 MiB\n",
      "                                                                                \r"
     ]
    },
    {
     "name": "stdout",
     "output_type": "stream",
     "text": [
      "Decision Tree - Full Features Accuracy = 0.9221715788126652\n"
     ]
    },
    {
     "name": "stderr",
     "output_type": "stream",
     "text": [
      "23/05/22 03:12:54 WARN org.apache.spark.scheduler.DAGScheduler: Broadcasting large task binary with size 3.9 MiB\n",
      "23/05/22 03:13:26 WARN org.apache.spark.scheduler.AsyncEventQueue: Dropped 116 events from dataprocEvent since Mon May 22 03:12:19 UTC 2023.\n",
      "23/05/22 03:13:28 WARN org.apache.spark.scheduler.DAGScheduler: Broadcasting large task binary with size 3.9 MiB\n",
      "                                                                                \r"
     ]
    },
    {
     "name": "stdout",
     "output_type": "stream",
     "text": [
      "Decision Tree - Full Features Confustion Matrix\n",
      "[[366167      0  16360   4752]\n",
      " [     0      0      0     11]\n",
      " [  9787      0  71900   1148]\n",
      " [  5839      0     92   8194]]\n"
     ]
    },
    {
     "name": "stderr",
     "output_type": "stream",
     "text": [
      "23/05/22 03:14:24 WARN org.apache.spark.scheduler.DAGScheduler: Broadcasting large task binary with size 3.8 MiB\n",
      "23/05/22 03:14:53 WARN org.apache.spark.scheduler.AsyncEventQueue: Dropped 116 events from dataprocEvent since Mon May 22 03:13:26 UTC 2023.\n",
      "23/05/22 03:14:55 WARN org.apache.spark.scheduler.DAGScheduler: Broadcasting large task binary with size 3.8 MiB\n",
      "23/05/22 03:15:26 WARN org.apache.spark.scheduler.DAGScheduler: Broadcasting large task binary with size 3.8 MiB\n",
      "23/05/22 03:15:58 WARN org.apache.spark.scheduler.AsyncEventQueue: Dropped 116 events from dataprocEvent since Mon May 22 03:14:53 UTC 2023.\n",
      "23/05/22 03:15:59 WARN org.apache.spark.scheduler.DAGScheduler: Broadcasting large task binary with size 3.8 MiB\n",
      "                                                                                \r"
     ]
    },
    {
     "name": "stdout",
     "output_type": "stream",
     "text": [
      "Begin training Random Forest - Full Features\n"
     ]
    },
    {
     "name": "stderr",
     "output_type": "stream",
     "text": [
      "23/05/22 03:16:35 WARN org.apache.spark.scheduler.DAGScheduler: Broadcasting large task binary with size 3.9 MiB\n",
      "23/05/22 03:17:00 WARN org.apache.spark.scheduler.AsyncEventQueue: Dropped 174 events from dataprocEvent since Mon May 22 03:15:58 UTC 2023.\n",
      "23/05/22 03:17:02 WARN org.apache.spark.scheduler.DAGScheduler: Broadcasting large task binary with size 3.8 MiB\n",
      "23/05/22 03:17:02 WARN org.apache.spark.scheduler.DAGScheduler: Broadcasting large task binary with size 3.8 MiB\n",
      "23/05/22 03:17:03 WARN org.apache.spark.scheduler.DAGScheduler: Broadcasting large task binary with size 3.8 MiB\n",
      "23/05/22 03:17:10 WARN org.apache.spark.scheduler.DAGScheduler: Broadcasting large task binary with size 3.8 MiB\n",
      "23/05/22 03:17:35 WARN org.apache.spark.scheduler.DAGScheduler: Broadcasting large task binary with size 3.8 MiB\n",
      "23/05/22 03:18:05 WARN org.apache.spark.scheduler.DAGScheduler: Broadcasting large task binary with size 3.8 MiB\n",
      "23/05/22 03:18:39 WARN org.apache.spark.scheduler.DAGScheduler: Broadcasting large task binary with size 3.8 MiB\n",
      "23/05/22 03:18:49 WARN org.apache.spark.scheduler.DAGScheduler: Broadcasting large task binary with size 3.9 MiB\n",
      "23/05/22 03:18:59 WARN org.apache.spark.scheduler.DAGScheduler: Broadcasting large task binary with size 3.9 MiB\n",
      "23/05/22 03:19:09 WARN org.apache.spark.scheduler.DAGScheduler: Broadcasting large task binary with size 3.9 MiB\n",
      "23/05/22 03:19:25 WARN org.apache.spark.scheduler.AsyncEventQueue: Dropped 58 events from dataprocEvent since Mon May 22 03:17:00 UTC 2023.\n"
     ]
    },
    {
     "name": "stdout",
     "output_type": "stream",
     "text": [
      "Begin evaluation on test data\n"
     ]
    },
    {
     "name": "stderr",
     "output_type": "stream",
     "text": [
      "23/05/22 03:19:30 WARN org.apache.spark.scheduler.DAGScheduler: Broadcasting large task binary with size 3.9 MiB\n",
      "[Stage 1219:===================================================>(993 + 1) / 994]\r"
     ]
    },
    {
     "name": "stdout",
     "output_type": "stream",
     "text": [
      "Random Forest - Full Features Accuracy = 0.7676724921861194\n"
     ]
    },
    {
     "name": "stderr",
     "output_type": "stream",
     "text": [
      "23/05/22 03:19:56 WARN org.apache.spark.scheduler.DAGScheduler: Broadcasting large task binary with size 4.0 MiB\n",
      "23/05/22 03:20:28 WARN org.apache.spark.scheduler.AsyncEventQueue: Dropped 174 events from dataprocEvent since Mon May 22 03:19:25 UTC 2023.\n",
      "23/05/22 03:20:30 WARN org.apache.spark.scheduler.DAGScheduler: Broadcasting large task binary with size 3.9 MiB\n",
      "                                                                                \r"
     ]
    },
    {
     "name": "stdout",
     "output_type": "stream",
     "text": [
      "Random Forest - Full Features Confustion Matrix\n",
      "[[386443      0    836      0]\n",
      " [    11      0      0      0]\n",
      " [ 69580      0  13255      0]\n",
      " [ 14125      0      0      0]]\n"
     ]
    },
    {
     "name": "stderr",
     "output_type": "stream",
     "text": [
      "23/05/22 03:21:26 WARN org.apache.spark.scheduler.DAGScheduler: Broadcasting large task binary with size 3.9 MiB\n",
      "23/05/22 03:21:59 WARN org.apache.spark.scheduler.AsyncEventQueue: Dropped 116 events from dataprocEvent since Mon May 22 03:20:28 UTC 2023.\n",
      "23/05/22 03:22:01 WARN org.apache.spark.scheduler.DAGScheduler: Broadcasting large task binary with size 3.9 MiB\n",
      "23/05/22 03:22:28 WARN org.apache.spark.scheduler.DAGScheduler: Broadcasting large task binary with size 3.9 MiB\n",
      "23/05/22 03:22:59 WARN org.apache.spark.scheduler.DAGScheduler: Broadcasting large task binary with size 3.9 MiB\n",
      "                                                                                \r"
     ]
    }
   ],
   "source": [
    "matrices = []\n",
    "evals = []\n",
    "acc_labels = []\n",
    "for feat_list in [feats_sm, feats_med, feats]:\n",
    "    if feat_list == feats_sm:\n",
    "        name = \"Small\"\n",
    "    elif feat_list == feats_med:\n",
    "        name = \"Medium\"\n",
    "    else:\n",
    "        name = \"Full\"\n",
    "    featassemble_tmp = VectorAssembler(inputCols=feat_list, outputCol = 'features')\n",
    "    assembled_data_tmp = featassemble_tmp.transform(df2)\n",
    "    assembled_data_tmp = assembled_data_tmp.select(\"features\",'StartHesTrue','TurnTrue',\n",
    "                                                   'WalkTrue','NoTrue','target')\n",
    "    data_tmp = assembled_data_tmp.withColumn(\"label\", assembled_data_tmp.target)\n",
    "    \n",
    "    splits = data_tmp.randomSplit([0.8,0.2],1)\n",
    "    train_df = splits[0]\n",
    "    test_df = splits[1]\n",
    "    \n",
    "    dtc = DecisionTreeClassifier(featuresCol=\"features\", labelCol=\"target\")\n",
    "    rf = RandomForestClassifier(featuresCol = 'features', labelCol = 'target')\n",
    "\n",
    "    dtc_cm, dtc_eval, dtc_label_acc = fit_models(\"Decision Tree - {} Features\".format(name)\n",
    "                                                 , dtc, train_df, test_df)\n",
    "    rf_cm, rf_eval, rf_label_acc = fit_models(\"Random Forest - {} Features\".format(name), \n",
    "                                              rf, train_df, test_df)\n",
    "    \n",
    "    matrices.append([dtc_cm, rf_cm])\n",
    "    evals.append([dtc_eval, rf_eval])\n",
    "    acc_labels.append([dtc_label_acc, rf_label_acc])"
   ]
  },
  {
   "cell_type": "code",
   "execution_count": 114,
   "id": "91bf3fd6-a513-468b-af4e-371849f457d3",
   "metadata": {},
   "outputs": [
    {
     "data": {
      "text/plain": [
       "[[[0.9231355172885697, 0.0, 0.5871463246748542, 0.0],\n",
       "  [0.9816127391363849, 0.0, 0.2665773043992803, 0.0]],\n",
       " [[0.9461938292548783, 0.0, 0.8665837969611759, 0.5803957727498404],\n",
       "  [0.9694974424123177, 0.0, 0.78415659960657, 0.0]],\n",
       " [[0.9454863289773006, 0.0, 0.867990583690469, 0.5801061946902655],\n",
       "  [0.9978413495180477, 0.0, 0.16001690106838898, 0.0]]]"
      ]
     },
     "execution_count": 114,
     "metadata": {},
     "output_type": "execute_result"
    }
   ],
   "source": [
    "acc_labels"
   ]
  }
 ],
 "metadata": {
  "kernelspec": {
   "display_name": "PySpark",
   "language": "python",
   "name": "pyspark"
  },
  "language_info": {
   "codemirror_mode": {
    "name": "ipython",
    "version": 3
   },
   "file_extension": ".py",
   "mimetype": "text/x-python",
   "name": "python",
   "nbconvert_exporter": "python",
   "pygments_lexer": "ipython3",
   "version": "3.8.15"
  }
 },
 "nbformat": 4,
 "nbformat_minor": 5
}
