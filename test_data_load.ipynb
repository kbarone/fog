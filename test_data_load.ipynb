{
 "cells": [
  {
   "cell_type": "markdown",
   "id": "101570ab-4fdf-4edf-ae16-a8e94c3e370a",
   "metadata": {},
   "source": [
    "# Exploratory Analysis"
   ]
  },
  {
   "cell_type": "code",
   "execution_count": 1,
   "id": "8628dc29-f078-431b-90ee-14feb84f1ebf",
   "metadata": {},
   "outputs": [],
   "source": [
    "spark = SparkSession.builder.appName(\"PySpark Cloud Test\").getOrCreate()"
   ]
  },
  {
   "cell_type": "code",
   "execution_count": 3,
   "id": "60f96220-a781-42c1-b3cd-f56b3cfd124d",
   "metadata": {},
   "outputs": [],
   "source": [
    "sample_submission = spark.read.csv(\"gs://msca-bdp-student-gcs/parkinsons_data/sample_submission.csv\")"
   ]
  },
  {
   "cell_type": "code",
   "execution_count": 4,
   "id": "d02c75b1-1b45-4ab9-bb70-d9b8a3724a7f",
   "metadata": {},
   "outputs": [
    {
     "name": "stdout",
     "output_type": "stream",
     "text": [
      "+------------+---------------+----+-------+\n",
      "|         _c0|            _c1| _c2|    _c3|\n",
      "+------------+---------------+----+-------+\n",
      "|          Id|StartHesitation|Turn|Walking|\n",
      "|003f117e14_0|              0|   0|      0|\n",
      "|003f117e14_1|              0|   0|      0|\n",
      "|003f117e14_2|              0|   0|      0|\n",
      "|003f117e14_3|              0|   0|      0|\n",
      "+------------+---------------+----+-------+\n",
      "only showing top 5 rows\n",
      "\n"
     ]
    }
   ],
   "source": [
    "sample_submission.show(5)"
   ]
  },
  {
   "cell_type": "code",
   "execution_count": null,
   "id": "31639589-5a9b-4582-99d2-930dc916c092",
   "metadata": {},
   "outputs": [],
   "source": []
  }
 ],
 "metadata": {
  "kernelspec": {
   "display_name": "PySpark (Local)",
   "language": "python",
   "name": "local-pyspark"
  },
  "language_info": {
   "codemirror_mode": {
    "name": "ipython",
    "version": 3
   },
   "file_extension": ".py",
   "mimetype": "text/x-python",
   "name": "python",
   "nbconvert_exporter": "python",
   "pygments_lexer": "ipython3",
   "version": "3.7.12"
  }
 },
 "nbformat": 4,
 "nbformat_minor": 5
}
